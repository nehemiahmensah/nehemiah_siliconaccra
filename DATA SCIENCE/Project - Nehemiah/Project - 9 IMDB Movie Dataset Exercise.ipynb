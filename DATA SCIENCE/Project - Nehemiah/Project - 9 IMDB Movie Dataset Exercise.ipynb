{
 "cells": [
  {
   "cell_type": "markdown",
   "metadata": {},
   "source": [
    "https://www.kaggle.com/PromptCloudHQ/imdb-data"
   ]
  },
  {
   "cell_type": "markdown",
   "metadata": {},
   "source": [
    "### IMDB data from 2006 to 2016"
   ]
  },
  {
   "cell_type": "raw",
   "metadata": {},
   "source": [
    "Here's a data set of 1,000 most popular movies on IMDB in the last 10 years. The data points included are:\n",
    "\n",
    "Title, Genre, Description, Director, Actors, Year, Runtime, Rating, Votes, Revenue, Metascrore"
   ]
  },
  {
   "cell_type": "code",
   "execution_count": 308,
   "metadata": {
    "tags": []
   },
   "outputs": [],
   "source": [
    "import pandas as pd\n",
    "import seaborn as sns\n",
    "import numpy as np\n",
    "import matplotlib.pyplot as plt"
   ]
  },
  {
   "cell_type": "code",
   "execution_count": 309,
   "metadata": {
    "tags": []
   },
   "outputs": [],
   "source": [
    "data=pd.read_csv('IMDB-Movie-Data.csv')\n",
    "df = data"
   ]
  },
  {
   "cell_type": "markdown",
   "metadata": {
    "tags": []
   },
   "source": [
    "### 1. Display Top 10 Rows of The Dataset"
   ]
  },
  {
   "cell_type": "code",
   "execution_count": 310,
   "metadata": {
    "tags": []
   },
   "outputs": [
    {
     "data": {
      "text/html": [
       "<div>\n",
       "<style scoped>\n",
       "    .dataframe tbody tr th:only-of-type {\n",
       "        vertical-align: middle;\n",
       "    }\n",
       "\n",
       "    .dataframe tbody tr th {\n",
       "        vertical-align: top;\n",
       "    }\n",
       "\n",
       "    .dataframe thead th {\n",
       "        text-align: right;\n",
       "    }\n",
       "</style>\n",
       "<table border=\"1\" class=\"dataframe\">\n",
       "  <thead>\n",
       "    <tr style=\"text-align: right;\">\n",
       "      <th></th>\n",
       "      <th>Rank</th>\n",
       "      <th>Title</th>\n",
       "      <th>Genre</th>\n",
       "      <th>Description</th>\n",
       "      <th>Director</th>\n",
       "      <th>Actors</th>\n",
       "      <th>Year</th>\n",
       "      <th>Runtime (Minutes)</th>\n",
       "      <th>Rating</th>\n",
       "      <th>Votes</th>\n",
       "      <th>Revenue (Millions)</th>\n",
       "      <th>Metascore</th>\n",
       "    </tr>\n",
       "  </thead>\n",
       "  <tbody>\n",
       "    <tr>\n",
       "      <th>0</th>\n",
       "      <td>1</td>\n",
       "      <td>Guardians of the Galaxy</td>\n",
       "      <td>Action,Adventure,Sci-Fi</td>\n",
       "      <td>A group of intergalactic criminals are forced ...</td>\n",
       "      <td>James Gunn</td>\n",
       "      <td>Chris Pratt, Vin Diesel, Bradley Cooper, Zoe S...</td>\n",
       "      <td>2014</td>\n",
       "      <td>121</td>\n",
       "      <td>8.1</td>\n",
       "      <td>757074</td>\n",
       "      <td>333.13</td>\n",
       "      <td>76.0</td>\n",
       "    </tr>\n",
       "    <tr>\n",
       "      <th>1</th>\n",
       "      <td>2</td>\n",
       "      <td>Prometheus</td>\n",
       "      <td>Adventure,Mystery,Sci-Fi</td>\n",
       "      <td>Following clues to the origin of mankind, a te...</td>\n",
       "      <td>Ridley Scott</td>\n",
       "      <td>Noomi Rapace, Logan Marshall-Green, Michael Fa...</td>\n",
       "      <td>2012</td>\n",
       "      <td>124</td>\n",
       "      <td>7.0</td>\n",
       "      <td>485820</td>\n",
       "      <td>126.46</td>\n",
       "      <td>65.0</td>\n",
       "    </tr>\n",
       "    <tr>\n",
       "      <th>2</th>\n",
       "      <td>3</td>\n",
       "      <td>Split</td>\n",
       "      <td>Horror,Thriller</td>\n",
       "      <td>Three girls are kidnapped by a man with a diag...</td>\n",
       "      <td>M. Night Shyamalan</td>\n",
       "      <td>James McAvoy, Anya Taylor-Joy, Haley Lu Richar...</td>\n",
       "      <td>2016</td>\n",
       "      <td>117</td>\n",
       "      <td>7.3</td>\n",
       "      <td>157606</td>\n",
       "      <td>138.12</td>\n",
       "      <td>62.0</td>\n",
       "    </tr>\n",
       "    <tr>\n",
       "      <th>3</th>\n",
       "      <td>4</td>\n",
       "      <td>Sing</td>\n",
       "      <td>Animation,Comedy,Family</td>\n",
       "      <td>In a city of humanoid animals, a hustling thea...</td>\n",
       "      <td>Christophe Lourdelet</td>\n",
       "      <td>Matthew McConaughey,Reese Witherspoon, Seth Ma...</td>\n",
       "      <td>2016</td>\n",
       "      <td>108</td>\n",
       "      <td>7.2</td>\n",
       "      <td>60545</td>\n",
       "      <td>270.32</td>\n",
       "      <td>59.0</td>\n",
       "    </tr>\n",
       "    <tr>\n",
       "      <th>4</th>\n",
       "      <td>5</td>\n",
       "      <td>Suicide Squad</td>\n",
       "      <td>Action,Adventure,Fantasy</td>\n",
       "      <td>A secret government agency recruits some of th...</td>\n",
       "      <td>David Ayer</td>\n",
       "      <td>Will Smith, Jared Leto, Margot Robbie, Viola D...</td>\n",
       "      <td>2016</td>\n",
       "      <td>123</td>\n",
       "      <td>6.2</td>\n",
       "      <td>393727</td>\n",
       "      <td>325.02</td>\n",
       "      <td>40.0</td>\n",
       "    </tr>\n",
       "    <tr>\n",
       "      <th>5</th>\n",
       "      <td>6</td>\n",
       "      <td>The Great Wall</td>\n",
       "      <td>Action,Adventure,Fantasy</td>\n",
       "      <td>European mercenaries searching for black powde...</td>\n",
       "      <td>Yimou Zhang</td>\n",
       "      <td>Matt Damon, Tian Jing, Willem Dafoe, Andy Lau</td>\n",
       "      <td>2016</td>\n",
       "      <td>103</td>\n",
       "      <td>6.1</td>\n",
       "      <td>56036</td>\n",
       "      <td>45.13</td>\n",
       "      <td>42.0</td>\n",
       "    </tr>\n",
       "    <tr>\n",
       "      <th>6</th>\n",
       "      <td>7</td>\n",
       "      <td>La La Land</td>\n",
       "      <td>Comedy,Drama,Music</td>\n",
       "      <td>A jazz pianist falls for an aspiring actress i...</td>\n",
       "      <td>Damien Chazelle</td>\n",
       "      <td>Ryan Gosling, Emma Stone, Rosemarie DeWitt, J....</td>\n",
       "      <td>2016</td>\n",
       "      <td>128</td>\n",
       "      <td>8.3</td>\n",
       "      <td>258682</td>\n",
       "      <td>151.06</td>\n",
       "      <td>93.0</td>\n",
       "    </tr>\n",
       "    <tr>\n",
       "      <th>7</th>\n",
       "      <td>8</td>\n",
       "      <td>Mindhorn</td>\n",
       "      <td>Comedy</td>\n",
       "      <td>A has-been actor best known for playing the ti...</td>\n",
       "      <td>Sean Foley</td>\n",
       "      <td>Essie Davis, Andrea Riseborough, Julian Barrat...</td>\n",
       "      <td>2016</td>\n",
       "      <td>89</td>\n",
       "      <td>6.4</td>\n",
       "      <td>2490</td>\n",
       "      <td>NaN</td>\n",
       "      <td>71.0</td>\n",
       "    </tr>\n",
       "    <tr>\n",
       "      <th>8</th>\n",
       "      <td>9</td>\n",
       "      <td>The Lost City of Z</td>\n",
       "      <td>Action,Adventure,Biography</td>\n",
       "      <td>A true-life drama, centering on British explor...</td>\n",
       "      <td>James Gray</td>\n",
       "      <td>Charlie Hunnam, Robert Pattinson, Sienna Mille...</td>\n",
       "      <td>2016</td>\n",
       "      <td>141</td>\n",
       "      <td>7.1</td>\n",
       "      <td>7188</td>\n",
       "      <td>8.01</td>\n",
       "      <td>78.0</td>\n",
       "    </tr>\n",
       "    <tr>\n",
       "      <th>9</th>\n",
       "      <td>10</td>\n",
       "      <td>Passengers</td>\n",
       "      <td>Adventure,Drama,Romance</td>\n",
       "      <td>A spacecraft traveling to a distant colony pla...</td>\n",
       "      <td>Morten Tyldum</td>\n",
       "      <td>Jennifer Lawrence, Chris Pratt, Michael Sheen,...</td>\n",
       "      <td>2016</td>\n",
       "      <td>116</td>\n",
       "      <td>7.0</td>\n",
       "      <td>192177</td>\n",
       "      <td>100.01</td>\n",
       "      <td>41.0</td>\n",
       "    </tr>\n",
       "  </tbody>\n",
       "</table>\n",
       "</div>"
      ],
      "text/plain": [
       "   Rank                    Title                       Genre  \\\n",
       "0     1  Guardians of the Galaxy     Action,Adventure,Sci-Fi   \n",
       "1     2               Prometheus    Adventure,Mystery,Sci-Fi   \n",
       "2     3                    Split             Horror,Thriller   \n",
       "3     4                     Sing     Animation,Comedy,Family   \n",
       "4     5            Suicide Squad    Action,Adventure,Fantasy   \n",
       "5     6           The Great Wall    Action,Adventure,Fantasy   \n",
       "6     7               La La Land          Comedy,Drama,Music   \n",
       "7     8                 Mindhorn                      Comedy   \n",
       "8     9       The Lost City of Z  Action,Adventure,Biography   \n",
       "9    10               Passengers     Adventure,Drama,Romance   \n",
       "\n",
       "                                         Description              Director  \\\n",
       "0  A group of intergalactic criminals are forced ...            James Gunn   \n",
       "1  Following clues to the origin of mankind, a te...          Ridley Scott   \n",
       "2  Three girls are kidnapped by a man with a diag...    M. Night Shyamalan   \n",
       "3  In a city of humanoid animals, a hustling thea...  Christophe Lourdelet   \n",
       "4  A secret government agency recruits some of th...            David Ayer   \n",
       "5  European mercenaries searching for black powde...           Yimou Zhang   \n",
       "6  A jazz pianist falls for an aspiring actress i...       Damien Chazelle   \n",
       "7  A has-been actor best known for playing the ti...            Sean Foley   \n",
       "8  A true-life drama, centering on British explor...            James Gray   \n",
       "9  A spacecraft traveling to a distant colony pla...         Morten Tyldum   \n",
       "\n",
       "                                              Actors  Year  Runtime (Minutes)  \\\n",
       "0  Chris Pratt, Vin Diesel, Bradley Cooper, Zoe S...  2014                121   \n",
       "1  Noomi Rapace, Logan Marshall-Green, Michael Fa...  2012                124   \n",
       "2  James McAvoy, Anya Taylor-Joy, Haley Lu Richar...  2016                117   \n",
       "3  Matthew McConaughey,Reese Witherspoon, Seth Ma...  2016                108   \n",
       "4  Will Smith, Jared Leto, Margot Robbie, Viola D...  2016                123   \n",
       "5      Matt Damon, Tian Jing, Willem Dafoe, Andy Lau  2016                103   \n",
       "6  Ryan Gosling, Emma Stone, Rosemarie DeWitt, J....  2016                128   \n",
       "7  Essie Davis, Andrea Riseborough, Julian Barrat...  2016                 89   \n",
       "8  Charlie Hunnam, Robert Pattinson, Sienna Mille...  2016                141   \n",
       "9  Jennifer Lawrence, Chris Pratt, Michael Sheen,...  2016                116   \n",
       "\n",
       "   Rating   Votes  Revenue (Millions)  Metascore  \n",
       "0     8.1  757074              333.13       76.0  \n",
       "1     7.0  485820              126.46       65.0  \n",
       "2     7.3  157606              138.12       62.0  \n",
       "3     7.2   60545              270.32       59.0  \n",
       "4     6.2  393727              325.02       40.0  \n",
       "5     6.1   56036               45.13       42.0  \n",
       "6     8.3  258682              151.06       93.0  \n",
       "7     6.4    2490                 NaN       71.0  \n",
       "8     7.1    7188                8.01       78.0  \n",
       "9     7.0  192177              100.01       41.0  "
      ]
     },
     "execution_count": 310,
     "metadata": {},
     "output_type": "execute_result"
    }
   ],
   "source": [
    "df.head(10)"
   ]
  },
  {
   "cell_type": "markdown",
   "metadata": {},
   "source": [
    "### 2. Check Last 10 Rows of The Dataset"
   ]
  },
  {
   "cell_type": "code",
   "execution_count": 311,
   "metadata": {
    "tags": []
   },
   "outputs": [
    {
     "data": {
      "text/html": [
       "<div>\n",
       "<style scoped>\n",
       "    .dataframe tbody tr th:only-of-type {\n",
       "        vertical-align: middle;\n",
       "    }\n",
       "\n",
       "    .dataframe tbody tr th {\n",
       "        vertical-align: top;\n",
       "    }\n",
       "\n",
       "    .dataframe thead th {\n",
       "        text-align: right;\n",
       "    }\n",
       "</style>\n",
       "<table border=\"1\" class=\"dataframe\">\n",
       "  <thead>\n",
       "    <tr style=\"text-align: right;\">\n",
       "      <th></th>\n",
       "      <th>Rank</th>\n",
       "      <th>Title</th>\n",
       "      <th>Genre</th>\n",
       "      <th>Description</th>\n",
       "      <th>Director</th>\n",
       "      <th>Actors</th>\n",
       "      <th>Year</th>\n",
       "      <th>Runtime (Minutes)</th>\n",
       "      <th>Rating</th>\n",
       "      <th>Votes</th>\n",
       "      <th>Revenue (Millions)</th>\n",
       "      <th>Metascore</th>\n",
       "    </tr>\n",
       "  </thead>\n",
       "  <tbody>\n",
       "    <tr>\n",
       "      <th>990</th>\n",
       "      <td>991</td>\n",
       "      <td>Underworld: Rise of the Lycans</td>\n",
       "      <td>Action,Adventure,Fantasy</td>\n",
       "      <td>An origins story centered on the centuries-old...</td>\n",
       "      <td>Patrick Tatopoulos</td>\n",
       "      <td>Rhona Mitra, Michael Sheen, Bill Nighy, Steven...</td>\n",
       "      <td>2009</td>\n",
       "      <td>92</td>\n",
       "      <td>6.6</td>\n",
       "      <td>129708</td>\n",
       "      <td>45.80</td>\n",
       "      <td>44.0</td>\n",
       "    </tr>\n",
       "    <tr>\n",
       "      <th>991</th>\n",
       "      <td>992</td>\n",
       "      <td>Taare Zameen Par</td>\n",
       "      <td>Drama,Family,Music</td>\n",
       "      <td>An eight-year-old boy is thought to be a lazy ...</td>\n",
       "      <td>Aamir Khan</td>\n",
       "      <td>Darsheel Safary, Aamir Khan, Tanay Chheda, Sac...</td>\n",
       "      <td>2007</td>\n",
       "      <td>165</td>\n",
       "      <td>8.5</td>\n",
       "      <td>102697</td>\n",
       "      <td>1.20</td>\n",
       "      <td>42.0</td>\n",
       "    </tr>\n",
       "    <tr>\n",
       "      <th>992</th>\n",
       "      <td>993</td>\n",
       "      <td>Take Me Home Tonight</td>\n",
       "      <td>Comedy,Drama,Romance</td>\n",
       "      <td>Four years after graduation, an awkward high s...</td>\n",
       "      <td>Michael Dowse</td>\n",
       "      <td>Topher Grace, Anna Faris, Dan Fogler, Teresa P...</td>\n",
       "      <td>2011</td>\n",
       "      <td>97</td>\n",
       "      <td>6.3</td>\n",
       "      <td>45419</td>\n",
       "      <td>6.92</td>\n",
       "      <td>NaN</td>\n",
       "    </tr>\n",
       "    <tr>\n",
       "      <th>993</th>\n",
       "      <td>994</td>\n",
       "      <td>Resident Evil: Afterlife</td>\n",
       "      <td>Action,Adventure,Horror</td>\n",
       "      <td>While still out to destroy the evil Umbrella C...</td>\n",
       "      <td>Paul W.S. Anderson</td>\n",
       "      <td>Milla Jovovich, Ali Larter, Wentworth Miller,K...</td>\n",
       "      <td>2010</td>\n",
       "      <td>97</td>\n",
       "      <td>5.9</td>\n",
       "      <td>140900</td>\n",
       "      <td>60.13</td>\n",
       "      <td>37.0</td>\n",
       "    </tr>\n",
       "    <tr>\n",
       "      <th>994</th>\n",
       "      <td>995</td>\n",
       "      <td>Project X</td>\n",
       "      <td>Comedy</td>\n",
       "      <td>3 high school seniors throw a birthday party t...</td>\n",
       "      <td>Nima Nourizadeh</td>\n",
       "      <td>Thomas Mann, Oliver Cooper, Jonathan Daniel Br...</td>\n",
       "      <td>2012</td>\n",
       "      <td>88</td>\n",
       "      <td>6.7</td>\n",
       "      <td>164088</td>\n",
       "      <td>54.72</td>\n",
       "      <td>48.0</td>\n",
       "    </tr>\n",
       "    <tr>\n",
       "      <th>995</th>\n",
       "      <td>996</td>\n",
       "      <td>Secret in Their Eyes</td>\n",
       "      <td>Crime,Drama,Mystery</td>\n",
       "      <td>A tight-knit team of rising investigators, alo...</td>\n",
       "      <td>Billy Ray</td>\n",
       "      <td>Chiwetel Ejiofor, Nicole Kidman, Julia Roberts...</td>\n",
       "      <td>2015</td>\n",
       "      <td>111</td>\n",
       "      <td>6.2</td>\n",
       "      <td>27585</td>\n",
       "      <td>NaN</td>\n",
       "      <td>45.0</td>\n",
       "    </tr>\n",
       "    <tr>\n",
       "      <th>996</th>\n",
       "      <td>997</td>\n",
       "      <td>Hostel: Part II</td>\n",
       "      <td>Horror</td>\n",
       "      <td>Three American college students studying abroa...</td>\n",
       "      <td>Eli Roth</td>\n",
       "      <td>Lauren German, Heather Matarazzo, Bijou Philli...</td>\n",
       "      <td>2007</td>\n",
       "      <td>94</td>\n",
       "      <td>5.5</td>\n",
       "      <td>73152</td>\n",
       "      <td>17.54</td>\n",
       "      <td>46.0</td>\n",
       "    </tr>\n",
       "    <tr>\n",
       "      <th>997</th>\n",
       "      <td>998</td>\n",
       "      <td>Step Up 2: The Streets</td>\n",
       "      <td>Drama,Music,Romance</td>\n",
       "      <td>Romantic sparks occur between two dance studen...</td>\n",
       "      <td>Jon M. Chu</td>\n",
       "      <td>Robert Hoffman, Briana Evigan, Cassie Ventura,...</td>\n",
       "      <td>2008</td>\n",
       "      <td>98</td>\n",
       "      <td>6.2</td>\n",
       "      <td>70699</td>\n",
       "      <td>58.01</td>\n",
       "      <td>50.0</td>\n",
       "    </tr>\n",
       "    <tr>\n",
       "      <th>998</th>\n",
       "      <td>999</td>\n",
       "      <td>Search Party</td>\n",
       "      <td>Adventure,Comedy</td>\n",
       "      <td>A pair of friends embark on a mission to reuni...</td>\n",
       "      <td>Scot Armstrong</td>\n",
       "      <td>Adam Pally, T.J. Miller, Thomas Middleditch,Sh...</td>\n",
       "      <td>2014</td>\n",
       "      <td>93</td>\n",
       "      <td>5.6</td>\n",
       "      <td>4881</td>\n",
       "      <td>NaN</td>\n",
       "      <td>22.0</td>\n",
       "    </tr>\n",
       "    <tr>\n",
       "      <th>999</th>\n",
       "      <td>1000</td>\n",
       "      <td>Nine Lives</td>\n",
       "      <td>Comedy,Family,Fantasy</td>\n",
       "      <td>A stuffy businessman finds himself trapped ins...</td>\n",
       "      <td>Barry Sonnenfeld</td>\n",
       "      <td>Kevin Spacey, Jennifer Garner, Robbie Amell,Ch...</td>\n",
       "      <td>2016</td>\n",
       "      <td>87</td>\n",
       "      <td>5.3</td>\n",
       "      <td>12435</td>\n",
       "      <td>19.64</td>\n",
       "      <td>11.0</td>\n",
       "    </tr>\n",
       "  </tbody>\n",
       "</table>\n",
       "</div>"
      ],
      "text/plain": [
       "     Rank                           Title                     Genre  \\\n",
       "990   991  Underworld: Rise of the Lycans  Action,Adventure,Fantasy   \n",
       "991   992                Taare Zameen Par        Drama,Family,Music   \n",
       "992   993            Take Me Home Tonight      Comedy,Drama,Romance   \n",
       "993   994        Resident Evil: Afterlife   Action,Adventure,Horror   \n",
       "994   995                       Project X                    Comedy   \n",
       "995   996            Secret in Their Eyes       Crime,Drama,Mystery   \n",
       "996   997                 Hostel: Part II                    Horror   \n",
       "997   998          Step Up 2: The Streets       Drama,Music,Romance   \n",
       "998   999                    Search Party          Adventure,Comedy   \n",
       "999  1000                      Nine Lives     Comedy,Family,Fantasy   \n",
       "\n",
       "                                           Description            Director  \\\n",
       "990  An origins story centered on the centuries-old...  Patrick Tatopoulos   \n",
       "991  An eight-year-old boy is thought to be a lazy ...          Aamir Khan   \n",
       "992  Four years after graduation, an awkward high s...       Michael Dowse   \n",
       "993  While still out to destroy the evil Umbrella C...  Paul W.S. Anderson   \n",
       "994  3 high school seniors throw a birthday party t...     Nima Nourizadeh   \n",
       "995  A tight-knit team of rising investigators, alo...           Billy Ray   \n",
       "996  Three American college students studying abroa...            Eli Roth   \n",
       "997  Romantic sparks occur between two dance studen...          Jon M. Chu   \n",
       "998  A pair of friends embark on a mission to reuni...      Scot Armstrong   \n",
       "999  A stuffy businessman finds himself trapped ins...    Barry Sonnenfeld   \n",
       "\n",
       "                                                Actors  Year  \\\n",
       "990  Rhona Mitra, Michael Sheen, Bill Nighy, Steven...  2009   \n",
       "991  Darsheel Safary, Aamir Khan, Tanay Chheda, Sac...  2007   \n",
       "992  Topher Grace, Anna Faris, Dan Fogler, Teresa P...  2011   \n",
       "993  Milla Jovovich, Ali Larter, Wentworth Miller,K...  2010   \n",
       "994  Thomas Mann, Oliver Cooper, Jonathan Daniel Br...  2012   \n",
       "995  Chiwetel Ejiofor, Nicole Kidman, Julia Roberts...  2015   \n",
       "996  Lauren German, Heather Matarazzo, Bijou Philli...  2007   \n",
       "997  Robert Hoffman, Briana Evigan, Cassie Ventura,...  2008   \n",
       "998  Adam Pally, T.J. Miller, Thomas Middleditch,Sh...  2014   \n",
       "999  Kevin Spacey, Jennifer Garner, Robbie Amell,Ch...  2016   \n",
       "\n",
       "     Runtime (Minutes)  Rating   Votes  Revenue (Millions)  Metascore  \n",
       "990                 92     6.6  129708               45.80       44.0  \n",
       "991                165     8.5  102697                1.20       42.0  \n",
       "992                 97     6.3   45419                6.92        NaN  \n",
       "993                 97     5.9  140900               60.13       37.0  \n",
       "994                 88     6.7  164088               54.72       48.0  \n",
       "995                111     6.2   27585                 NaN       45.0  \n",
       "996                 94     5.5   73152               17.54       46.0  \n",
       "997                 98     6.2   70699               58.01       50.0  \n",
       "998                 93     5.6    4881                 NaN       22.0  \n",
       "999                 87     5.3   12435               19.64       11.0  "
      ]
     },
     "execution_count": 311,
     "metadata": {},
     "output_type": "execute_result"
    }
   ],
   "source": [
    "df.tail(10)"
   ]
  },
  {
   "cell_type": "markdown",
   "metadata": {},
   "source": [
    "### 3. Find Shape of Our Dataset (Number of Rows And Number of Columns)"
   ]
  },
  {
   "cell_type": "code",
   "execution_count": 312,
   "metadata": {
    "tags": []
   },
   "outputs": [
    {
     "name": "stdout",
     "output_type": "stream",
     "text": [
      "The dataset has 1000, rows and 12 columns\n"
     ]
    }
   ],
   "source": [
    "print(f\"The dataset has {df.shape[0]}, rows and {df.shape[1]} columns\")"
   ]
  },
  {
   "cell_type": "markdown",
   "metadata": {},
   "source": [
    "### 4. Getting Information About Our Dataset Like Total Number Rows, Total Number of Columns, Datatypes of Each Column And Memory Requirement"
   ]
  },
  {
   "cell_type": "code",
   "execution_count": 313,
   "metadata": {
    "tags": []
   },
   "outputs": [
    {
     "name": "stdout",
     "output_type": "stream",
     "text": [
      "<class 'pandas.core.frame.DataFrame'>\n",
      "RangeIndex: 1000 entries, 0 to 999\n",
      "Data columns (total 12 columns):\n",
      " #   Column              Non-Null Count  Dtype  \n",
      "---  ------              --------------  -----  \n",
      " 0   Rank                1000 non-null   int64  \n",
      " 1   Title               1000 non-null   object \n",
      " 2   Genre               1000 non-null   object \n",
      " 3   Description         1000 non-null   object \n",
      " 4   Director            1000 non-null   object \n",
      " 5   Actors              1000 non-null   object \n",
      " 6   Year                1000 non-null   int64  \n",
      " 7   Runtime (Minutes)   1000 non-null   int64  \n",
      " 8   Rating              1000 non-null   float64\n",
      " 9   Votes               1000 non-null   int64  \n",
      " 10  Revenue (Millions)  872 non-null    float64\n",
      " 11  Metascore           936 non-null    float64\n",
      "dtypes: float64(3), int64(4), object(5)\n",
      "memory usage: 93.9+ KB\n"
     ]
    }
   ],
   "source": [
    "df.info()"
   ]
  },
  {
   "cell_type": "markdown",
   "metadata": {},
   "source": [
    "### 5. Check Missing Values In The Dataset"
   ]
  },
  {
   "cell_type": "code",
   "execution_count": 314,
   "metadata": {
    "tags": []
   },
   "outputs": [
    {
     "data": {
      "text/plain": [
       "Rank                    0\n",
       "Title                   0\n",
       "Genre                   0\n",
       "Description             0\n",
       "Director                0\n",
       "Actors                  0\n",
       "Year                    0\n",
       "Runtime (Minutes)       0\n",
       "Rating                  0\n",
       "Votes                   0\n",
       "Revenue (Millions)    128\n",
       "Metascore              64\n",
       "dtype: int64"
      ]
     },
     "execution_count": 314,
     "metadata": {},
     "output_type": "execute_result"
    }
   ],
   "source": [
    "#df.isnull().any(axis = 0)\n",
    "df.isnull().sum()"
   ]
  },
  {
   "cell_type": "markdown",
   "metadata": {},
   "source": [
    "### 6. Drop All The  Missing Values"
   ]
  },
  {
   "cell_type": "code",
   "execution_count": 315,
   "metadata": {
    "tags": []
   },
   "outputs": [],
   "source": [
    "df_drop = df.dropna()"
   ]
  },
  {
   "cell_type": "markdown",
   "metadata": {},
   "source": [
    "### 7. Check For Duplicate Data"
   ]
  },
  {
   "cell_type": "code",
   "execution_count": 316,
   "metadata": {
    "tags": []
   },
   "outputs": [
    {
     "data": {
      "text/plain": [
       "False    1000\n",
       "dtype: int64"
      ]
     },
     "execution_count": 316,
     "metadata": {},
     "output_type": "execute_result"
    }
   ],
   "source": [
    "df.duplicated().value_counts()"
   ]
  },
  {
   "cell_type": "markdown",
   "metadata": {},
   "source": [
    "### 8. Get Overall Statistics About The DataFrame"
   ]
  },
  {
   "cell_type": "code",
   "execution_count": 317,
   "metadata": {
    "tags": []
   },
   "outputs": [
    {
     "data": {
      "text/html": [
       "<div>\n",
       "<style scoped>\n",
       "    .dataframe tbody tr th:only-of-type {\n",
       "        vertical-align: middle;\n",
       "    }\n",
       "\n",
       "    .dataframe tbody tr th {\n",
       "        vertical-align: top;\n",
       "    }\n",
       "\n",
       "    .dataframe thead th {\n",
       "        text-align: right;\n",
       "    }\n",
       "</style>\n",
       "<table border=\"1\" class=\"dataframe\">\n",
       "  <thead>\n",
       "    <tr style=\"text-align: right;\">\n",
       "      <th></th>\n",
       "      <th>Rank</th>\n",
       "      <th>Year</th>\n",
       "      <th>Runtime (Minutes)</th>\n",
       "      <th>Rating</th>\n",
       "      <th>Votes</th>\n",
       "      <th>Revenue (Millions)</th>\n",
       "      <th>Metascore</th>\n",
       "    </tr>\n",
       "  </thead>\n",
       "  <tbody>\n",
       "    <tr>\n",
       "      <th>count</th>\n",
       "      <td>1000.000000</td>\n",
       "      <td>1000.000000</td>\n",
       "      <td>1000.000000</td>\n",
       "      <td>1000.000000</td>\n",
       "      <td>1.000000e+03</td>\n",
       "      <td>872.000000</td>\n",
       "      <td>936.000000</td>\n",
       "    </tr>\n",
       "    <tr>\n",
       "      <th>mean</th>\n",
       "      <td>500.500000</td>\n",
       "      <td>2012.783000</td>\n",
       "      <td>113.172000</td>\n",
       "      <td>6.723200</td>\n",
       "      <td>1.698083e+05</td>\n",
       "      <td>82.956376</td>\n",
       "      <td>58.985043</td>\n",
       "    </tr>\n",
       "    <tr>\n",
       "      <th>std</th>\n",
       "      <td>288.819436</td>\n",
       "      <td>3.205962</td>\n",
       "      <td>18.810908</td>\n",
       "      <td>0.945429</td>\n",
       "      <td>1.887626e+05</td>\n",
       "      <td>103.253540</td>\n",
       "      <td>17.194757</td>\n",
       "    </tr>\n",
       "    <tr>\n",
       "      <th>min</th>\n",
       "      <td>1.000000</td>\n",
       "      <td>2006.000000</td>\n",
       "      <td>66.000000</td>\n",
       "      <td>1.900000</td>\n",
       "      <td>6.100000e+01</td>\n",
       "      <td>0.000000</td>\n",
       "      <td>11.000000</td>\n",
       "    </tr>\n",
       "    <tr>\n",
       "      <th>25%</th>\n",
       "      <td>250.750000</td>\n",
       "      <td>2010.000000</td>\n",
       "      <td>100.000000</td>\n",
       "      <td>6.200000</td>\n",
       "      <td>3.630900e+04</td>\n",
       "      <td>13.270000</td>\n",
       "      <td>47.000000</td>\n",
       "    </tr>\n",
       "    <tr>\n",
       "      <th>50%</th>\n",
       "      <td>500.500000</td>\n",
       "      <td>2014.000000</td>\n",
       "      <td>111.000000</td>\n",
       "      <td>6.800000</td>\n",
       "      <td>1.107990e+05</td>\n",
       "      <td>47.985000</td>\n",
       "      <td>59.500000</td>\n",
       "    </tr>\n",
       "    <tr>\n",
       "      <th>75%</th>\n",
       "      <td>750.250000</td>\n",
       "      <td>2016.000000</td>\n",
       "      <td>123.000000</td>\n",
       "      <td>7.400000</td>\n",
       "      <td>2.399098e+05</td>\n",
       "      <td>113.715000</td>\n",
       "      <td>72.000000</td>\n",
       "    </tr>\n",
       "    <tr>\n",
       "      <th>max</th>\n",
       "      <td>1000.000000</td>\n",
       "      <td>2016.000000</td>\n",
       "      <td>191.000000</td>\n",
       "      <td>9.000000</td>\n",
       "      <td>1.791916e+06</td>\n",
       "      <td>936.630000</td>\n",
       "      <td>100.000000</td>\n",
       "    </tr>\n",
       "  </tbody>\n",
       "</table>\n",
       "</div>"
      ],
      "text/plain": [
       "              Rank         Year  Runtime (Minutes)       Rating         Votes  \\\n",
       "count  1000.000000  1000.000000        1000.000000  1000.000000  1.000000e+03   \n",
       "mean    500.500000  2012.783000         113.172000     6.723200  1.698083e+05   \n",
       "std     288.819436     3.205962          18.810908     0.945429  1.887626e+05   \n",
       "min       1.000000  2006.000000          66.000000     1.900000  6.100000e+01   \n",
       "25%     250.750000  2010.000000         100.000000     6.200000  3.630900e+04   \n",
       "50%     500.500000  2014.000000         111.000000     6.800000  1.107990e+05   \n",
       "75%     750.250000  2016.000000         123.000000     7.400000  2.399098e+05   \n",
       "max    1000.000000  2016.000000         191.000000     9.000000  1.791916e+06   \n",
       "\n",
       "       Revenue (Millions)   Metascore  \n",
       "count          872.000000  936.000000  \n",
       "mean            82.956376   58.985043  \n",
       "std            103.253540   17.194757  \n",
       "min              0.000000   11.000000  \n",
       "25%             13.270000   47.000000  \n",
       "50%             47.985000   59.500000  \n",
       "75%            113.715000   72.000000  \n",
       "max            936.630000  100.000000  "
      ]
     },
     "execution_count": 317,
     "metadata": {},
     "output_type": "execute_result"
    }
   ],
   "source": [
    "df.describe()"
   ]
  },
  {
   "cell_type": "markdown",
   "metadata": {},
   "source": [
    "### 9. Display Title of The Movie Having Runtime >= 180 Minutes"
   ]
  },
  {
   "cell_type": "code",
   "execution_count": 318,
   "metadata": {
    "tags": []
   },
   "outputs": [
    {
     "data": {
      "text/html": [
       "<div>\n",
       "<style scoped>\n",
       "    .dataframe tbody tr th:only-of-type {\n",
       "        vertical-align: middle;\n",
       "    }\n",
       "\n",
       "    .dataframe tbody tr th {\n",
       "        vertical-align: top;\n",
       "    }\n",
       "\n",
       "    .dataframe thead th {\n",
       "        text-align: right;\n",
       "    }\n",
       "</style>\n",
       "<table border=\"1\" class=\"dataframe\">\n",
       "  <thead>\n",
       "    <tr style=\"text-align: right;\">\n",
       "      <th></th>\n",
       "      <th>index</th>\n",
       "      <th>Title</th>\n",
       "    </tr>\n",
       "  </thead>\n",
       "  <tbody>\n",
       "    <tr>\n",
       "      <th>0</th>\n",
       "      <td>82</td>\n",
       "      <td>The Wolf of Wall Street</td>\n",
       "    </tr>\n",
       "    <tr>\n",
       "      <th>1</th>\n",
       "      <td>88</td>\n",
       "      <td>The Hateful Eight</td>\n",
       "    </tr>\n",
       "    <tr>\n",
       "      <th>2</th>\n",
       "      <td>311</td>\n",
       "      <td>La vie d'Adèle</td>\n",
       "    </tr>\n",
       "    <tr>\n",
       "      <th>3</th>\n",
       "      <td>828</td>\n",
       "      <td>Grindhouse</td>\n",
       "    </tr>\n",
       "    <tr>\n",
       "      <th>4</th>\n",
       "      <td>965</td>\n",
       "      <td>Inland Empire</td>\n",
       "    </tr>\n",
       "  </tbody>\n",
       "</table>\n",
       "</div>"
      ],
      "text/plain": [
       "   index                    Title\n",
       "0     82  The Wolf of Wall Street\n",
       "1     88        The Hateful Eight\n",
       "2    311           La vie d'Adèle\n",
       "3    828               Grindhouse\n",
       "4    965            Inland Empire"
      ]
     },
     "execution_count": 318,
     "metadata": {},
     "output_type": "execute_result"
    }
   ],
   "source": [
    "df.Title[df['Runtime (Minutes)'] >= 180].reset_index()"
   ]
  },
  {
   "cell_type": "markdown",
   "metadata": {},
   "source": [
    "### 10. In Which Year There Was The Highest Average Voting?"
   ]
  },
  {
   "cell_type": "code",
   "execution_count": 319,
   "metadata": {
    "tags": []
   },
   "outputs": [
    {
     "data": {
      "text/html": [
       "<div>\n",
       "<style scoped>\n",
       "    .dataframe tbody tr th:only-of-type {\n",
       "        vertical-align: middle;\n",
       "    }\n",
       "\n",
       "    .dataframe tbody tr th {\n",
       "        vertical-align: top;\n",
       "    }\n",
       "\n",
       "    .dataframe thead th {\n",
       "        text-align: right;\n",
       "    }\n",
       "</style>\n",
       "<table border=\"1\" class=\"dataframe\">\n",
       "  <thead>\n",
       "    <tr style=\"text-align: right;\">\n",
       "      <th></th>\n",
       "      <th>Rank</th>\n",
       "      <th>Runtime (Minutes)</th>\n",
       "      <th>Rating</th>\n",
       "      <th>Votes</th>\n",
       "      <th>Revenue (Millions)</th>\n",
       "      <th>Metascore</th>\n",
       "    </tr>\n",
       "    <tr>\n",
       "      <th>Year</th>\n",
       "      <th></th>\n",
       "      <th></th>\n",
       "      <th></th>\n",
       "      <th></th>\n",
       "      <th></th>\n",
       "      <th></th>\n",
       "    </tr>\n",
       "  </thead>\n",
       "  <tbody>\n",
       "    <tr>\n",
       "      <th>2012</th>\n",
       "      <td>532.875</td>\n",
       "      <td>119.109375</td>\n",
       "      <td>6.925</td>\n",
       "      <td>285226.09375</td>\n",
       "      <td>107.973281</td>\n",
       "      <td>61.145161</td>\n",
       "    </tr>\n",
       "  </tbody>\n",
       "</table>\n",
       "</div>"
      ],
      "text/plain": [
       "         Rank  Runtime (Minutes)  Rating         Votes  Revenue (Millions)  \\\n",
       "Year                                                                         \n",
       "2012  532.875         119.109375   6.925  285226.09375          107.973281   \n",
       "\n",
       "      Metascore  \n",
       "Year             \n",
       "2012  61.145161  "
      ]
     },
     "execution_count": 319,
     "metadata": {},
     "output_type": "execute_result"
    }
   ],
   "source": [
    "df.groupby(\"Year\").mean(\"Votes\").sort_values(by = \"Votes\" ,ascending = False).head(1)#.reset_index().iloc[0].reset_index()"
   ]
  },
  {
   "cell_type": "markdown",
   "metadata": {},
   "source": [
    "### 11. In Which Year There Was The Highest Average Revenue?"
   ]
  },
  {
   "cell_type": "code",
   "execution_count": 320,
   "metadata": {
    "tags": []
   },
   "outputs": [
    {
     "data": {
      "text/html": [
       "<div>\n",
       "<style scoped>\n",
       "    .dataframe tbody tr th:only-of-type {\n",
       "        vertical-align: middle;\n",
       "    }\n",
       "\n",
       "    .dataframe tbody tr th {\n",
       "        vertical-align: top;\n",
       "    }\n",
       "\n",
       "    .dataframe thead th {\n",
       "        text-align: right;\n",
       "    }\n",
       "</style>\n",
       "<table border=\"1\" class=\"dataframe\">\n",
       "  <thead>\n",
       "    <tr style=\"text-align: right;\">\n",
       "      <th></th>\n",
       "      <th>Rank</th>\n",
       "      <th>Runtime (Minutes)</th>\n",
       "      <th>Rating</th>\n",
       "      <th>Votes</th>\n",
       "      <th>Revenue (Millions)</th>\n",
       "      <th>Metascore</th>\n",
       "    </tr>\n",
       "    <tr>\n",
       "      <th>Year</th>\n",
       "      <th></th>\n",
       "      <th></th>\n",
       "      <th></th>\n",
       "      <th></th>\n",
       "      <th></th>\n",
       "      <th></th>\n",
       "    </tr>\n",
       "  </thead>\n",
       "  <tbody>\n",
       "    <tr>\n",
       "      <th>2009</th>\n",
       "      <td>586.823529</td>\n",
       "      <td>116.117647</td>\n",
       "      <td>6.960784</td>\n",
       "      <td>255780.647059</td>\n",
       "      <td>112.601277</td>\n",
       "      <td>57.122449</td>\n",
       "    </tr>\n",
       "  </tbody>\n",
       "</table>\n",
       "</div>"
      ],
      "text/plain": [
       "            Rank  Runtime (Minutes)    Rating          Votes  \\\n",
       "Year                                                           \n",
       "2009  586.823529         116.117647  6.960784  255780.647059   \n",
       "\n",
       "      Revenue (Millions)  Metascore  \n",
       "Year                                 \n",
       "2009          112.601277  57.122449  "
      ]
     },
     "execution_count": 320,
     "metadata": {},
     "output_type": "execute_result"
    }
   ],
   "source": [
    "df.groupby(\"Year\").mean(\"Revenue (Millions)\").sort_values(by = \"Revenue (Millions)\", ascending = False).head(1)"
   ]
  },
  {
   "cell_type": "markdown",
   "metadata": {},
   "source": [
    "### 12. Find The Average Rating For Each Director"
   ]
  },
  {
   "cell_type": "code",
   "execution_count": 321,
   "metadata": {
    "tags": []
   },
   "outputs": [
    {
     "data": {
      "text/html": [
       "<div>\n",
       "<style scoped>\n",
       "    .dataframe tbody tr th:only-of-type {\n",
       "        vertical-align: middle;\n",
       "    }\n",
       "\n",
       "    .dataframe tbody tr th {\n",
       "        vertical-align: top;\n",
       "    }\n",
       "\n",
       "    .dataframe thead th {\n",
       "        text-align: right;\n",
       "    }\n",
       "</style>\n",
       "<table border=\"1\" class=\"dataframe\">\n",
       "  <thead>\n",
       "    <tr style=\"text-align: right;\">\n",
       "      <th></th>\n",
       "      <th>index</th>\n",
       "      <th>Runtime (Minutes)</th>\n",
       "    </tr>\n",
       "  </thead>\n",
       "  <tbody>\n",
       "    <tr>\n",
       "      <th>0</th>\n",
       "      <td>0</td>\n",
       "      <td>165.00</td>\n",
       "    </tr>\n",
       "    <tr>\n",
       "      <th>1</th>\n",
       "      <td>1</td>\n",
       "      <td>180.00</td>\n",
       "    </tr>\n",
       "    <tr>\n",
       "      <th>2</th>\n",
       "      <td>2</td>\n",
       "      <td>82.00</td>\n",
       "    </tr>\n",
       "    <tr>\n",
       "      <th>3</th>\n",
       "      <td>3</td>\n",
       "      <td>110.75</td>\n",
       "    </tr>\n",
       "    <tr>\n",
       "      <th>4</th>\n",
       "      <td>4</td>\n",
       "      <td>120.00</td>\n",
       "    </tr>\n",
       "    <tr>\n",
       "      <th>...</th>\n",
       "      <td>...</td>\n",
       "      <td>...</td>\n",
       "    </tr>\n",
       "    <tr>\n",
       "      <th>639</th>\n",
       "      <td>639</td>\n",
       "      <td>118.00</td>\n",
       "    </tr>\n",
       "    <tr>\n",
       "      <th>640</th>\n",
       "      <td>640</td>\n",
       "      <td>103.00</td>\n",
       "    </tr>\n",
       "    <tr>\n",
       "      <th>641</th>\n",
       "      <td>641</td>\n",
       "      <td>106.50</td>\n",
       "    </tr>\n",
       "    <tr>\n",
       "      <th>642</th>\n",
       "      <td>642</td>\n",
       "      <td>136.60</td>\n",
       "    </tr>\n",
       "    <tr>\n",
       "      <th>643</th>\n",
       "      <td>643</td>\n",
       "      <td>110.00</td>\n",
       "    </tr>\n",
       "  </tbody>\n",
       "</table>\n",
       "<p>644 rows × 2 columns</p>\n",
       "</div>"
      ],
      "text/plain": [
       "     index  Runtime (Minutes)\n",
       "0        0             165.00\n",
       "1        1             180.00\n",
       "2        2              82.00\n",
       "3        3             110.75\n",
       "4        4             120.00\n",
       "..     ...                ...\n",
       "639    639             118.00\n",
       "640    640             103.00\n",
       "641    641             106.50\n",
       "642    642             136.60\n",
       "643    643             110.00\n",
       "\n",
       "[644 rows x 2 columns]"
      ]
     },
     "execution_count": 321,
     "metadata": {},
     "output_type": "execute_result"
    }
   ],
   "source": [
    "df.groupby(\"Director\").mean(\"Rating\").reset_index().iloc[:,3].reset_index()"
   ]
  },
  {
   "cell_type": "markdown",
   "metadata": {},
   "source": [
    "### 13. Display Top 10 Lengthy Movies Title and Runtime"
   ]
  },
  {
   "cell_type": "code",
   "execution_count": 323,
   "metadata": {
    "tags": []
   },
   "outputs": [],
   "source": [
    "# mycopy = df.copy()\n",
    "# split = mycopy.Title.str.split()\n",
    "# len(split[0])\n",
    "# mylen = []\n",
    "# i = 0\n",
    "# for i in split:\n",
    "#     mylen.append(len(i))\n",
    "# mylen.sort(reverse = True)\n",
    "# top = mylen[:10]\n",
    "# mycopy.iloc[top].sort_values(by = \"Runtime (Minutes)\" ,ascending = False)"
   ]
  },
  {
   "cell_type": "code",
   "execution_count": 325,
   "metadata": {
    "tags": []
   },
   "outputs": [
    {
     "data": {
      "text/html": [
       "<div>\n",
       "<style scoped>\n",
       "    .dataframe tbody tr th:only-of-type {\n",
       "        vertical-align: middle;\n",
       "    }\n",
       "\n",
       "    .dataframe tbody tr th {\n",
       "        vertical-align: top;\n",
       "    }\n",
       "\n",
       "    .dataframe thead th {\n",
       "        text-align: right;\n",
       "    }\n",
       "</style>\n",
       "<table border=\"1\" class=\"dataframe\">\n",
       "  <thead>\n",
       "    <tr style=\"text-align: right;\">\n",
       "      <th></th>\n",
       "      <th>Title</th>\n",
       "      <th>Runtime (Minutes)</th>\n",
       "    </tr>\n",
       "  </thead>\n",
       "  <tbody>\n",
       "    <tr>\n",
       "      <th>828</th>\n",
       "      <td>Grindhouse</td>\n",
       "      <td>191</td>\n",
       "    </tr>\n",
       "    <tr>\n",
       "      <th>88</th>\n",
       "      <td>The Hateful Eight</td>\n",
       "      <td>187</td>\n",
       "    </tr>\n",
       "    <tr>\n",
       "      <th>965</th>\n",
       "      <td>Inland Empire</td>\n",
       "      <td>180</td>\n",
       "    </tr>\n",
       "    <tr>\n",
       "      <th>311</th>\n",
       "      <td>La vie d'Adèle</td>\n",
       "      <td>180</td>\n",
       "    </tr>\n",
       "    <tr>\n",
       "      <th>82</th>\n",
       "      <td>The Wolf of Wall Street</td>\n",
       "      <td>180</td>\n",
       "    </tr>\n",
       "    <tr>\n",
       "      <th>267</th>\n",
       "      <td>Cloud Atlas</td>\n",
       "      <td>172</td>\n",
       "    </tr>\n",
       "    <tr>\n",
       "      <th>430</th>\n",
       "      <td>3 Idiots</td>\n",
       "      <td>170</td>\n",
       "    </tr>\n",
       "    <tr>\n",
       "      <th>75</th>\n",
       "      <td>Pirates of the Caribbean: At World's End</td>\n",
       "      <td>169</td>\n",
       "    </tr>\n",
       "    <tr>\n",
       "      <th>271</th>\n",
       "      <td>The Hobbit: An Unexpected Journey</td>\n",
       "      <td>169</td>\n",
       "    </tr>\n",
       "    <tr>\n",
       "      <th>36</th>\n",
       "      <td>Interstellar</td>\n",
       "      <td>169</td>\n",
       "    </tr>\n",
       "  </tbody>\n",
       "</table>\n",
       "</div>"
      ],
      "text/plain": [
       "                                        Title  Runtime (Minutes)\n",
       "828                                Grindhouse                191\n",
       "88                          The Hateful Eight                187\n",
       "965                             Inland Empire                180\n",
       "311                            La vie d'Adèle                180\n",
       "82                    The Wolf of Wall Street                180\n",
       "267                               Cloud Atlas                172\n",
       "430                                  3 Idiots                170\n",
       "75   Pirates of the Caribbean: At World's End                169\n",
       "271         The Hobbit: An Unexpected Journey                169\n",
       "36                               Interstellar                169"
      ]
     },
     "execution_count": 325,
     "metadata": {},
     "output_type": "execute_result"
    }
   ],
   "source": [
    "df[['Title','Runtime (Minutes)']].sort_values(by = \"Runtime (Minutes)\", ascending = False).head(10)"
   ]
  },
  {
   "cell_type": "markdown",
   "metadata": {},
   "source": [
    "### 14. Display Number of Movies Per Year"
   ]
  },
  {
   "cell_type": "code",
   "execution_count": 326,
   "metadata": {
    "tags": []
   },
   "outputs": [],
   "source": [
    "no_movies = df.groupby(\"Year\").count().reset_index()\n",
    "no_movies = no_movies.iloc[:,[0,2]]\n",
    "no_movies = no_movies.rename(columns = {'Title':\"No_of_movies\"})"
   ]
  },
  {
   "cell_type": "code",
   "execution_count": 327,
   "metadata": {
    "tags": []
   },
   "outputs": [
    {
     "data": {
      "text/html": [
       "<div>\n",
       "<style scoped>\n",
       "    .dataframe tbody tr th:only-of-type {\n",
       "        vertical-align: middle;\n",
       "    }\n",
       "\n",
       "    .dataframe tbody tr th {\n",
       "        vertical-align: top;\n",
       "    }\n",
       "\n",
       "    .dataframe thead th {\n",
       "        text-align: right;\n",
       "    }\n",
       "</style>\n",
       "<table border=\"1\" class=\"dataframe\">\n",
       "  <thead>\n",
       "    <tr style=\"text-align: right;\">\n",
       "      <th></th>\n",
       "      <th>Year</th>\n",
       "      <th>No_of_movies</th>\n",
       "    </tr>\n",
       "  </thead>\n",
       "  <tbody>\n",
       "    <tr>\n",
       "      <th>0</th>\n",
       "      <td>2006</td>\n",
       "      <td>44</td>\n",
       "    </tr>\n",
       "    <tr>\n",
       "      <th>1</th>\n",
       "      <td>2007</td>\n",
       "      <td>53</td>\n",
       "    </tr>\n",
       "    <tr>\n",
       "      <th>2</th>\n",
       "      <td>2008</td>\n",
       "      <td>52</td>\n",
       "    </tr>\n",
       "    <tr>\n",
       "      <th>3</th>\n",
       "      <td>2009</td>\n",
       "      <td>51</td>\n",
       "    </tr>\n",
       "    <tr>\n",
       "      <th>4</th>\n",
       "      <td>2010</td>\n",
       "      <td>60</td>\n",
       "    </tr>\n",
       "    <tr>\n",
       "      <th>5</th>\n",
       "      <td>2011</td>\n",
       "      <td>63</td>\n",
       "    </tr>\n",
       "    <tr>\n",
       "      <th>6</th>\n",
       "      <td>2012</td>\n",
       "      <td>64</td>\n",
       "    </tr>\n",
       "    <tr>\n",
       "      <th>7</th>\n",
       "      <td>2013</td>\n",
       "      <td>91</td>\n",
       "    </tr>\n",
       "    <tr>\n",
       "      <th>8</th>\n",
       "      <td>2014</td>\n",
       "      <td>98</td>\n",
       "    </tr>\n",
       "    <tr>\n",
       "      <th>9</th>\n",
       "      <td>2015</td>\n",
       "      <td>127</td>\n",
       "    </tr>\n",
       "    <tr>\n",
       "      <th>10</th>\n",
       "      <td>2016</td>\n",
       "      <td>297</td>\n",
       "    </tr>\n",
       "  </tbody>\n",
       "</table>\n",
       "</div>"
      ],
      "text/plain": [
       "    Year  No_of_movies\n",
       "0   2006            44\n",
       "1   2007            53\n",
       "2   2008            52\n",
       "3   2009            51\n",
       "4   2010            60\n",
       "5   2011            63\n",
       "6   2012            64\n",
       "7   2013            91\n",
       "8   2014            98\n",
       "9   2015           127\n",
       "10  2016           297"
      ]
     },
     "execution_count": 327,
     "metadata": {},
     "output_type": "execute_result"
    }
   ],
   "source": [
    "no_movies"
   ]
  },
  {
   "cell_type": "markdown",
   "metadata": {},
   "source": [
    "### 15. Find Most Popular Movie Title (Highest Revenue)"
   ]
  },
  {
   "cell_type": "code",
   "execution_count": 328,
   "metadata": {
    "tags": []
   },
   "outputs": [
    {
     "data": {
      "text/html": [
       "<div>\n",
       "<style scoped>\n",
       "    .dataframe tbody tr th:only-of-type {\n",
       "        vertical-align: middle;\n",
       "    }\n",
       "\n",
       "    .dataframe tbody tr th {\n",
       "        vertical-align: top;\n",
       "    }\n",
       "\n",
       "    .dataframe thead th {\n",
       "        text-align: right;\n",
       "    }\n",
       "</style>\n",
       "<table border=\"1\" class=\"dataframe\">\n",
       "  <thead>\n",
       "    <tr style=\"text-align: right;\">\n",
       "      <th></th>\n",
       "      <th>index</th>\n",
       "      <th>Title</th>\n",
       "    </tr>\n",
       "  </thead>\n",
       "  <tbody>\n",
       "    <tr>\n",
       "      <th>0</th>\n",
       "      <td>50</td>\n",
       "      <td>Star Wars: Episode VII - The Force Awakens</td>\n",
       "    </tr>\n",
       "  </tbody>\n",
       "</table>\n",
       "</div>"
      ],
      "text/plain": [
       "   index                                       Title\n",
       "0     50  Star Wars: Episode VII - The Force Awakens"
      ]
     },
     "execution_count": 328,
     "metadata": {},
     "output_type": "execute_result"
    }
   ],
   "source": [
    "df.Title[df['Revenue (Millions)']== df['Revenue (Millions)'].max()].reset_index()"
   ]
  },
  {
   "cell_type": "markdown",
   "metadata": {},
   "source": [
    "### 16. Display Top 10 Highest Rated Movie Titles And its Directors"
   ]
  },
  {
   "cell_type": "code",
   "execution_count": 329,
   "metadata": {
    "tags": []
   },
   "outputs": [
    {
     "data": {
      "text/html": [
       "<div>\n",
       "<style scoped>\n",
       "    .dataframe tbody tr th:only-of-type {\n",
       "        vertical-align: middle;\n",
       "    }\n",
       "\n",
       "    .dataframe tbody tr th {\n",
       "        vertical-align: top;\n",
       "    }\n",
       "\n",
       "    .dataframe thead th {\n",
       "        text-align: right;\n",
       "    }\n",
       "</style>\n",
       "<table border=\"1\" class=\"dataframe\">\n",
       "  <thead>\n",
       "    <tr style=\"text-align: right;\">\n",
       "      <th></th>\n",
       "      <th>Title</th>\n",
       "      <th>Director</th>\n",
       "      <th>Rating</th>\n",
       "    </tr>\n",
       "  </thead>\n",
       "  <tbody>\n",
       "    <tr>\n",
       "      <th>54</th>\n",
       "      <td>The Dark Knight</td>\n",
       "      <td>Christopher Nolan</td>\n",
       "      <td>9.0</td>\n",
       "    </tr>\n",
       "    <tr>\n",
       "      <th>80</th>\n",
       "      <td>Inception</td>\n",
       "      <td>Christopher Nolan</td>\n",
       "      <td>8.8</td>\n",
       "    </tr>\n",
       "    <tr>\n",
       "      <th>117</th>\n",
       "      <td>Dangal</td>\n",
       "      <td>Nitesh Tiwari</td>\n",
       "      <td>8.8</td>\n",
       "    </tr>\n",
       "    <tr>\n",
       "      <th>36</th>\n",
       "      <td>Interstellar</td>\n",
       "      <td>Christopher Nolan</td>\n",
       "      <td>8.6</td>\n",
       "    </tr>\n",
       "    <tr>\n",
       "      <th>96</th>\n",
       "      <td>Kimi no na wa</td>\n",
       "      <td>Makoto Shinkai</td>\n",
       "      <td>8.6</td>\n",
       "    </tr>\n",
       "    <tr>\n",
       "      <th>249</th>\n",
       "      <td>The Intouchables</td>\n",
       "      <td>Olivier Nakache</td>\n",
       "      <td>8.6</td>\n",
       "    </tr>\n",
       "    <tr>\n",
       "      <th>133</th>\n",
       "      <td>Whiplash</td>\n",
       "      <td>Damien Chazelle</td>\n",
       "      <td>8.5</td>\n",
       "    </tr>\n",
       "    <tr>\n",
       "      <th>64</th>\n",
       "      <td>The Prestige</td>\n",
       "      <td>Christopher Nolan</td>\n",
       "      <td>8.5</td>\n",
       "    </tr>\n",
       "    <tr>\n",
       "      <th>99</th>\n",
       "      <td>The Departed</td>\n",
       "      <td>Martin Scorsese</td>\n",
       "      <td>8.5</td>\n",
       "    </tr>\n",
       "    <tr>\n",
       "      <th>991</th>\n",
       "      <td>Taare Zameen Par</td>\n",
       "      <td>Aamir Khan</td>\n",
       "      <td>8.5</td>\n",
       "    </tr>\n",
       "  </tbody>\n",
       "</table>\n",
       "</div>"
      ],
      "text/plain": [
       "                Title           Director  Rating\n",
       "54    The Dark Knight  Christopher Nolan     9.0\n",
       "80          Inception  Christopher Nolan     8.8\n",
       "117            Dangal      Nitesh Tiwari     8.8\n",
       "36       Interstellar  Christopher Nolan     8.6\n",
       "96      Kimi no na wa     Makoto Shinkai     8.6\n",
       "249  The Intouchables    Olivier Nakache     8.6\n",
       "133          Whiplash    Damien Chazelle     8.5\n",
       "64       The Prestige  Christopher Nolan     8.5\n",
       "99       The Departed    Martin Scorsese     8.5\n",
       "991  Taare Zameen Par         Aamir Khan     8.5"
      ]
     },
     "execution_count": 329,
     "metadata": {},
     "output_type": "execute_result"
    }
   ],
   "source": [
    "df[['Title','Director','Rating']].sort_values(by = \"Rating\", ascending = False).head(10)"
   ]
  },
  {
   "cell_type": "markdown",
   "metadata": {},
   "source": [
    "### 17. Display Top 10 Highest Revenue Movie Titles"
   ]
  },
  {
   "cell_type": "code",
   "execution_count": 330,
   "metadata": {
    "tags": []
   },
   "outputs": [
    {
     "data": {
      "text/html": [
       "<div>\n",
       "<style scoped>\n",
       "    .dataframe tbody tr th:only-of-type {\n",
       "        vertical-align: middle;\n",
       "    }\n",
       "\n",
       "    .dataframe tbody tr th {\n",
       "        vertical-align: top;\n",
       "    }\n",
       "\n",
       "    .dataframe thead th {\n",
       "        text-align: right;\n",
       "    }\n",
       "</style>\n",
       "<table border=\"1\" class=\"dataframe\">\n",
       "  <thead>\n",
       "    <tr style=\"text-align: right;\">\n",
       "      <th></th>\n",
       "      <th>Title</th>\n",
       "      <th>Revenue (Millions)</th>\n",
       "    </tr>\n",
       "  </thead>\n",
       "  <tbody>\n",
       "    <tr>\n",
       "      <th>50</th>\n",
       "      <td>Star Wars: Episode VII - The Force Awakens</td>\n",
       "      <td>936.63</td>\n",
       "    </tr>\n",
       "    <tr>\n",
       "      <th>87</th>\n",
       "      <td>Avatar</td>\n",
       "      <td>760.51</td>\n",
       "    </tr>\n",
       "    <tr>\n",
       "      <th>85</th>\n",
       "      <td>Jurassic World</td>\n",
       "      <td>652.18</td>\n",
       "    </tr>\n",
       "    <tr>\n",
       "      <th>76</th>\n",
       "      <td>The Avengers</td>\n",
       "      <td>623.28</td>\n",
       "    </tr>\n",
       "    <tr>\n",
       "      <th>54</th>\n",
       "      <td>The Dark Knight</td>\n",
       "      <td>533.32</td>\n",
       "    </tr>\n",
       "    <tr>\n",
       "      <th>12</th>\n",
       "      <td>Rogue One</td>\n",
       "      <td>532.17</td>\n",
       "    </tr>\n",
       "    <tr>\n",
       "      <th>119</th>\n",
       "      <td>Finding Dory</td>\n",
       "      <td>486.29</td>\n",
       "    </tr>\n",
       "    <tr>\n",
       "      <th>94</th>\n",
       "      <td>Avengers: Age of Ultron</td>\n",
       "      <td>458.99</td>\n",
       "    </tr>\n",
       "    <tr>\n",
       "      <th>124</th>\n",
       "      <td>The Dark Knight Rises</td>\n",
       "      <td>448.13</td>\n",
       "    </tr>\n",
       "    <tr>\n",
       "      <th>578</th>\n",
       "      <td>The Hunger Games: Catching Fire</td>\n",
       "      <td>424.65</td>\n",
       "    </tr>\n",
       "  </tbody>\n",
       "</table>\n",
       "</div>"
      ],
      "text/plain": [
       "                                          Title  Revenue (Millions)\n",
       "50   Star Wars: Episode VII - The Force Awakens              936.63\n",
       "87                                       Avatar              760.51\n",
       "85                               Jurassic World              652.18\n",
       "76                                 The Avengers              623.28\n",
       "54                              The Dark Knight              533.32\n",
       "12                                    Rogue One              532.17\n",
       "119                                Finding Dory              486.29\n",
       "94                      Avengers: Age of Ultron              458.99\n",
       "124                       The Dark Knight Rises              448.13\n",
       "578             The Hunger Games: Catching Fire              424.65"
      ]
     },
     "execution_count": 330,
     "metadata": {},
     "output_type": "execute_result"
    }
   ],
   "source": [
    "df[['Title','Revenue (Millions)']].sort_values(by = 'Revenue (Millions)' , ascending = False).head(10)"
   ]
  },
  {
   "cell_type": "markdown",
   "metadata": {},
   "source": [
    "### 18.  Find Average Rating of Movies Year Wise"
   ]
  },
  {
   "cell_type": "code",
   "execution_count": 331,
   "metadata": {
    "tags": []
   },
   "outputs": [
    {
     "data": {
      "text/html": [
       "<div>\n",
       "<style scoped>\n",
       "    .dataframe tbody tr th:only-of-type {\n",
       "        vertical-align: middle;\n",
       "    }\n",
       "\n",
       "    .dataframe tbody tr th {\n",
       "        vertical-align: top;\n",
       "    }\n",
       "\n",
       "    .dataframe thead th {\n",
       "        text-align: right;\n",
       "    }\n",
       "</style>\n",
       "<table border=\"1\" class=\"dataframe\">\n",
       "  <thead>\n",
       "    <tr style=\"text-align: right;\">\n",
       "      <th></th>\n",
       "      <th>Year</th>\n",
       "      <th>Rating</th>\n",
       "    </tr>\n",
       "  </thead>\n",
       "  <tbody>\n",
       "    <tr>\n",
       "      <th>0</th>\n",
       "      <td>2006</td>\n",
       "      <td>7.125000</td>\n",
       "    </tr>\n",
       "    <tr>\n",
       "      <th>1</th>\n",
       "      <td>2007</td>\n",
       "      <td>7.133962</td>\n",
       "    </tr>\n",
       "    <tr>\n",
       "      <th>2</th>\n",
       "      <td>2008</td>\n",
       "      <td>6.784615</td>\n",
       "    </tr>\n",
       "    <tr>\n",
       "      <th>3</th>\n",
       "      <td>2009</td>\n",
       "      <td>6.960784</td>\n",
       "    </tr>\n",
       "    <tr>\n",
       "      <th>4</th>\n",
       "      <td>2010</td>\n",
       "      <td>6.826667</td>\n",
       "    </tr>\n",
       "    <tr>\n",
       "      <th>5</th>\n",
       "      <td>2011</td>\n",
       "      <td>6.838095</td>\n",
       "    </tr>\n",
       "    <tr>\n",
       "      <th>6</th>\n",
       "      <td>2012</td>\n",
       "      <td>6.925000</td>\n",
       "    </tr>\n",
       "    <tr>\n",
       "      <th>7</th>\n",
       "      <td>2013</td>\n",
       "      <td>6.812088</td>\n",
       "    </tr>\n",
       "    <tr>\n",
       "      <th>8</th>\n",
       "      <td>2014</td>\n",
       "      <td>6.837755</td>\n",
       "    </tr>\n",
       "    <tr>\n",
       "      <th>9</th>\n",
       "      <td>2015</td>\n",
       "      <td>6.602362</td>\n",
       "    </tr>\n",
       "    <tr>\n",
       "      <th>10</th>\n",
       "      <td>2016</td>\n",
       "      <td>6.436700</td>\n",
       "    </tr>\n",
       "  </tbody>\n",
       "</table>\n",
       "</div>"
      ],
      "text/plain": [
       "    Year    Rating\n",
       "0   2006  7.125000\n",
       "1   2007  7.133962\n",
       "2   2008  6.784615\n",
       "3   2009  6.960784\n",
       "4   2010  6.826667\n",
       "5   2011  6.838095\n",
       "6   2012  6.925000\n",
       "7   2013  6.812088\n",
       "8   2014  6.837755\n",
       "9   2015  6.602362\n",
       "10  2016  6.436700"
      ]
     },
     "execution_count": 331,
     "metadata": {},
     "output_type": "execute_result"
    }
   ],
   "source": [
    "df.groupby(\"Year\").mean(\"Rating\").reset_index().iloc[:,[0,3]]"
   ]
  },
  {
   "cell_type": "markdown",
   "metadata": {},
   "source": [
    "### 19. Does Rating Affect The Revenue?"
   ]
  },
  {
   "cell_type": "code",
   "execution_count": 332,
   "metadata": {
    "tags": []
   },
   "outputs": [
    {
     "data": {
      "text/plain": [
       "<Axes: xlabel='Rating', ylabel='Revenue (Millions)'>"
      ]
     },
     "execution_count": 332,
     "metadata": {},
     "output_type": "execute_result"
    },
    {
     "data": {
      "image/png": "[encoded data removed]",
      "text/plain": [
       "<Figure size 640x480 with 1 Axes>"
      ]
     },
     "metadata": {},
     "output_type": "display_data"
    }
   ],
   "source": [
    "sns.scatterplot(y = \"Revenue (Millions)\", x = \"Rating\", data = df)"
   ]
  },
  {
   "cell_type": "markdown",
   "metadata": {},
   "source": [
    "### 20. Classify Movies Based on Ratings [Excellent, Good and Average]"
   ]
  },
  {
   "cell_type": "code",
   "execution_count": 333,
   "metadata": {
    "tags": []
   },
   "outputs": [],
   "source": [
    "cond = [\n",
    "    (df.Rating >= 7.0),\n",
    "    (df.Rating >=4.0) & (df.Rating < 6.9),\n",
    "    (df.Rating >=1.0) & (df.Rating <3.9)\n",
    "        ]\n",
    "\n",
    "choices = ['Excellent','Good','Average']\n",
    "\n",
    "classfic = np.select(cond,choices,default = 'Bad')\n",
    "\n",
    "mycopy['Class'] = classfic"
   ]
  },
  {
   "cell_type": "code",
   "execution_count": 334,
   "metadata": {
    "tags": []
   },
   "outputs": [
    {
     "data": {
      "text/html": [
       "<div>\n",
       "<style scoped>\n",
       "    .dataframe tbody tr th:only-of-type {\n",
       "        vertical-align: middle;\n",
       "    }\n",
       "\n",
       "    .dataframe tbody tr th {\n",
       "        vertical-align: top;\n",
       "    }\n",
       "\n",
       "    .dataframe thead th {\n",
       "        text-align: right;\n",
       "    }\n",
       "</style>\n",
       "<table border=\"1\" class=\"dataframe\">\n",
       "  <thead>\n",
       "    <tr style=\"text-align: right;\">\n",
       "      <th></th>\n",
       "      <th>Rank</th>\n",
       "      <th>Title</th>\n",
       "      <th>Genre</th>\n",
       "      <th>Description</th>\n",
       "      <th>Director</th>\n",
       "      <th>Actors</th>\n",
       "      <th>Year</th>\n",
       "      <th>Runtime (Minutes)</th>\n",
       "      <th>Rating</th>\n",
       "      <th>Votes</th>\n",
       "      <th>Revenue (Millions)</th>\n",
       "      <th>Metascore</th>\n",
       "      <th>Class</th>\n",
       "    </tr>\n",
       "  </thead>\n",
       "  <tbody>\n",
       "    <tr>\n",
       "      <th>0</th>\n",
       "      <td>1</td>\n",
       "      <td>Guardians of the Galaxy</td>\n",
       "      <td>Action,Adventure,Sci-Fi</td>\n",
       "      <td>A group of intergalactic criminals are forced ...</td>\n",
       "      <td>James Gunn</td>\n",
       "      <td>Chris Pratt, Vin Diesel, Bradley Cooper, Zoe S...</td>\n",
       "      <td>2014</td>\n",
       "      <td>121</td>\n",
       "      <td>8.1</td>\n",
       "      <td>757074</td>\n",
       "      <td>333.13</td>\n",
       "      <td>76.0</td>\n",
       "      <td>Excellent</td>\n",
       "    </tr>\n",
       "    <tr>\n",
       "      <th>1</th>\n",
       "      <td>2</td>\n",
       "      <td>Prometheus</td>\n",
       "      <td>Adventure,Mystery,Sci-Fi</td>\n",
       "      <td>Following clues to the origin of mankind, a te...</td>\n",
       "      <td>Ridley Scott</td>\n",
       "      <td>Noomi Rapace, Logan Marshall-Green, Michael Fa...</td>\n",
       "      <td>2012</td>\n",
       "      <td>124</td>\n",
       "      <td>7.0</td>\n",
       "      <td>485820</td>\n",
       "      <td>126.46</td>\n",
       "      <td>65.0</td>\n",
       "      <td>Excellent</td>\n",
       "    </tr>\n",
       "    <tr>\n",
       "      <th>2</th>\n",
       "      <td>3</td>\n",
       "      <td>Split</td>\n",
       "      <td>Horror,Thriller</td>\n",
       "      <td>Three girls are kidnapped by a man with a diag...</td>\n",
       "      <td>M. Night Shyamalan</td>\n",
       "      <td>James McAvoy, Anya Taylor-Joy, Haley Lu Richar...</td>\n",
       "      <td>2016</td>\n",
       "      <td>117</td>\n",
       "      <td>7.3</td>\n",
       "      <td>157606</td>\n",
       "      <td>138.12</td>\n",
       "      <td>62.0</td>\n",
       "      <td>Excellent</td>\n",
       "    </tr>\n",
       "    <tr>\n",
       "      <th>3</th>\n",
       "      <td>4</td>\n",
       "      <td>Sing</td>\n",
       "      <td>Animation,Comedy,Family</td>\n",
       "      <td>In a city of humanoid animals, a hustling thea...</td>\n",
       "      <td>Christophe Lourdelet</td>\n",
       "      <td>Matthew McConaughey,Reese Witherspoon, Seth Ma...</td>\n",
       "      <td>2016</td>\n",
       "      <td>108</td>\n",
       "      <td>7.2</td>\n",
       "      <td>60545</td>\n",
       "      <td>270.32</td>\n",
       "      <td>59.0</td>\n",
       "      <td>Excellent</td>\n",
       "    </tr>\n",
       "    <tr>\n",
       "      <th>4</th>\n",
       "      <td>5</td>\n",
       "      <td>Suicide Squad</td>\n",
       "      <td>Action,Adventure,Fantasy</td>\n",
       "      <td>A secret government agency recruits some of th...</td>\n",
       "      <td>David Ayer</td>\n",
       "      <td>Will Smith, Jared Leto, Margot Robbie, Viola D...</td>\n",
       "      <td>2016</td>\n",
       "      <td>123</td>\n",
       "      <td>6.2</td>\n",
       "      <td>393727</td>\n",
       "      <td>325.02</td>\n",
       "      <td>40.0</td>\n",
       "      <td>Good</td>\n",
       "    </tr>\n",
       "    <tr>\n",
       "      <th>...</th>\n",
       "      <td>...</td>\n",
       "      <td>...</td>\n",
       "      <td>...</td>\n",
       "      <td>...</td>\n",
       "      <td>...</td>\n",
       "      <td>...</td>\n",
       "      <td>...</td>\n",
       "      <td>...</td>\n",
       "      <td>...</td>\n",
       "      <td>...</td>\n",
       "      <td>...</td>\n",
       "      <td>...</td>\n",
       "      <td>...</td>\n",
       "    </tr>\n",
       "    <tr>\n",
       "      <th>995</th>\n",
       "      <td>996</td>\n",
       "      <td>Secret in Their Eyes</td>\n",
       "      <td>Crime,Drama,Mystery</td>\n",
       "      <td>A tight-knit team of rising investigators, alo...</td>\n",
       "      <td>Billy Ray</td>\n",
       "      <td>Chiwetel Ejiofor, Nicole Kidman, Julia Roberts...</td>\n",
       "      <td>2015</td>\n",
       "      <td>111</td>\n",
       "      <td>6.2</td>\n",
       "      <td>27585</td>\n",
       "      <td>NaN</td>\n",
       "      <td>45.0</td>\n",
       "      <td>Good</td>\n",
       "    </tr>\n",
       "    <tr>\n",
       "      <th>996</th>\n",
       "      <td>997</td>\n",
       "      <td>Hostel: Part II</td>\n",
       "      <td>Horror</td>\n",
       "      <td>Three American college students studying abroa...</td>\n",
       "      <td>Eli Roth</td>\n",
       "      <td>Lauren German, Heather Matarazzo, Bijou Philli...</td>\n",
       "      <td>2007</td>\n",
       "      <td>94</td>\n",
       "      <td>5.5</td>\n",
       "      <td>73152</td>\n",
       "      <td>17.54</td>\n",
       "      <td>46.0</td>\n",
       "      <td>Good</td>\n",
       "    </tr>\n",
       "    <tr>\n",
       "      <th>997</th>\n",
       "      <td>998</td>\n",
       "      <td>Step Up 2: The Streets</td>\n",
       "      <td>Drama,Music,Romance</td>\n",
       "      <td>Romantic sparks occur between two dance studen...</td>\n",
       "      <td>Jon M. Chu</td>\n",
       "      <td>Robert Hoffman, Briana Evigan, Cassie Ventura,...</td>\n",
       "      <td>2008</td>\n",
       "      <td>98</td>\n",
       "      <td>6.2</td>\n",
       "      <td>70699</td>\n",
       "      <td>58.01</td>\n",
       "      <td>50.0</td>\n",
       "      <td>Good</td>\n",
       "    </tr>\n",
       "    <tr>\n",
       "      <th>998</th>\n",
       "      <td>999</td>\n",
       "      <td>Search Party</td>\n",
       "      <td>Adventure,Comedy</td>\n",
       "      <td>A pair of friends embark on a mission to reuni...</td>\n",
       "      <td>Scot Armstrong</td>\n",
       "      <td>Adam Pally, T.J. Miller, Thomas Middleditch,Sh...</td>\n",
       "      <td>2014</td>\n",
       "      <td>93</td>\n",
       "      <td>5.6</td>\n",
       "      <td>4881</td>\n",
       "      <td>NaN</td>\n",
       "      <td>22.0</td>\n",
       "      <td>Good</td>\n",
       "    </tr>\n",
       "    <tr>\n",
       "      <th>999</th>\n",
       "      <td>1000</td>\n",
       "      <td>Nine Lives</td>\n",
       "      <td>Comedy,Family,Fantasy</td>\n",
       "      <td>A stuffy businessman finds himself trapped ins...</td>\n",
       "      <td>Barry Sonnenfeld</td>\n",
       "      <td>Kevin Spacey, Jennifer Garner, Robbie Amell,Ch...</td>\n",
       "      <td>2016</td>\n",
       "      <td>87</td>\n",
       "      <td>5.3</td>\n",
       "      <td>12435</td>\n",
       "      <td>19.64</td>\n",
       "      <td>11.0</td>\n",
       "      <td>Good</td>\n",
       "    </tr>\n",
       "  </tbody>\n",
       "</table>\n",
       "<p>1000 rows × 13 columns</p>\n",
       "</div>"
      ],
      "text/plain": [
       "     Rank                    Title                     Genre  \\\n",
       "0       1  Guardians of the Galaxy   Action,Adventure,Sci-Fi   \n",
       "1       2               Prometheus  Adventure,Mystery,Sci-Fi   \n",
       "2       3                    Split           Horror,Thriller   \n",
       "3       4                     Sing   Animation,Comedy,Family   \n",
       "4       5            Suicide Squad  Action,Adventure,Fantasy   \n",
       "..    ...                      ...                       ...   \n",
       "995   996     Secret in Their Eyes       Crime,Drama,Mystery   \n",
       "996   997          Hostel: Part II                    Horror   \n",
       "997   998   Step Up 2: The Streets       Drama,Music,Romance   \n",
       "998   999             Search Party          Adventure,Comedy   \n",
       "999  1000               Nine Lives     Comedy,Family,Fantasy   \n",
       "\n",
       "                                           Description              Director  \\\n",
       "0    A group of intergalactic criminals are forced ...            James Gunn   \n",
       "1    Following clues to the origin of mankind, a te...          Ridley Scott   \n",
       "2    Three girls are kidnapped by a man with a diag...    M. Night Shyamalan   \n",
       "3    In a city of humanoid animals, a hustling thea...  Christophe Lourdelet   \n",
       "4    A secret government agency recruits some of th...            David Ayer   \n",
       "..                                                 ...                   ...   \n",
       "995  A tight-knit team of rising investigators, alo...             Billy Ray   \n",
       "996  Three American college students studying abroa...              Eli Roth   \n",
       "997  Romantic sparks occur between two dance studen...            Jon M. Chu   \n",
       "998  A pair of friends embark on a mission to reuni...        Scot Armstrong   \n",
       "999  A stuffy businessman finds himself trapped ins...      Barry Sonnenfeld   \n",
       "\n",
       "                                                Actors  Year  \\\n",
       "0    Chris Pratt, Vin Diesel, Bradley Cooper, Zoe S...  2014   \n",
       "1    Noomi Rapace, Logan Marshall-Green, Michael Fa...  2012   \n",
       "2    James McAvoy, Anya Taylor-Joy, Haley Lu Richar...  2016   \n",
       "3    Matthew McConaughey,Reese Witherspoon, Seth Ma...  2016   \n",
       "4    Will Smith, Jared Leto, Margot Robbie, Viola D...  2016   \n",
       "..                                                 ...   ...   \n",
       "995  Chiwetel Ejiofor, Nicole Kidman, Julia Roberts...  2015   \n",
       "996  Lauren German, Heather Matarazzo, Bijou Philli...  2007   \n",
       "997  Robert Hoffman, Briana Evigan, Cassie Ventura,...  2008   \n",
       "998  Adam Pally, T.J. Miller, Thomas Middleditch,Sh...  2014   \n",
       "999  Kevin Spacey, Jennifer Garner, Robbie Amell,Ch...  2016   \n",
       "\n",
       "     Runtime (Minutes)  Rating   Votes  Revenue (Millions)  Metascore  \\\n",
       "0                  121     8.1  757074              333.13       76.0   \n",
       "1                  124     7.0  485820              126.46       65.0   \n",
       "2                  117     7.3  157606              138.12       62.0   \n",
       "3                  108     7.2   60545              270.32       59.0   \n",
       "4                  123     6.2  393727              325.02       40.0   \n",
       "..                 ...     ...     ...                 ...        ...   \n",
       "995                111     6.2   27585                 NaN       45.0   \n",
       "996                 94     5.5   73152               17.54       46.0   \n",
       "997                 98     6.2   70699               58.01       50.0   \n",
       "998                 93     5.6    4881                 NaN       22.0   \n",
       "999                 87     5.3   12435               19.64       11.0   \n",
       "\n",
       "         Class  \n",
       "0    Excellent  \n",
       "1    Excellent  \n",
       "2    Excellent  \n",
       "3    Excellent  \n",
       "4         Good  \n",
       "..         ...  \n",
       "995       Good  \n",
       "996       Good  \n",
       "997       Good  \n",
       "998       Good  \n",
       "999       Good  \n",
       "\n",
       "[1000 rows x 13 columns]"
      ]
     },
     "execution_count": 334,
     "metadata": {},
     "output_type": "execute_result"
    }
   ],
   "source": [
    "mycopy"
   ]
  },
  {
   "cell_type": "markdown",
   "metadata": {},
   "source": [
    "### 21. Count Number of Action Movies"
   ]
  },
  {
   "cell_type": "code",
   "execution_count": 335,
   "metadata": {
    "tags": []
   },
   "outputs": [],
   "source": [
    "mycopy2 = mycopy.Genre.str.lower()"
   ]
  },
  {
   "cell_type": "code",
   "execution_count": 336,
   "metadata": {
    "tags": []
   },
   "outputs": [
    {
     "data": {
      "text/plain": [
       "303"
      ]
     },
     "execution_count": 336,
     "metadata": {},
     "output_type": "execute_result"
    }
   ],
   "source": [
    "mycopy2[mycopy2.str.contains(\"action\")].count()"
   ]
  },
  {
   "cell_type": "markdown",
   "metadata": {},
   "source": [
    "### 22. Find Unique Values From Genre "
   ]
  },
  {
   "cell_type": "code",
   "execution_count": 374,
   "metadata": {
    "tags": []
   },
   "outputs": [
    {
     "data": {
      "text/plain": [
       "0       [Action,Adventure,Sci-Fi]\n",
       "1      [Adventure,Mystery,Sci-Fi]\n",
       "2               [Horror,Thriller]\n",
       "3       [Animation,Comedy,Family]\n",
       "4      [Action,Adventure,Fantasy]\n",
       "                  ...            \n",
       "995         [Crime,Drama,Mystery]\n",
       "996                      [Horror]\n",
       "997         [Drama,Music,Romance]\n",
       "998            [Adventure,Comedy]\n",
       "999       [Comedy,Family,Fantasy]\n",
       "Name: Genre, Length: 1000, dtype: object"
      ]
     },
     "execution_count": 374,
     "metadata": {},
     "output_type": "execute_result"
    }
   ],
   "source": [
    "spl = df.Genre.str.split()\n",
    "spl"
   ]
  },
  {
   "cell_type": "code",
   "execution_count": 398,
   "metadata": {
    "tags": []
   },
   "outputs": [],
   "source": [
    "uni = []\n",
    "for i in spl: \n",
    "    for l in i:\n",
    "        #for k in l:\n",
    "            uni.append(l)"
   ]
  },
  {
   "cell_type": "code",
   "execution_count": 401,
   "metadata": {
    "tags": []
   },
   "outputs": [],
   "source": [
    "va = ' '.join(uni)"
   ]
  },
  {
   "cell_type": "code",
   "execution_count": 407,
   "metadata": {
    "tags": []
   },
   "outputs": [],
   "source": [
    "va1 = va.split(\",\")"
   ]
  },
  {
   "cell_type": "code",
   "execution_count": 410,
   "metadata": {
    "tags": []
   },
   "outputs": [
    {
     "data": {
      "text/plain": [
       "'Action Adventure Sci-Fi Adventure Mystery Sci-Fi Horror Thriller Animation Comedy Family Action Adventure Fantasy Action Adventure Fantasy Comedy Drama Music Comedy Action Adventure Biography Adventure Drama Romance Adventure Family Fantasy Biography Drama History Action Adventure Sci-Fi Animation Adventure Comedy Action Comedy Drama Animation Adventure Comedy Biography Drama History Action Thriller Biography Drama Drama Mystery Sci-Fi Adventure Drama Thriller Drama Crime Drama Horror Animation Adventure Comedy Action Adventure Sci-Fi Comedy Action Adventure Drama Horror Thriller Comedy Action Adventure Drama Comedy Drama Thriller Action Adventure Sci-Fi Action Adventure Comedy Action Horror Sci-Fi Action Adventure Sci-Fi Adventure Drama Sci-Fi Action Adventure Fantasy Action Adventure Western Comedy Drama Animation Adventure Comedy Drama Horror Biography Drama History Drama Action Adventure Fantasy Drama Thriller Adventure Drama Fantasy Action Adventure Sci-Fi Drama Action Adventure Fantasy Action Adventure Fantasy Comedy Drama Action Crime Thriller Action Crime Drama Adventure Drama History Crime Horror Thriller Drama Romance Comedy Drama Romance Biography Drama Action Adventure Sci-Fi Horror Mystery Thriller Crime Drama Mystery Drama Romance Thriller Drama Mystery Sci-Fi Action Adventure Comedy Drama History Thriller Action Adventure Sci-Fi Drama Action Drama Thriller Drama History Action Drama Romance Drama Fantasy Drama Romance Animation Adventure Comedy Action Adventure Fantasy Action Sci-Fi Adventure Drama War Action Adventure Fantasy Action Comedy Fantasy Action Adventure Sci-Fi Comedy Drama Biography Comedy Crime Crime Drama Mystery Action Crime Thriller Action Adventure Sci-Fi Crime Drama Action Adventure Fantasy Crime Drama Mystery Action Crime Drama Crime Drama Mystery Action Adventure Fantasy Drama Comedy Crime Drama Action Adventure Sci-Fi Action Comedy Crime Animation Drama Fantasy Horror Mystery Sci-Fi Drama Mystery Thriller Crime Drama Thriller Biography Crime Drama Action Adventure Fantasy Adventure Drama Sci-Fi Crime Mystery Thriller Action Adventure Comedy Crime Drama Thriller Comedy Action Adventure Drama Drama Drama Mystery Sci-Fi Action Horror Thriller Biography Drama History Romance Sci-Fi Action Fantasy War Adventure Drama Fantasy Comedy Horror Thriller Action Biography Drama Drama Horror Mystery Animation Adventure Comedy Adventure Drama Family Adventure Mystery Sci-Fi Adventure Comedy Romance Action Action Thriller Adventure Drama Family Action Adventure Sci-Fi Adventure Crime Mystery Comedy Family Musical Adventure Drama Thriller Drama Adventure Comedy Drama Drama Horror Thriller Drama Music Action Crime Thriller Crime Drama Thriller Crime Drama Thriller Drama Romance Mystery Thriller Mystery Thriller Western Action Adventure Sci-Fi Comedy Family Biography Comedy Drama Drama Drama Western Drama Mystery Romance Comedy Drama Action Drama Mystery Comedy Action Adventure Crime Adventure Family Fantasy Adventure Sci-Fi Thriller Drama Action Crime Drama Drama Horror Mystery Action Horror Sci-Fi Action Adventure Sci-Fi Comedy Drama Romance Action Comedy Fantasy Action Comedy Mystery Thriller War Action Comedy Crime Action Adventure Sci-Fi Action Adventure Crime Action Adventure Thriller Drama Fantasy Romance Action Adventure Comedy Biography Drama History Action Drama History Action Adventure Thriller Crime Drama Thriller Animation Adventure Family Adventure Horror Drama Romance Sci-Fi Animation Adventure Comedy Action Adventure Family Action Adventure Drama Action Comedy Horror Mystery Thriller Action Adventure Comedy Comedy Romance Horror Mystery Drama Family Fantasy Sci-Fi Drama Thriller Drama Romance Drama War Drama Fantasy Horror Crime Drama Comedy Drama Romance Drama Romance Drama Crime Drama History Horror Sci-Fi Thriller Action Drama Sport Action Adventure Sci-Fi Crime Drama Thriller Adventure Biography Drama Biography Drama Thriller Action Comedy Crime Action Adventure Sci-Fi Drama Fantasy Horror Biography Drama Thriller Action Adventure Sci-Fi Action Adventure Mystery Action Adventure Sci-Fi Drama Horror Comedy Drama Romance Comedy Romance Drama Horror Thriller Action Adventure Drama Drama Action Adventure Sci-Fi Action Drama Mystery Action Adventure Fantasy Action Adventure Fantasy Action Adventure Sci-Fi Action Adventure Comedy Drama Horror Action Comedy Action Adventure Sci-Fi Animation Adventure Comedy Horror Mystery Crime Drama Mystery Comedy Crime Drama Comedy Drama Romance Action Adventure Sci-Fi Action Adventure Family Horror Sci-Fi Thriller Drama Fantasy War Crime Drama Thriller Action Adventure Drama Action Adventure Thriller Action Adventure Drama Drama Romance Biography Drama History Drama Horror Thriller Adventure Comedy Drama Action Adventure Romance Action Drama War Animation Adventure Comedy Animation Adventure Comedy Action Adventure Sci-Fi Adventure Family Fantasy Drama Musical Romance Drama Sci-Fi Thriller Comedy Drama Action Comedy Crime Biography Comedy Drama Comedy Drama Romance Drama Thriller Biography Drama History Action Adventure Sci-Fi Horror Mystery Thriller Comedy Action Adventure Sci-Fi Action Drama Sci-Fi Horror Drama Thriller Comedy Drama Romance Drama Thriller Comedy Drama Drama Action Adventure Comedy Drama Horror Thriller Comedy Drama Sci-Fi Action Adventure Sci-Fi Horror Action Adventure Thriller Adventure Fantasy Action Comedy Crime Comedy Drama Music Animation Adventure Comedy Action Adventure Mystery Action Comedy Crime Crime Drama History Comedy Action Adventure Sci-Fi Crime Mystery Thriller Action Adventure Crime Thriller Biography Drama Romance Action Adventure Action Fantasy Action Comedy Action Adventure Sci-Fi Action Comedy Crime Thriller Action Drama Horror Comedy Music Romance Comedy Drama Action Adventure Fantasy Drama Romance Animation Adventure Comedy Comedy Drama Biography Crime Drama Drama History Action Crime Thriller Action Biography Drama Horror Comedy Romance Comedy Romance Comedy Crime Drama Adventure Family Fantasy Crime Drama Thriller Action Crime Thriller Comedy Romance Biography Drama Sport Drama Romance Drama Horror Adventure Fantasy Adventure Family Fantasy Action Drama Sci-Fi Action Adventure Sci-Fi Action Horror Comedy Horror Thriller Action Crime Thriller Crime Drama Music Drama Action Crime Thriller Action Sci-Fi Thriller Biography Drama Action Adventure Fantasy Drama Horror Sci-Fi Biography Comedy Drama Crime Horror Thriller Crime Drama Mystery Animation Adventure Comedy Action Biography Drama Biography Drama Biography Drama History Action Biography Drama Drama Fantasy Horror Comedy Drama Romance Drama Sport Drama Romance Comedy Romance Action Crime Thriller Action Crime Drama Action Drama Thriller Adventure Family Fantasy Action Adventure Action Adventure Romance Adventure Family Fantasy Crime Drama Comedy Horror Comedy Fantasy Romance Drama Drama Comedy Drama Comedy Drama Romance Adventure Sci-Fi Thriller Action Adventure Fantasy Comedy Drama Biography Drama Romance Comedy Fantasy Comedy Drama Fantasy Comedy Horror Thriller Action Adventure Sci-Fi Adventure Comedy Horror Comedy Mystery Drama Adventure Drama Fantasy Drama Sport Action Adventure Action Adventure Drama Action Drama Sci-Fi Action Mystery Sci-Fi Action Crime Drama Action Crime Fantasy Biography Comedy Drama Action Crime Thriller Biography Crime Drama Drama Sport Adventure Comedy Drama Action Adventure Thriller Comedy Fantasy Horror Drama Sport Horror Thriller Drama History Thriller Animation Action Adventure Action Adventure Drama Action Comedy Family Action Adventure Drama Action Adventure Sci-Fi Action Adventure Sci-Fi Action Comedy Action Crime Drama Biography Drama Comedy Romance Comedy Drama Fantasy Romance Action Adventure Sci-Fi Comedy Comedy Sci-Fi Comedy Drama Animation Action Adventure Horror Action Biography Crime Animation Adventure Comedy Drama Romance Drama Mystery Thriller Drama History Thriller Animation Adventure Comedy Action Adventure Sci-Fi Adventure Comedy Action Thriller Comedy Music Animation Adventure Comedy Crime Drama Thriller Action Adventure Crime Comedy Drama Horror Drama Drama Mystery Romance Adventure Family Fantasy Drama Action Drama Thriller Drama Action Horror Romance Action Drama Fantasy Action Crime Drama Drama Fantasy Romance Action Crime Thriller Action Mystery Thriller Horror Mystery Thriller Action Horror Sci-Fi Comedy Drama Comedy Action Adventure Horror Action Adventure Thriller Action Crime Drama Comedy Crime Drama Drama Romance Drama Thriller Action Comedy Crime Comedy Adventure Family Fantasy Drama Romance Animation Family Fantasy Drama Romance Thriller Adventure Horror Mystery Action Sci-Fi Adventure Comedy Drama Animation Action Adventure Drama Horror Action Adventure Sci-Fi Comedy Drama Action Horror Mystery Action Thriller Action Adventure Sci-Fi Drama Comedy Drama Romance Comedy Crime Comedy Romance Drama Romance Crime Drama Thriller Horror Mystery Thriller Biography Drama Drama Mystery Sci-Fi Adventure Comedy Family Action Adventure Crime Action Crime Mystery Mystery Thriller Action Sci-Fi Thriller Action Comedy Crime Biography Crime Drama Biography Drama History Action Adventure Sci-Fi Adventure Family Fantasy Biography Drama History Biography Comedy Drama Drama Thriller Horror Thriller Drama Drama War Comedy Drama Romance Drama Romance Sci-Fi Action Crime Drama Comedy Drama Animation Action Adventure Adventure Comedy Drama Comedy Drama Family Drama Romance Thriller Comedy Crime Drama Animation Comedy Family Drama Horror Sci-Fi Action Adventure Drama Action Horror Sci-Fi Action Crime Sport Drama Horror Sci-Fi Drama Horror Sci-Fi Action Adventure Comedy Mystery Sci-Fi Thriller Crime Drama Thriller Animation Adventure Comedy Action Sci-Fi Thriller Drama Romance Crime Drama Thriller Comedy Drama Music Drama Fantasy Romance Crime Drama Thriller Crime Drama Thriller Comedy Drama Romance Comedy Romance Drama Sci-Fi Thriller Drama War Action Crime Drama Sci-Fi Thriller Adventure Drama Horror Comedy Drama Music Comedy Drama Romance Action Adventure Drama Action Crime Drama Adventure Fantasy Drama Romance Biography History Thriller Crime Drama Thriller Action Drama History Biography Comedy Drama Crime Drama Thriller Action Biography Drama Action Drama Sci-Fi Adventure Horror Action Adventure Sci-Fi Action Adventure Mystery Comedy Drama Romance Horror Thriller Action Sci-Fi Thriller Action Sci-Fi Thriller Biography Drama Action Crime Drama Action Crime Mystery Action Adventure Comedy Crime Drama Thriller Crime Drama Mystery Thriller Mystery Sci-Fi Thriller Action Mystery Sci-Fi Drama Romance Drama Thriller Drama Mystery Sci-Fi Comedy Drama Adventure Family Fantasy Biography Drama Sport Drama Comedy Drama Romance Biography Drama Romance Action Adventure Sci-Fi Drama Sci-Fi Thriller Drama Romance Thriller Mystery Thriller Mystery Thriller Action Drama Fantasy Action Adventure Biography Adventure Comedy Sci-Fi Action Adventure Thriller Fantasy Horror Horror Mystery Animation Adventure Comedy Action Adventure Drama Adventure Family Fantasy Action Adventure Sci-Fi Comedy Drama Comedy Drama Crime Drama Thriller Comedy Romance Animation Comedy Family Comedy Drama Comedy Drama Biography Drama Sport Action Adventure Fantasy Action Drama History Action Adventure Sci-Fi Action Adventure Mystery Crime Drama Mystery Action Action Adventure Family Comedy Romance Comedy Drama Romance Biography Drama Sport Action Fantasy Thriller Biography Drama Sport Action Drama Fantasy Adventure Sci-Fi Thriller Animation Adventure Comedy Drama Mystery Thriller Drama Romance Crime Drama Mystery Comedy Romance Sport Comedy Family Drama Horror Mystery Action Drama Sport Action Adventure Comedy Drama Mystery Sci-Fi Animation Action Comedy Action Crime Drama Action Crime Drama Comedy Drama Romance Animation Action Adventure Crime Drama Drama Drama Comedy Crime Drama Action Adventure Fantasy Drama Fantasy Romance Comedy Drama Drama Fantasy Thriller Biography Crime Drama Comedy Drama Romance Action Crime Drama Sci-Fi Action Biography Drama Action Comedy Romance Adventure Comedy Drama Comedy Crime Drama Action Fantasy Horror Drama Horror Horror Action Thriller Action Adventure Mystery Action Adventure Fantasy Comedy Drama Romance Crime Drama Mystery Adventure Comedy Family Comedy Drama Romance Comedy Comedy Drama Horror Drama Horror Thriller Animation Adventure Family Comedy Romance Mystery Romance Sci-Fi Crime Drama Drama Horror Mystery Comedy Biography Drama Comedy Drama Thriller Comedy Western Drama History War Drama Horror Sci-Fi Drama Comedy Drama Fantasy Horror Thriller Drama Romance Action Comedy Fantasy Drama Horror Musical Crime Drama Mystery Horror Mystery Thriller Comedy Music Drama Biography Crime Drama Drama Action Adventure Comedy Crime Drama Mystery Drama Action Comedy Crime Comedy Drama Romance Crime Drama Mystery Action Comedy Crime Drama Drama Romance Crime Drama Mystery Adventure Comedy Romance Comedy Crime Drama Adventure Drama Thriller Biography Crime Drama Crime Drama Thriller Drama History Thriller Action Adventure Sci-Fi Action Comedy Horror Action Crime Mystery Comedy Romance Comedy Action Drama Thriller Action Adventure Sci-Fi Drama Mystery Thriller Comedy Drama Romance Action Fantasy Horror Drama Romance Biography Drama Biography Drama Action Adventure Sci-Fi Animation Adventure Comedy Drama Mystery Thriller Action Horror Sci-Fi Drama Romance Biography Drama Action Adventure Drama Adventure Drama Fantasy Drama Family Comedy Drama Romance Drama Romance Sci-Fi Action Adventure Thriller Comedy Romance Crime Drama Horror Comedy Fantasy Action Comedy Crime Adventure Drama Romance Action Crime Drama Crime Horror Thriller Romance Sci-Fi Thriller Comedy Drama Romance Crime Drama Crime Drama Mystery Action Adventure Sci-Fi Animation Fantasy Animation Adventure Comedy Drama Mystery War Comedy Romance Animation Comedy Family Comedy Horror Mystery Thriller Action Adventure Drama Comedy Drama Adventure Biography Drama Comedy Horror Thriller Action Drama Family Comedy Fantasy Horror Comedy Romance Drama Mystery Romance Action Adventure Comedy Thriller Comedy Adventure Comedy Sci-Fi Comedy Drama Fantasy Mystery Thriller Comedy Drama Adventure Drama Family Horror Thriller Action Drama Romance Drama Romance Action Adventure Fantasy Comedy Action Biography Drama Drama Mystery Romance Adventure Drama Western Drama Music Romance Comedy Romance Western Thriller Comedy Drama Romance Horror Thriller Adventure Family Fantasy Crime Drama Mystery Horror Mystery Comedy Crime Drama Action Comedy Romance Biography Drama History Adventure Drama Drama Thriller Drama Action Adventure Fantasy Action Biography Drama Drama Music Comedy Drama Drama Thriller War Action Mystery Thriller Horror Sci-Fi Thriller Comedy Drama Romance Action Sci-Fi Action Adventure Fantasy Drama Mystery Romance Drama Action Adventure Thriller Action Crime Thriller Animation Action Adventure Drama Fantasy Mystery Drama Sci-Fi Animation Adventure Comedy Horror Thriller Action Thriller Comedy Biography Drama Action Mystery Thriller Action Mystery Sci-Fi Crime Drama Thriller Comedy Romance Comedy Drama Romance Biography Drama Thriller Drama Action Adventure Family Animation Comedy Family Action Crime Drama Comedy Comedy Crime Thriller Comedy Romance Animation Comedy Drama Action Crime Thriller Comedy Romance Adventure Biography Drama Animation Adventure Comedy Crime Drama Mystery Action Comedy Sci-Fi Comedy Fantasy Horror Comedy Crime Animation Action Adventure Action Drama Thriller Fantasy Horror Crime Drama Thriller Action Adventure Fantasy Comedy Drama Romance Biography Drama Romance Action Drama History Action Adventure Comedy Horror Thriller Horror Mystery Thriller Comedy Romance Animation Adventure Comedy Crime Drama Mystery Crime Drama Mystery Adventure Biography Drama Horror Mystery Thriller Horror Thriller Drama Romance War Adventure Fantasy Mystery Action Adventure Sci-Fi Biography Drama Drama Thriller Horror Thriller Drama Horror Thriller Action Adventure Fantasy Action Horror Thriller Comedy Drama Sport Comedy Family Drama Romance Action Adventure Comedy Comedy Mystery Romance Thriller Crime Drama Action Comedy Crime Drama Mystery Biography Drama Romance Comedy Crime Drama Thriller Drama Animation Adventure Comedy Action Thriller Drama Thriller Animation Adventure Comedy Crime Drama Mystery Thriller Biography Drama Sport Crime Drama Thriller Drama Music Crime Drama Thriller Drama Romance Animation Action Adventure Comedy Drama Action Adventure Drama Biography Crime Drama Horror Biography Drama Mystery Drama Romance Animation Drama Romance Comedy Family Drama Mystery Thriller Drama Fantasy Horror Drama Romance Biography Drama History Comedy Family Action Adventure Thriller Comedy Drama Action Adventure Fantasy Action Thriller Drama Romance Comedy Drama Romance Drama Horror Sci-Fi Comedy Horror Romance Drama Action Adventure Sci-Fi Action Adventure Fantasy Action Adventure Drama Biography Comedy Drama Drama Mystery Romance Animation Adventure Comedy Drama Romance Sci-Fi Drama Drama Fantasy Drama Romance Comedy Horror Thriller Comedy Drama Romance Crime Drama Comedy Romance Action Drama Family Comedy Drama Romance Action Thriller War Action Comedy Horror Biography Drama Sport Adventure Comedy Drama Comedy Romance Comedy Romance Comedy Drama Romance Action Adventure Crime Comedy Romance Animation Action Adventure Action Crime Sci-Fi Drama Comedy Drama Romance Crime Thriller Comedy Horror Sci-Fi Drama Thriller Drama Fantasy Horror Thriller Adventure Drama Family Mystery Sci-Fi Thriller Biography Crime Drama Drama Fantasy Horror Action Adventure Thriller Crime Drama Horror Crime Drama Fantasy Adventure Family Fantasy Action Adventure Drama Action Comedy Horror Comedy Drama Family Action Thriller Action Adventure Sci-Fi Adventure Drama Fantasy Drama Drama Comedy Drama Comedy Drama Music Drama Fantasy Music Drama Thriller Comedy Horror Action Comedy Sport Horror Comedy Drama Action Drama Thriller Drama Romance Horror Mystery Adventure Drama Fantasy Thriller Comedy Romance Action Sci-Fi Thriller Fantasy Mystery Thriller Biography Drama Crime Drama Action Adventure Sci-Fi Adventure Comedy Drama Comedy Drama Comedy Drama Romance Adventure Comedy Drama Action Sci-Fi Thriller Comedy Romance Action Fantasy Horror Crime Drama Thriller Action Drama Thriller Crime Drama Mystery Crime Drama Mystery Drama Sci-Fi Thriller Biography Drama History Crime Horror Thriller Drama Drama Mystery Thriller Adventure Biography Adventure Biography Crime Action Horror Thriller Action Adventure Western Horror Thriller Drama Mystery Thriller Comedy Drama Musical Horror Mystery Biography Drama Sport Comedy Family Romance Drama Mystery Thriller Comedy Drama Drama Thriller Biography Drama Family Comedy Drama Family Drama Fantasy Musical Comedy Adventure Family Adventure Comedy Fantasy Horror Thriller Drama Romance Horror Biography Drama History Action Adventure Fantasy Drama Family Music Comedy Drama Romance Action Adventure Horror Comedy Crime Drama Mystery Horror Drama Music Romance Adventure Comedy Comedy Family Fantasy'"
      ]
     },
     "execution_count": 410,
     "metadata": {},
     "output_type": "execute_result"
    }
   ],
   "source": [
    "' '.join(va1)"
   ]
  },
  {
   "cell_type": "code",
   "execution_count": 391,
   "metadata": {
    "tags": []
   },
   "outputs": [
    {
     "ename": "AttributeError",
     "evalue": "'list' object has no attribute 'str'",
     "output_type": "error",
     "traceback": [
      "\u001b[0;31m---------------------------------------------------------------------------\u001b[0m",
      "\u001b[0;31mAttributeError\u001b[0m                            Traceback (most recent call last)",
      "Cell \u001b[0;32mIn[391], line 1\u001b[0m\n\u001b[0;32m----> 1\u001b[0m uni\u001b[38;5;241m.\u001b[39mstr\u001b[38;5;241m.\u001b[39msplit()\n",
      "\u001b[0;31mAttributeError\u001b[0m: 'list' object has no attribute 'str'"
     ]
    }
   ],
   "source": [
    "uni.str.split()"
   ]
  },
  {
   "cell_type": "code",
   "execution_count": 355,
   "metadata": {
    "tags": []
   },
   "outputs": [],
   "source": [
    "#res = ''.join(''.join(l) for l in spl)"
   ]
  },
  {
   "cell_type": "code",
   "execution_count": 359,
   "metadata": {
    "tags": []
   },
   "outputs": [],
   "source": [
    "#res = res.split()"
   ]
  },
  {
   "cell_type": "code",
   "execution_count": 372,
   "metadata": {
    "tags": []
   },
   "outputs": [
    {
     "data": {
      "text/plain": [
       "\"['Action,Adventure,Sci-FiAdventure,Mystery,Sci-FiHorror,ThrillerAnimation,Comedy,FamilyAction,Adventure,FantasyAction,Adventure,FantasyComedy,Drama,MusicComedyAction,Adventure,BiographyAdventure,Drama,RomanceAdventure,Family,FantasyBiography,Drama,HistoryAction,Adventure,Sci-FiAnimation,Adventure,ComedyAction,Comedy,DramaAnimation,Adventure,ComedyBiography,Drama,HistoryAction,ThrillerBiography,DramaDrama,Mystery,Sci-FiAdventure,Drama,ThrillerDramaCrime,Drama,HorrorAnimation,Adventure,ComedyAction,Adventure,Sci-FiComedyAction,Adventure,DramaHorror,ThrillerComedyAction,Adventure,DramaComedyDrama,ThrillerAction,Adventure,Sci-FiAction,Adventure,ComedyAction,Horror,Sci-FiAction,Adventure,Sci-FiAdventure,Drama,Sci-FiAction,Adventure,FantasyAction,Adventure,WesternComedy,DramaAnimation,Adventure,ComedyDramaHorrorBiography,Drama,HistoryDramaAction,Adventure,FantasyDrama,ThrillerAdventure,Drama,FantasyAction,Adventure,Sci-FiDramaAction,Adventure,FantasyAction,Adventure,FantasyComedy,DramaAction,Crime,ThrillerAction,Crime,DramaAdventure,Drama,HistoryCrime,Horror,ThrillerDrama,RomanceComedy,Drama,RomanceBiography,DramaAction,Adventure,Sci-FiHorror,Mystery,ThrillerCrime,Drama,MysteryDrama,Romance,ThrillerDrama,Mystery,Sci-FiAction,Adventure,ComedyDrama,History,ThrillerAction,Adventure,Sci-FiDramaAction,Drama,ThrillerDrama,HistoryAction,Drama,RomanceDrama,FantasyDrama,RomanceAnimation,Adventure,ComedyAction,Adventure,FantasyAction,Sci-FiAdventure,Drama,WarAction,Adventure,FantasyAction,Comedy,FantasyAction,Adventure,Sci-FiComedy,DramaBiography,Comedy,CrimeCrime,Drama,MysteryAction,Crime,ThrillerAction,Adventure,Sci-FiCrime,DramaAction,Adventure,FantasyCrime,Drama,MysteryAction,Crime,DramaCrime,Drama,MysteryAction,Adventure,FantasyDramaComedy,Crime,DramaAction,Adventure,Sci-FiAction,Comedy,CrimeAnimation,Drama,FantasyHorror,Mystery,Sci-FiDrama,Mystery,ThrillerCrime,Drama,ThrillerBiography,Crime,DramaAction,Adventure,FantasyAdventure,Drama,Sci-FiCrime,Mystery,ThrillerAction,Adventure,ComedyCrime,Drama,ThrillerComedyAction,Adventure,DramaDramaDrama,Mystery,Sci-FiAction,Horror,ThrillerBiography,Drama,HistoryRomance,Sci-FiAction,Fantasy,WarAdventure,Drama,FantasyComedyHorror,ThrillerAction,Biography,DramaDrama,Horror,MysteryAnimation,Adventure,ComedyAdventure,Drama,FamilyAdventure,Mystery,Sci-FiAdventure,Comedy,RomanceActionAction,ThrillerAdventure,Drama,FamilyAction,Adventure,Sci-FiAdventure,Crime,MysteryComedy,Family,MusicalAdventure,Drama,ThrillerDramaAdventure,Comedy,DramaDrama,Horror,ThrillerDrama,MusicAction,Crime,ThrillerCrime,Drama,ThrillerCrime,Drama,ThrillerDrama,RomanceMystery,ThrillerMystery,Thriller,WesternAction,Adventure,Sci-FiComedy,FamilyBiography,Comedy,DramaDramaDrama,WesternDrama,Mystery,RomanceComedy,DramaAction,Drama,MysteryComedyAction,Adventure,CrimeAdventure,Family,FantasyAdventure,Sci-Fi,ThrillerDramaAction,Crime,DramaDrama,Horror,MysteryAction,Horror,Sci-FiAction,Adventure,Sci-FiComedy,Drama,RomanceAction,Comedy,FantasyAction,Comedy,MysteryThriller,WarAction,Comedy,CrimeAction,Adventure,Sci-FiAction,Adventure,CrimeAction,Adventure,ThrillerDrama,Fantasy,RomanceAction,Adventure,ComedyBiography,Drama,HistoryAction,Drama,HistoryAction,Adventure,ThrillerCrime,Drama,ThrillerAnimation,Adventure,FamilyAdventure,HorrorDrama,Romance,Sci-FiAnimation,Adventure,ComedyAction,Adventure,FamilyAction,Adventure,DramaAction,ComedyHorror,Mystery,ThrillerAction,Adventure,ComedyComedy,RomanceHorror,MysteryDrama,Family,FantasySci-FiDrama,ThrillerDrama,RomanceDrama,WarDrama,Fantasy,HorrorCrime,DramaComedy,Drama,RomanceDrama,RomanceDramaCrime,Drama,HistoryHorror,Sci-Fi,ThrillerAction,Drama,SportAction,Adventure,Sci-FiCrime,Drama,ThrillerAdventure,Biography,DramaBiography,Drama,ThrillerAction,Comedy,CrimeAction,Adventure,Sci-FiDrama,Fantasy,HorrorBiography,Drama,ThrillerAction,Adventure,Sci-FiAction,Adventure,MysteryAction,Adventure,Sci-FiDrama,HorrorComedy,Drama,RomanceComedy,RomanceDrama,Horror,ThrillerAction,Adventure,DramaDramaAction,Adventure,Sci-FiAction,Drama,MysteryAction,Adventure,FantasyAction,Adventure,FantasyAction,Adventure,Sci-FiAction,Adventure,ComedyDrama,HorrorAction,ComedyAction,Adventure,Sci-FiAnimation,Adventure,ComedyHorror,MysteryCrime,Drama,MysteryComedy,CrimeDramaComedy,Drama,RomanceAction,Adventure,Sci-FiAction,Adventure,FamilyHorror,Sci-Fi,ThrillerDrama,Fantasy,WarCrime,Drama,ThrillerAction,Adventure,DramaAction,Adventure,ThrillerAction,Adventure,DramaDrama,RomanceBiography,Drama,HistoryDrama,Horror,ThrillerAdventure,Comedy,DramaAction,Adventure,RomanceAction,Drama,WarAnimation,Adventure,ComedyAnimation,Adventure,ComedyAction,Adventure,Sci-FiAdventure,Family,FantasyDrama,Musical,RomanceDrama,Sci-Fi,ThrillerComedy,DramaAction,Comedy,CrimeBiography,Comedy,DramaComedy,Drama,RomanceDrama,ThrillerBiography,Drama,HistoryAction,Adventure,Sci-FiHorror,Mystery,ThrillerComedyAction,Adventure,Sci-FiAction,Drama,Sci-FiHorrorDrama,ThrillerComedy,Drama,RomanceDrama,ThrillerComedy,DramaDramaAction,Adventure,ComedyDrama,Horror,ThrillerComedyDrama,Sci-FiAction,Adventure,Sci-FiHorrorAction,Adventure,ThrillerAdventure,FantasyAction,Comedy,CrimeComedy,Drama,MusicAnimation,Adventure,ComedyAction,Adventure,MysteryAction,Comedy,CrimeCrime,Drama,HistoryComedyAction,Adventure,Sci-FiCrime,Mystery,ThrillerAction,Adventure,CrimeThrillerBiography,Drama,RomanceAction,AdventureAction,FantasyAction,ComedyAction,Adventure,Sci-FiAction,Comedy,CrimeThrillerAction,Drama,HorrorComedy,Music,RomanceComedyDramaAction,Adventure,FantasyDrama,RomanceAnimation,Adventure,ComedyComedy,DramaBiography,Crime,DramaDrama,HistoryAction,Crime,ThrillerAction,Biography,DramaHorrorComedy,RomanceComedy,RomanceComedy,Crime,DramaAdventure,Family,FantasyCrime,Drama,ThrillerAction,Crime,ThrillerComedy,RomanceBiography,Drama,SportDrama,RomanceDrama,HorrorAdventure,FantasyAdventure,Family,FantasyAction,Drama,Sci-FiAction,Adventure,Sci-FiAction,HorrorComedy,Horror,ThrillerAction,Crime,ThrillerCrime,Drama,MusicDramaAction,Crime,ThrillerAction,Sci-Fi,ThrillerBiography,DramaAction,Adventure,FantasyDrama,Horror,Sci-FiBiography,Comedy,DramaCrime,Horror,ThrillerCrime,Drama,MysteryAnimation,Adventure,ComedyAction,Biography,DramaBiography,DramaBiography,Drama,HistoryAction,Biography,DramaDrama,Fantasy,HorrorComedy,Drama,RomanceDrama,SportDrama,RomanceComedy,RomanceAction,Crime,ThrillerAction,Crime,DramaAction,Drama,ThrillerAdventure,Family,FantasyAction,AdventureAction,Adventure,RomanceAdventure,Family,FantasyCrime,DramaComedy,HorrorComedy,Fantasy,RomanceDramaDramaComedy,DramaComedy,Drama,RomanceAdventure,Sci-Fi,ThrillerAction,Adventure,FantasyComedy,DramaBiography,Drama,RomanceComedy,FantasyComedy,Drama,FantasyComedyHorror,ThrillerAction,Adventure,Sci-FiAdventure,Comedy,HorrorComedy,MysteryDramaAdventure,Drama,FantasyDrama,SportAction,AdventureAction,Adventure,DramaAction,Drama,Sci-FiAction,Mystery,Sci-FiAction,Crime,DramaAction,Crime,FantasyBiography,Comedy,DramaAction,Crime,ThrillerBiography,Crime,DramaDrama,SportAdventure,Comedy,DramaAction,Adventure,ThrillerComedy,Fantasy,HorrorDrama,SportHorror,ThrillerDrama,History,ThrillerAnimation,Action,AdventureAction,Adventure,DramaAction,Comedy,FamilyAction,Adventure,DramaAction,Adventure,Sci-FiAction,Adventure,Sci-FiAction,ComedyAction,Crime,DramaBiography,DramaComedy,RomanceComedyDrama,Fantasy,RomanceAction,Adventure,Sci-FiComedyComedy,Sci-FiComedy,DramaAnimation,Action,AdventureHorrorAction,Biography,CrimeAnimation,Adventure,ComedyDrama,RomanceDrama,Mystery,ThrillerDrama,History,ThrillerAnimation,Adventure,ComedyAction,Adventure,Sci-FiAdventure,ComedyAction,ThrillerComedy,MusicAnimation,Adventure,ComedyCrime,Drama,ThrillerAction,Adventure,CrimeComedy,Drama,HorrorDramaDrama,Mystery,RomanceAdventure,Family,FantasyDramaAction,Drama,ThrillerDramaAction,Horror,RomanceAction,Drama,FantasyAction,Crime,DramaDrama,Fantasy,RomanceAction,Crime,ThrillerAction,Mystery,ThrillerHorror,Mystery,ThrillerAction,Horror,Sci-FiComedy,DramaComedyAction,Adventure,HorrorAction,Adventure,ThrillerAction,Crime,DramaComedy,Crime,DramaDrama,RomanceDrama,ThrillerAction,Comedy,CrimeComedyAdventure,Family,FantasyDrama,RomanceAnimation,Family,FantasyDrama,RomanceThrillerAdventure,Horror,MysteryAction,Sci-FiAdventure,Comedy,DramaAnimation,Action,AdventureDrama,HorrorAction,Adventure,Sci-FiComedy,DramaAction,Horror,MysteryAction,ThrillerAction,Adventure,Sci-FiDramaComedy,Drama,RomanceComedy,CrimeComedy,RomanceDrama,RomanceCrime,Drama,ThrillerHorror,Mystery,ThrillerBiography,DramaDrama,Mystery,Sci-FiAdventure,Comedy,FamilyAction,Adventure,CrimeAction,Crime,MysteryMystery,ThrillerAction,Sci-Fi,ThrillerAction,Comedy,CrimeBiography,Crime,DramaBiography,Drama,HistoryAction,Adventure,Sci-FiAdventure,Family,FantasyBiography,Drama,HistoryBiography,Comedy,DramaDrama,ThrillerHorror,ThrillerDramaDrama,WarComedy,Drama,RomanceDrama,Romance,Sci-FiAction,Crime,DramaComedy,DramaAnimation,Action,AdventureAdventure,Comedy,DramaComedy,Drama,FamilyDrama,Romance,ThrillerComedy,Crime,DramaAnimation,Comedy,FamilyDrama,Horror,Sci-FiAction,Adventure,DramaAction,Horror,Sci-FiAction,Crime,SportDrama,Horror,Sci-FiDrama,Horror,Sci-FiAction,Adventure,ComedyMystery,Sci-Fi,ThrillerCrime,Drama,ThrillerAnimation,Adventure,ComedyAction,Sci-Fi,ThrillerDrama,RomanceCrime,Drama,ThrillerComedy,Drama,MusicDrama,Fantasy,RomanceCrime,Drama,ThrillerCrime,Drama,ThrillerComedy,Drama,RomanceComedy,RomanceDrama,Sci-Fi,ThrillerDrama,WarAction,Crime,DramaSci-Fi,ThrillerAdventure,Drama,HorrorComedy,Drama,MusicComedy,Drama,RomanceAction,Adventure,DramaAction,Crime,DramaAdventure,FantasyDrama,RomanceBiography,History,ThrillerCrime,Drama,ThrillerAction,Drama,HistoryBiography,Comedy,DramaCrime,Drama,ThrillerAction,Biography,DramaAction,Drama,Sci-FiAdventure,HorrorAction,Adventure,Sci-FiAction,Adventure,MysteryComedy,Drama,RomanceHorror,ThrillerAction,Sci-Fi,ThrillerAction,Sci-Fi,ThrillerBiography,DramaAction,Crime,DramaAction,Crime,MysteryAction,Adventure,ComedyCrime,Drama,ThrillerCrime,DramaMystery,ThrillerMystery,Sci-Fi,ThrillerAction,Mystery,Sci-FiDrama,RomanceDrama,ThrillerDrama,Mystery,Sci-FiComedy,DramaAdventure,Family,FantasyBiography,Drama,SportDramaComedy,Drama,RomanceBiography,Drama,RomanceAction,Adventure,Sci-FiDrama,Sci-Fi,ThrillerDrama,Romance,ThrillerMystery,ThrillerMystery,ThrillerAction,Drama,FantasyAction,Adventure,BiographyAdventure,Comedy,Sci-FiAction,Adventure,ThrillerFantasy,HorrorHorror,MysteryAnimation,Adventure,ComedyAction,Adventure,DramaAdventure,Family,FantasyAction,Adventure,Sci-FiComedy,DramaComedy,DramaCrime,Drama,ThrillerComedy,RomanceAnimation,Comedy,FamilyComedy,DramaComedy,DramaBiography,Drama,SportAction,Adventure,FantasyAction,Drama,HistoryAction,Adventure,Sci-FiAction,Adventure,MysteryCrime,Drama,MysteryActionAction,Adventure,FamilyComedy,RomanceComedy,Drama,RomanceBiography,Drama,SportAction,Fantasy,ThrillerBiography,Drama,SportAction,Drama,FantasyAdventure,Sci-Fi,ThrillerAnimation,Adventure,ComedyDrama,Mystery,ThrillerDrama,RomanceCrime,Drama,MysteryComedy,Romance,SportComedy,FamilyDrama,Horror,MysteryAction,Drama,SportAction,Adventure,ComedyDrama,Mystery,Sci-FiAnimation,Action,ComedyAction,Crime,DramaAction,Crime,DramaComedy,Drama,RomanceAnimation,Action,AdventureCrime,DramaDramaDramaComedy,CrimeDramaAction,Adventure,FantasyDrama,Fantasy,RomanceComedy,DramaDrama,Fantasy,ThrillerBiography,Crime,DramaComedy,Drama,RomanceAction,Crime,DramaSci-FiAction,Biography,DramaAction,Comedy,RomanceAdventure,Comedy,DramaComedy,Crime,DramaAction,Fantasy,HorrorDrama,HorrorHorrorAction,ThrillerAction,Adventure,MysteryAction,Adventure,FantasyComedy,Drama,RomanceCrime,Drama,MysteryAdventure,Comedy,FamilyComedy,Drama,RomanceComedyComedy,Drama,HorrorDrama,Horror,ThrillerAnimation,Adventure,FamilyComedy,RomanceMystery,Romance,Sci-FiCrime,DramaDrama,Horror,MysteryComedyBiography,DramaComedy,Drama,ThrillerComedy,WesternDrama,History,WarDrama,Horror,Sci-FiDramaComedy,DramaFantasy,Horror,ThrillerDrama,RomanceAction,Comedy,FantasyDrama,Horror,MusicalCrime,Drama,MysteryHorror,Mystery,ThrillerComedy,MusicDramaBiography,Crime,DramaDramaAction,Adventure,ComedyCrime,Drama,MysteryDramaAction,Comedy,CrimeComedy,Drama,RomanceCrime,Drama,MysteryAction,Comedy,CrimeDramaDrama,RomanceCrime,Drama,MysteryAdventure,Comedy,RomanceComedy,Crime,DramaAdventure,Drama,ThrillerBiography,Crime,DramaCrime,Drama,ThrillerDrama,History,ThrillerAction,Adventure,Sci-FiAction,ComedyHorrorAction,Crime,MysteryComedy,RomanceComedyAction,Drama,ThrillerAction,Adventure,Sci-FiDrama,Mystery,ThrillerComedy,Drama,RomanceAction,Fantasy,HorrorDrama,RomanceBiography,DramaBiography,DramaAction,Adventure,Sci-FiAnimation,Adventure,ComedyDrama,Mystery,ThrillerAction,Horror,Sci-FiDrama,RomanceBiography,DramaAction,Adventure,DramaAdventure,Drama,FantasyDrama,FamilyComedy,Drama,RomanceDrama,Romance,Sci-FiAction,Adventure,ThrillerComedy,RomanceCrime,Drama,HorrorComedy,FantasyAction,Comedy,CrimeAdventure,Drama,RomanceAction,Crime,DramaCrime,Horror,ThrillerRomance,Sci-Fi,ThrillerComedy,Drama,RomanceCrime,DramaCrime,Drama,MysteryAction,Adventure,Sci-FiAnimation,FantasyAnimation,Adventure,ComedyDrama,Mystery,WarComedy,RomanceAnimation,Comedy,FamilyComedyHorror,Mystery,ThrillerAction,Adventure,DramaComedyDramaAdventure,Biography,DramaComedyHorror,ThrillerAction,Drama,FamilyComedy,Fantasy,HorrorComedy,RomanceDrama,Mystery,RomanceAction,Adventure,ComedyThrillerComedyAdventure,Comedy,Sci-FiComedy,Drama,FantasyMystery,ThrillerComedy,DramaAdventure,Drama,FamilyHorror,ThrillerAction,Drama,RomanceDrama,RomanceAction,Adventure,FantasyComedyAction,Biography,DramaDrama,Mystery,RomanceAdventure,Drama,WesternDrama,Music,RomanceComedy,Romance,WesternThrillerComedy,Drama,RomanceHorror,ThrillerAdventure,Family,FantasyCrime,Drama,MysteryHorror,MysteryComedy,Crime,DramaAction,Comedy,RomanceBiography,Drama,HistoryAdventure,DramaDrama,ThrillerDramaAction,Adventure,FantasyAction,Biography,DramaDrama,MusicComedy,DramaDrama,Thriller,WarAction,Mystery,ThrillerHorror,Sci-Fi,ThrillerComedy,Drama,RomanceAction,Sci-FiAction,Adventure,FantasyDrama,Mystery,RomanceDramaAction,Adventure,ThrillerAction,Crime,ThrillerAnimation,Action,AdventureDrama,Fantasy,MysteryDrama,Sci-FiAnimation,Adventure,ComedyHorror,ThrillerAction,ThrillerComedyBiography,DramaAction,Mystery,ThrillerAction,Mystery,Sci-FiCrime,Drama,ThrillerComedy,RomanceComedy,Drama,RomanceBiography,Drama,ThrillerDramaAction,Adventure,FamilyAnimation,Comedy,FamilyAction,Crime,DramaComedyComedy,Crime,ThrillerComedy,RomanceAnimation,Comedy,DramaAction,Crime,ThrillerComedy,RomanceAdventure,Biography,DramaAnimation,Adventure,ComedyCrime,Drama,MysteryAction,Comedy,Sci-FiComedy,Fantasy,HorrorComedy,CrimeAnimation,Action,AdventureAction,Drama,ThrillerFantasy,HorrorCrime,Drama,ThrillerAction,Adventure,FantasyComedy,Drama,RomanceBiography,Drama,RomanceAction,Drama,HistoryAction,Adventure,ComedyHorror,ThrillerHorror,Mystery,ThrillerComedy,RomanceAnimation,Adventure,ComedyCrime,Drama,MysteryCrime,Drama,MysteryAdventure,Biography,DramaHorror,Mystery,ThrillerHorror,ThrillerDrama,Romance,WarAdventure,Fantasy,MysteryAction,Adventure,Sci-FiBiography,DramaDrama,ThrillerHorror,ThrillerDrama,Horror,ThrillerAction,Adventure,FantasyAction,Horror,ThrillerComedyDrama,SportComedy,FamilyDrama,RomanceAction,Adventure,ComedyComedyMystery,Romance,ThrillerCrime,DramaAction,ComedyCrime,Drama,MysteryBiography,Drama,RomanceComedy,CrimeDrama,ThrillerDramaAnimation,Adventure,ComedyAction,ThrillerDrama,ThrillerAnimation,Adventure,ComedyCrime,Drama,MysteryThrillerBiography,Drama,SportCrime,Drama,ThrillerDrama,MusicCrime,Drama,ThrillerDrama,RomanceAnimation,Action,AdventureComedy,DramaAction,Adventure,DramaBiography,Crime,DramaHorrorBiography,Drama,MysteryDrama,RomanceAnimation,Drama,RomanceComedy,FamilyDramaMystery,ThrillerDrama,Fantasy,HorrorDrama,RomanceBiography,Drama,HistoryComedy,FamilyAction,Adventure,ThrillerComedy,DramaAction,Adventure,FantasyAction,ThrillerDrama,RomanceComedy,Drama,RomanceDrama,Horror,Sci-FiComedy,Horror,RomanceDramaAction,Adventure,Sci-FiAction,Adventure,FantasyAction,Adventure,DramaBiography,Comedy,DramaDrama,Mystery,RomanceAnimation,Adventure,ComedyDrama,Romance,Sci-FiDramaDrama,FantasyDrama,RomanceComedy,Horror,ThrillerComedy,Drama,RomanceCrime,DramaComedy,RomanceAction,Drama,FamilyComedy,Drama,RomanceAction,Thriller,WarAction,Comedy,HorrorBiography,Drama,SportAdventure,Comedy,DramaComedy,RomanceComedy,RomanceComedy,Drama,RomanceAction,Adventure,CrimeComedy,RomanceAnimation,Action,AdventureAction,Crime,Sci-FiDramaComedy,Drama,RomanceCrime,ThrillerComedy,Horror,Sci-FiDrama,ThrillerDrama,Fantasy,HorrorThrillerAdventure,Drama,FamilyMystery,Sci-Fi,ThrillerBiography,Crime,DramaDrama,Fantasy,HorrorAction,Adventure,ThrillerCrime,Drama,HorrorCrime,Drama,FantasyAdventure,Family,FantasyAction,Adventure,DramaAction,Comedy,HorrorComedy,Drama,FamilyAction,ThrillerAction,Adventure,Sci-FiAdventure,Drama,FantasyDramaDramaComedyDramaComedy,Drama,MusicDrama,Fantasy,MusicDramaThrillerComedy,HorrorAction,Comedy,SportHorrorComedy,DramaAction,Drama,ThrillerDrama,RomanceHorror,MysteryAdventure,Drama,FantasyThrillerComedy,RomanceAction,Sci-Fi,ThrillerFantasy,Mystery,ThrillerBiography,DramaCrime,DramaAction,Adventure,Sci-FiAdventureComedy,DramaComedy,DramaComedy,Drama,RomanceAdventure,Comedy,DramaAction,Sci-Fi,ThrillerComedy,RomanceAction,Fantasy,HorrorCrime,Drama,ThrillerAction,Drama,ThrillerCrime,Drama,MysteryCrime,Drama,MysteryDrama,Sci-Fi,ThrillerBiography,Drama,HistoryCrime,Horror,ThrillerDramaDrama,Mystery,ThrillerAdventure,BiographyAdventure,Biography,CrimeAction,Horror,ThrillerAction,Adventure,WesternHorror,ThrillerDrama,Mystery,ThrillerComedy,Drama,MusicalHorror,MysteryBiography,Drama,SportComedy,Family,RomanceDrama,Mystery,ThrillerComedyDramaDrama,ThrillerBiography,Drama,FamilyComedy,Drama,FamilyDrama,Fantasy,MusicalComedyAdventure,FamilyAdventure,Comedy,FantasyHorror,ThrillerDrama,RomanceHorrorBiography,Drama,HistoryAction,Adventure,FantasyDrama,Family,MusicComedy,Drama,RomanceAction,Adventure,HorrorComedyCrime,Drama,MysteryHorrorDrama,Music,RomanceAdventure,ComedyComedy,Family,Fantasy']\""
      ]
     },
     "execution_count": 372,
     "metadata": {},
     "output_type": "execute_result"
    }
   ],
   "source": [
    "#str(res)"
   ]
  },
  {
   "cell_type": "markdown",
   "metadata": {},
   "source": [
    "### 23. How Many Films of Each Genre Were Made?"
   ]
  },
  {
   "cell_type": "code",
   "execution_count": 339,
   "metadata": {
    "tags": []
   },
   "outputs": [
    {
     "data": {
      "text/plain": [
       "Action,Adventure,Sci-Fi    50\n",
       "Drama                      48\n",
       "Comedy,Drama,Romance       35\n",
       "Comedy                     32\n",
       "Drama,Romance              31\n",
       "                           ..\n",
       "Action,Comedy,Family        1\n",
       "Action,Crime,Fantasy        1\n",
       "Comedy,Mystery              1\n",
       "Adventure,Comedy,Horror     1\n",
       "Comedy,Family,Fantasy       1\n",
       "Name: Genre, Length: 207, dtype: int64"
      ]
     },
     "execution_count": 339,
     "metadata": {},
     "output_type": "execute_result"
    }
   ],
   "source": [
    "df.Genre.value_counts()"
   ]
  },
  {
   "cell_type": "code",
   "execution_count": null,
   "metadata": {},
   "outputs": [],
   "source": []
  }
 ],
 "metadata": {
  "kernelspec": {
   "display_name": "Python 3 (ipykernel)",
   "language": "python",
   "name": "python3"
  },
  "language_info": {
   "codemirror_mode": {
    "name": "ipython",
    "version": 3
   },
   "file_extension": ".py",
   "mimetype": "text/x-python",
   "name": "python",
   "nbconvert_exporter": "python",
   "pygments_lexer": "ipython3",
   "version": "3.11.4"
  }
 },
 "nbformat": 4,
 "nbformat_minor": 4
}
