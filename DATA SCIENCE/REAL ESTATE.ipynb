{
 "cells": [
  {
   "cell_type": "code",
   "execution_count": 70,
   "id": "2c765b95-0e71-4d4a-be92-6a1acf1d097c",
   "metadata": {
    "tags": []
   },
   "outputs": [],
   "source": [
    "import pandas as pd\n",
    "import numpy as np\n",
    "\n",
    "df = pd.read_pickle(\"apt_data_v1.pkl\")"
   ]
  },
  {
   "cell_type": "code",
   "execution_count": 3,
   "id": "1d28898c-a1f9-4530-8b2c-318132e98e9b",
   "metadata": {
    "tags": []
   },
   "outputs": [],
   "source": [
    "#df"
   ]
  },
  {
   "cell_type": "code",
   "execution_count": 71,
   "id": "918aa240-4ab2-4715-8031-30b71cf18410",
   "metadata": {
    "tags": []
   },
   "outputs": [],
   "source": [
    "df.Location = df.Location.str.lower()\n",
    "df['House Type'] = df['House Type'].str.lower()"
   ]
  },
  {
   "cell_type": "markdown",
   "id": "dcdd4875-67f8-4e38-a4ba-0ac356e55292",
   "metadata": {},
   "source": [
    "## EAST LEGON"
   ]
  },
  {
   "cell_type": "code",
   "execution_count": 72,
   "id": "3d470b22-50f1-400b-b37d-c4df1e720613",
   "metadata": {
    "tags": []
   },
   "outputs": [],
   "source": [
    "east = df.query('Location.str.contains(\"east legon\")')\n",
    "east = east[east.Location.str.contains(\"hills\") == False]\n",
    "adj = df.query('Location.str.contains(\"adj\")')\n",
    "shi = df.query('Location.str.contains(\"shia\")')\n",
    "east_leg = pd.concat([east,adj,shi],axis = 0)\n",
    "east_leg['Suburb'] = \"East Legon\"\n",
    "east_leg = east_leg[east_leg.Price.str.contains(\"Price\") == False]\n",
    "east_leg = east_leg.astype({\"Price\":\"int\"})\n",
    "east_leg = east_leg[east_leg.Bedrooms.str.contains(\"A\") == False]\n",
    "east_leg = east_leg[east_leg.Bedrooms.str.contains(\"F\") == False]\n",
    "east_leg = east_leg.astype({\"Bedrooms\":\"int\"})"
   ]
  },
  {
   "cell_type": "code",
   "execution_count": 73,
   "id": "18e3b7a3-8cbb-4ec5-9532-f5a7896224b0",
   "metadata": {
    "tags": []
   },
   "outputs": [
    {
     "data": {
      "text/plain": [
       "318"
      ]
     },
     "execution_count": 73,
     "metadata": {},
     "output_type": "execute_result"
    }
   ],
   "source": [
    "east_leg.Location.count()"
   ]
  },
  {
   "cell_type": "markdown",
   "id": "0bdcdef0-ead5-4b0d-a216-42c60061e809",
   "metadata": {
    "tags": []
   },
   "source": [
    "##### MIN, MAX, MEDIAN, OUTLIERS"
   ]
  },
  {
   "cell_type": "code",
   "execution_count": 90,
   "id": "56cd41a0-74fb-4632-b1ac-d4de881b7331",
   "metadata": {
    "tags": []
   },
   "outputs": [
    {
     "data": {
      "text/plain": [
       "1950"
      ]
     },
     "execution_count": 90,
     "metadata": {},
     "output_type": "execute_result"
    }
   ],
   "source": [
    "east_leg.Price.describe()\n",
    "east_leg.Price.min()"
   ]
  },
  {
   "cell_type": "code",
   "execution_count": 97,
   "id": "dd83f5f1-2a4f-45cc-ae7c-dc052b87cf3b",
   "metadata": {
    "tags": []
   },
   "outputs": [
    {
     "data": {
      "text/plain": [
       "1891598.75"
      ]
     },
     "execution_count": 97,
     "metadata": {},
     "output_type": "execute_result"
    }
   ],
   "source": [
    "IQR_east_leg = east_leg.Price.quantile(0.75) - east_leg.Price.quantile(0.25)\n",
    "IQR_east_leg"
   ]
  },
  {
   "cell_type": "code",
   "execution_count": 98,
   "id": "aa217f89-d789-46fb-af9f-e56ddb0fc542",
   "metadata": {
    "tags": []
   },
   "outputs": [
    {
     "data": {
      "text/plain": [
       "-1486369.125"
      ]
     },
     "execution_count": 98,
     "metadata": {},
     "output_type": "execute_result"
    }
   ],
   "source": [
    "low = east_leg.Price.quantile(0.25) - 1.5 * IQR_east_leg\n",
    "low"
   ]
  },
  {
   "cell_type": "code",
   "execution_count": 99,
   "id": "36c17566-8021-45c9-961d-0fc2fed6578a",
   "metadata": {
    "tags": []
   },
   "outputs": [
    {
     "data": {
      "text/plain": [
       "6080025.875"
      ]
     },
     "execution_count": 99,
     "metadata": {},
     "output_type": "execute_result"
    }
   ],
   "source": [
    "high = east_leg.Price.quantile(0.75) + 1.5 * IQR_east_leg\n",
    "high"
   ]
  },
  {
   "cell_type": "code",
   "execution_count": 118,
   "id": "f14e15be-ce76-4070-82d4-5f09b1c00178",
   "metadata": {
    "tags": []
   },
   "outputs": [
    {
     "name": "stdout",
     "output_type": "stream",
     "text": [
      "There are outliers\n"
     ]
    }
   ],
   "source": [
    "if east_leg.Price.min() > low and east_leg.Price.max() < high:\n",
    "    print(\"There are no outliers\")\n",
    "else:\n",
    "    print(\"There are outliers\")"
   ]
  },
  {
   "cell_type": "markdown",
   "id": "76b3981c-7d4e-44a7-9ee8-19a73dcc327f",
   "metadata": {},
   "source": [
    "## EAST LEGON HILLS"
   ]
  },
  {
   "cell_type": "code",
   "execution_count": 74,
   "id": "20398099-ee22-4b65-b2a4-1e1941403df7",
   "metadata": {
    "tags": []
   },
   "outputs": [],
   "source": [
    "east_hills = df.query('Location.str.contains(\"east legon\")')\n",
    "east_hills = east_hills.query('Location.str.contains(\"hills\")')\n",
    "lk = df.query('Location.str.contains(\"lake\")')\n",
    "east_hills = pd.concat([east_hills,lk],axis = 0)\n",
    "east_hills['Suburb'] = \"East Legon Hills\"\n",
    "east_hills = east_hills.astype({\"Price\":\"int\"})\n",
    "east_hills = east_hills.astype({\"Bedrooms\":\"int\"})"
   ]
  },
  {
   "cell_type": "code",
   "execution_count": 75,
   "id": "d767445c-4341-4085-8fe3-9220f03b1d18",
   "metadata": {
    "tags": []
   },
   "outputs": [
    {
     "data": {
      "text/plain": [
       "34"
      ]
     },
     "execution_count": 75,
     "metadata": {},
     "output_type": "execute_result"
    }
   ],
   "source": [
    "east_hills.Location.count()"
   ]
  },
  {
   "cell_type": "markdown",
   "id": "5f497ddc-8543-4d87-b895-791d8672c7a6",
   "metadata": {},
   "source": [
    "### CANTONMENTS"
   ]
  },
  {
   "cell_type": "code",
   "execution_count": 76,
   "id": "524d619d-4e4b-4779-bec8-54c1ef3f8c3a",
   "metadata": {
    "tags": []
   },
   "outputs": [
    {
     "name": "stderr",
     "output_type": "stream",
     "text": [
      "/var/folders/p3/m5hh4tgj36z4r763hs22tq3h0000gp/T/ipykernel_892/1033700490.py:2: SettingWithCopyWarning: \n",
      "A value is trying to be set on a copy of a slice from a DataFrame.\n",
      "Try using .loc[row_indexer,col_indexer] = value instead\n",
      "\n",
      "See the caveats in the documentation: https://pandas.pydata.org/pandas-docs/stable/user_guide/indexing.html#returning-a-view-versus-a-copy\n",
      "  canto['Suburb'] = \"Cantonments\"\n"
     ]
    }
   ],
   "source": [
    "canto = df.query('Location.str.contains(\"cant\")')\n",
    "canto['Suburb'] = \"Cantonments\"\n",
    "canto = canto[canto.Price.str.contains(\"Price\") == False]\n",
    "canto = canto.astype({\"Price\":\"int\"})\n",
    "canto = canto[canto.Bedrooms.str.contains(\"A\") == False]\n",
    "canto = canto.astype({\"Bedrooms\":\"int\"})"
   ]
  },
  {
   "cell_type": "code",
   "execution_count": 77,
   "id": "44543675-8a56-46e7-ad17-1605b899f4ac",
   "metadata": {
    "tags": []
   },
   "outputs": [
    {
     "data": {
      "text/plain": [
       "249"
      ]
     },
     "execution_count": 77,
     "metadata": {},
     "output_type": "execute_result"
    }
   ],
   "source": [
    "canto.Location.count()"
   ]
  },
  {
   "cell_type": "markdown",
   "id": "262e16c0-47c3-4d62-9bde-ba5a3845774c",
   "metadata": {},
   "source": [
    "### LABONE"
   ]
  },
  {
   "cell_type": "code",
   "execution_count": 78,
   "id": "8fdf4020-7d2a-494c-8e2a-9fbd57ff0fa0",
   "metadata": {
    "tags": []
   },
   "outputs": [
    {
     "name": "stderr",
     "output_type": "stream",
     "text": [
      "/var/folders/p3/m5hh4tgj36z4r763hs22tq3h0000gp/T/ipykernel_892/1239506033.py:2: SettingWithCopyWarning: \n",
      "A value is trying to be set on a copy of a slice from a DataFrame.\n",
      "Try using .loc[row_indexer,col_indexer] = value instead\n",
      "\n",
      "See the caveats in the documentation: https://pandas.pydata.org/pandas-docs/stable/user_guide/indexing.html#returning-a-view-versus-a-copy\n",
      "  labone['Suburb'] = \"Labone\"\n"
     ]
    }
   ],
   "source": [
    "labone = df.query('Location.str.contains(\"lab\")')\n",
    "labone['Suburb'] = \"Labone\"\n",
    "labone = labone[labone.Price.str.contains(\"Price\") == False]\n",
    "labone = labone.astype({\"Price\":\"int\"})\n",
    "labone = labone[labone.Bedrooms.str.contains(\"F\") == False]\n",
    "labone = labone[labone.Bedrooms.str.contains(\"A\") == False]"
   ]
  },
  {
   "cell_type": "code",
   "execution_count": 79,
   "id": "48b9f672-642e-4be1-99c1-303ff22bbb85",
   "metadata": {
    "tags": []
   },
   "outputs": [
    {
     "data": {
      "text/plain": [
       "68"
      ]
     },
     "execution_count": 79,
     "metadata": {},
     "output_type": "execute_result"
    }
   ],
   "source": [
    "labone.Location.count()"
   ]
  },
  {
   "cell_type": "markdown",
   "id": "572300c3-45a9-4bd9-a549-29f0949b331c",
   "metadata": {},
   "source": [
    "### AIRPORT"
   ]
  },
  {
   "cell_type": "code",
   "execution_count": 80,
   "id": "819d1ada-c709-4076-97b7-a3b92116c0c3",
   "metadata": {
    "tags": []
   },
   "outputs": [
    {
     "name": "stderr",
     "output_type": "stream",
     "text": [
      "/var/folders/p3/m5hh4tgj36z4r763hs22tq3h0000gp/T/ipykernel_892/453823380.py:2: SettingWithCopyWarning: \n",
      "A value is trying to be set on a copy of a slice from a DataFrame.\n",
      "Try using .loc[row_indexer,col_indexer] = value instead\n",
      "\n",
      "See the caveats in the documentation: https://pandas.pydata.org/pandas-docs/stable/user_guide/indexing.html#returning-a-view-versus-a-copy\n",
      "  airport['Suburb'] = \"Airport\"\n"
     ]
    }
   ],
   "source": [
    "airport = df.query('Location.str.contains(\"airp\")')\n",
    "airport['Suburb'] = \"Airport\"\n",
    "airport = airport[airport.Price.str.contains(\"Price\") == False]\n",
    "airport = airport.astype({\"Price\":\"int\"})\n",
    "airport = airport[airport.Bedrooms.str.contains(\"A\") == False]\n",
    "airport = airport[airport.Bedrooms.str.contains(\"F\") == False]\n",
    "airport = airport.astype({\"Bedrooms\":\"int\"})"
   ]
  },
  {
   "cell_type": "code",
   "execution_count": 81,
   "id": "5e2d076e-d433-4e1f-8c24-37ffe2c93228",
   "metadata": {
    "tags": []
   },
   "outputs": [
    {
     "data": {
      "text/plain": [
       "309"
      ]
     },
     "execution_count": 81,
     "metadata": {},
     "output_type": "execute_result"
    }
   ],
   "source": [
    "airport.Location.count()"
   ]
  },
  {
   "cell_type": "code",
   "execution_count": 87,
   "id": "60ce964f-4fca-4cc1-996a-ee8f0c9481e2",
   "metadata": {
    "tags": []
   },
   "outputs": [
    {
     "data": {
      "text/plain": [
       " apartment               234\n",
       " furnished apartment      73\n",
       " penthouseapartment        2\n",
       "Name: House Type, dtype: int64"
      ]
     },
     "execution_count": 87,
     "metadata": {},
     "output_type": "execute_result"
    }
   ],
   "source": [
    "airport['House Type'].value_counts()"
   ]
  },
  {
   "cell_type": "code",
   "execution_count": null,
   "id": "a7642f3c-54b3-42d6-b839-9690cb3328a8",
   "metadata": {},
   "outputs": [],
   "source": []
  }
 ],
 "metadata": {
  "kernelspec": {
   "display_name": "Python 3 (ipykernel)",
   "language": "python",
   "name": "python3"
  },
  "language_info": {
   "codemirror_mode": {
    "name": "ipython",
    "version": 3
   },
   "file_extension": ".py",
   "mimetype": "text/x-python",
   "name": "python",
   "nbconvert_exporter": "python",
   "pygments_lexer": "ipython3",
   "version": "3.11.4"
  }
 },
 "nbformat": 4,
 "nbformat_minor": 5
}
