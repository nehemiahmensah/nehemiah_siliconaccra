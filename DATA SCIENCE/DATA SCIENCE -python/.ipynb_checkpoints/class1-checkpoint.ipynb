{
 "cells": [
  {
   "cell_type": "markdown",
   "id": "09f47d55",
   "metadata": {},
   "source": [
    "##### create a series object of 50 different cars\n",
    "##### find the longest length of the string of the car\n",
    "##### find the shortest length of the string of the car\n",
    "##### find the average lengtth of the string"
   ]
  },
  {
   "cell_type": "code",
   "execution_count": 1,
   "id": "2f1da2aa",
   "metadata": {},
   "outputs": [],
   "source": [
    "import pandas as pd\n",
    "\n",
    "cars = ['Audi A3', 'Toyota Camry', 'Honda Accord', 'Ford Mustang', 'Chevrolet Malibu', 'Mercedes-Benz C-Class', 'BMW 3 Series', 'Tesla Model S', 'Volkswagen Passat', 'Nissan Altima', 'Hyundai Sonata', 'Kia Optima', 'Lexus ES', 'Mazda6', 'Subaru Outback', 'Jeep Cherokee', 'Ford Explorer', 'Chevrolet Tahoe', 'Toyota RAV4', 'Honda CR-V', 'Nissan Rogue', 'Tesla Model 3', 'Volvo XC90', 'BMW X5', 'Audi Q5', 'Mercedes-Benz GLE', 'Cadillac Escalade', 'Lexus RX', 'Chevrolet Equinox', 'Hyundai Tucson', 'Jeep Wrangler', 'Ford Bronco', 'Land Rover Range Rover', 'Porsche 911', 'Tesla Model X', 'Volkswagen Tiguan', 'Subaru Forester', 'Toyota Highlander', 'Mazda CX-5', 'Honda Pilot', 'Nissan Pathfinder', 'Chevrolet Traverse', 'Kia Telluride', 'Audi Q7', 'Volvo XC60', 'BMW X3', 'Mercedes-Benz GLC', 'Lexus NX', 'Ford Escape', 'Jeep Grand Cherokee']"
   ]
  },
  {
   "cell_type": "code",
   "execution_count": 2,
   "id": "fccc18e1",
   "metadata": {},
   "outputs": [],
   "source": [
    "cars_series = pd.Series(cars)"
   ]
  },
  {
   "cell_type": "code",
   "execution_count": 3,
   "id": "62412443",
   "metadata": {},
   "outputs": [
    {
     "data": {
      "text/plain": [
       "0             Jeep Cherokee\n",
       "1                    Mazda6\n",
       "2              BMW 3 Series\n",
       "3               Toyota RAV4\n",
       "4             Tesla Model S\n",
       "5             Jeep Wrangler\n",
       "6             Nissan Altima\n",
       "7             Ford Explorer\n",
       "8                  Lexus NX\n",
       "9               Ford Bronco\n",
       "10            Kia Telluride\n",
       "11               Honda CR-V\n",
       "12               Volvo XC60\n",
       "13            Tesla Model X\n",
       "14            Kia Telluride\n",
       "15             Ford Mustang\n",
       "16               Mazda CX-5\n",
       "17            Jeep Wrangler\n",
       "18                  Audi Q5\n",
       "19               Mazda CX-5\n",
       "20             Toyota Camry\n",
       "21            Tesla Model S\n",
       "22              Honda Pilot\n",
       "23            Kia Telluride\n",
       "24               Kia Optima\n",
       "25            Nissan Altima\n",
       "26            Tesla Model X\n",
       "27              Toyota RAV4\n",
       "28           Subaru Outback\n",
       "29             Ford Mustang\n",
       "30               Honda CR-V\n",
       "31          Subaru Forester\n",
       "32           Hyundai Tucson\n",
       "33           Hyundai Tucson\n",
       "34      Jeep Grand Cherokee\n",
       "35               Volvo XC60\n",
       "36                 Lexus ES\n",
       "37    Mercedes-Benz C-Class\n",
       "38               Volvo XC60\n",
       "39          Subaru Forester\n",
       "40              Ford Bronco\n",
       "41          Chevrolet Tahoe\n",
       "42             Nissan Rogue\n",
       "43               Mazda CX-5\n",
       "44               Honda CR-V\n",
       "45            Tesla Model S\n",
       "46             Ford Mustang\n",
       "47    Mercedes-Benz C-Class\n",
       "48                  Audi Q5\n",
       "49       Chevrolet Traverse\n",
       "dtype: object"
      ]
     },
     "execution_count": 3,
     "metadata": {},
     "output_type": "execute_result"
    }
   ],
   "source": [
    "cars_series"
   ]
  },
  {
   "cell_type": "code",
   "execution_count": 37,
   "id": "1218c6a3",
   "metadata": {},
   "outputs": [
    {
     "ename": "NameError",
     "evalue": "name 'car_series' is not defined",
     "output_type": "error",
     "traceback": [
      "\u001b[1;31m---------------------------------------------------------------------------\u001b[0m",
      "\u001b[1;31mNameError\u001b[0m                                 Traceback (most recent call last)",
      "Cell \u001b[1;32mIn[37], line 1\u001b[0m\n\u001b[1;32m----> 1\u001b[0m car_series\n",
      "\u001b[1;31mNameError\u001b[0m: name 'car_series' is not defined"
     ]
    }
   ],
   "source": [
    "cars_series"
   ]
  },
  {
   "cell_type": "code",
   "execution_count": 152,
   "id": "a6317e39",
   "metadata": {},
   "outputs": [
    {
     "name": "stdout",
     "output_type": "stream",
     "text": [
      "[13, 6, 12, 11, 13, 13, 13, 13, 8, 11, 13, 10, 10, 13, 13, 12, 10, 13, 7, 10, 12, 13, 11, 13, 10, 13, 13, 11, 14, 12, 10, 15, 14, 14, 19, 10, 8, 21, 10, 15, 11, 15, 12, 10, 10, 13, 12, 21, 7, 18]\n",
      "21\n",
      "37\n",
      "Mercedes-Benz C-Class\n"
     ]
    }
   ],
   "source": [
    "lenn = []\n",
    "car = []\n",
    "for row in cars_series:\n",
    "#     print(len(row))\n",
    "    lenn.append(len(row))\n",
    "    car.append(row)\n",
    "print(lenn)\n",
    "\n",
    "maxi = max(lenn)\n",
    "print(maxi)\n",
    "indx = lenn.index(maxi)\n",
    "print(indx)\n",
    "\n",
    "kk = lenn.index(maxi)\n",
    "print(cars_series[indx])\n",
    "\n"
   ]
  },
  {
   "cell_type": "code",
   "execution_count": 99,
   "id": "d9544ebc",
   "metadata": {},
   "outputs": [
    {
     "name": "stdout",
     "output_type": "stream",
     "text": [
      "[13, 6, 12, 11, 13, 13, 13, 13, 8, 11, 13, 10, 10, 13, 13, 12, 10, 13, 7, 10, 12, 13, 11, 13, 10, 13, 13, 11, 14, 12, 10, 15, 14, 14, 19, 10, 8, 21, 10, 15, 11, 15, 12, 10, 10, 13, 12, 21, 7, 18]\n",
      "37\n"
     ]
    }
   ],
   "source": [
    "leng = [len(s) for s in cars_series]\n",
    "print (leng)\n",
    "\n",
    "longid = leng.index(max(leng))\n",
    "print(longid)"
   ]
  },
  {
   "cell_type": "code",
   "execution_count": 100,
   "id": "487c9cf1",
   "metadata": {},
   "outputs": [
    {
     "name": "stdout",
     "output_type": "stream",
     "text": [
      "Mercedes-Benz C-Class\n"
     ]
    }
   ],
   "source": [
    "long = cars_series[longid]\n",
    "print(long)"
   ]
  },
  {
   "cell_type": "code",
   "execution_count": null,
   "id": "dd5f5c12",
   "metadata": {},
   "outputs": [],
   "source": []
  }
 ],
 "metadata": {
  "kernelspec": {
   "display_name": "Python 3 (ipykernel)",
   "language": "python",
   "name": "python3"
  },
  "language_info": {
   "codemirror_mode": {
    "name": "ipython",
    "version": 3
   },
   "file_extension": ".py",
   "mimetype": "text/x-python",
   "name": "python",
   "nbconvert_exporter": "python",
   "pygments_lexer": "ipython3",
   "version": "3.11.4"
  }
 },
 "nbformat": 4,
 "nbformat_minor": 5
}
