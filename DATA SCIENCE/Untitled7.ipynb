{
 "cells": [
  {
   "cell_type": "code",
   "execution_count": 197,
   "id": "4e565a38-7ec7-4b2e-be97-1e68af1ec147",
   "metadata": {
    "tags": []
   },
   "outputs": [],
   "source": [
    "from bs4 import BeautifulSoup\n",
    "import requests"
   ]
  },
  {
   "cell_type": "code",
   "execution_count": 198,
   "id": "778028c2-00bb-479a-a978-5271e50ae754",
   "metadata": {
    "tags": []
   },
   "outputs": [],
   "source": [
    "url = 'https://meqasa.com/apartments-for-sale-in-Accra'"
   ]
  },
  {
   "cell_type": "code",
   "execution_count": 199,
   "id": "ecfa1d4d-2b26-454a-a1bb-1779064d4d79",
   "metadata": {
    "tags": []
   },
   "outputs": [],
   "source": [
    "source = requests.get(url)"
   ]
  },
  {
   "cell_type": "code",
   "execution_count": 200,
   "id": "851a2f52-42bb-4c5b-a616-45019fcb0702",
   "metadata": {
    "tags": []
   },
   "outputs": [],
   "source": [
    "response = source.content"
   ]
  },
  {
   "cell_type": "code",
   "execution_count": 201,
   "id": "7fe750ac-fb84-42da-a468-130183c95ee5",
   "metadata": {},
   "outputs": [],
   "source": [
    "soup = BeautifulSoup(response,'html.parser')"
   ]
  },
  {
   "cell_type": "code",
   "execution_count": 179,
   "id": "52536f7d-3c09-475a-9a58-41b975b0bd1f",
   "metadata": {
    "tags": []
   },
   "outputs": [],
   "source": [
    "# statistics\n",
    "# linear algebra\n",
    "# probability\n",
    "# calculus and differential equation"
   ]
  },
  {
   "cell_type": "code",
   "execution_count": 312,
   "id": "471b9b52-3e51-48ca-b1c4-480444d6c390",
   "metadata": {
    "tags": []
   },
   "outputs": [],
   "source": [
    "bod = soup.find('div', class_=\"mqs-prop-dt-wrapper\")"
   ]
  },
  {
   "cell_type": "code",
   "execution_count": 287,
   "id": "1cb2444b-442c-46c8-87ab-352ef12928d2",
   "metadata": {
    "tags": []
   },
   "outputs": [
    {
     "ename": "AttributeError",
     "evalue": "ResultSet object has no attribute 'find'. You're probably treating a list of elements like a single element. Did you call find_all() when you meant to call find()?",
     "output_type": "error",
     "traceback": [
      "\u001b[0;31m---------------------------------------------------------------------------\u001b[0m",
      "\u001b[0;31mAttributeError\u001b[0m                            Traceback (most recent call last)",
      "Cell \u001b[0;32mIn[287], line 1\u001b[0m\n\u001b[0;32m----> 1\u001b[0m body2 \u001b[38;5;241m=\u001b[39m body\u001b[38;5;241m.\u001b[39mfind(class_\u001b[38;5;241m=\u001b[39m\u001b[38;5;124m\"\u001b[39m\u001b[38;5;124mfiltRpg\u001b[39m\u001b[38;5;124m\"\u001b[39m)\n",
      "File \u001b[0;32m~/anaconda3/lib/python3.11/site-packages/bs4/element.py:2428\u001b[0m, in \u001b[0;36mResultSet.__getattr__\u001b[0;34m(self, key)\u001b[0m\n\u001b[1;32m   2426\u001b[0m \u001b[38;5;28;01mdef\u001b[39;00m \u001b[38;5;21m__getattr__\u001b[39m(\u001b[38;5;28mself\u001b[39m, key):\n\u001b[1;32m   2427\u001b[0m \u001b[38;5;250m    \u001b[39m\u001b[38;5;124;03m\"\"\"Raise a helpful exception to explain a common code fix.\"\"\"\u001b[39;00m\n\u001b[0;32m-> 2428\u001b[0m     \u001b[38;5;28;01mraise\u001b[39;00m \u001b[38;5;167;01mAttributeError\u001b[39;00m(\n\u001b[1;32m   2429\u001b[0m         \u001b[38;5;124m\"\u001b[39m\u001b[38;5;124mResultSet object has no attribute \u001b[39m\u001b[38;5;124m'\u001b[39m\u001b[38;5;132;01m%s\u001b[39;00m\u001b[38;5;124m'\u001b[39m\u001b[38;5;124m. You\u001b[39m\u001b[38;5;124m'\u001b[39m\u001b[38;5;124mre probably treating a list of elements like a single element. Did you call find_all() when you meant to call find()?\u001b[39m\u001b[38;5;124m\"\u001b[39m \u001b[38;5;241m%\u001b[39m key\n\u001b[1;32m   2430\u001b[0m     )\n",
      "\u001b[0;31mAttributeError\u001b[0m: ResultSet object has no attribute 'find'. You're probably treating a list of elements like a single element. Did you call find_all() when you meant to call find()?"
     ]
    }
   ],
   "source": [
    "body2 = body.find(class_=\"filtRpg\")            #class_=\"filtRpg\")"
   ]
  },
  {
   "cell_type": "code",
   "execution_count": 314,
   "id": "221e4cce-c1bd-4b76-bb7a-fd90aff584f5",
   "metadata": {
    "tags": []
   },
   "outputs": [
    {
     "ename": "AttributeError",
     "evalue": "'NoneType' object has no attribute 'text'",
     "output_type": "error",
     "traceback": [
      "\u001b[0;31m---------------------------------------------------------------------------\u001b[0m",
      "\u001b[0;31mAttributeError\u001b[0m                            Traceback (most recent call last)",
      "Cell \u001b[0;32mIn[314], line 1\u001b[0m\n\u001b[0;32m----> 1\u001b[0m \u001b[38;5;28mprint\u001b[39m(bod\u001b[38;5;241m.\u001b[39mtext)\n",
      "\u001b[0;31mAttributeError\u001b[0m: 'NoneType' object has no attribute 'text'"
     ]
    }
   ],
   "source": [
    "print(bod.text)"
   ]
  },
  {
   "cell_type": "code",
   "execution_count": null,
   "id": "7f8e5780-1d95-465d-9716-52d24398a07e",
   "metadata": {},
   "outputs": [],
   "source": []
  }
 ],
 "metadata": {
  "kernelspec": {
   "display_name": "Python 3 (ipykernel)",
   "language": "python",
   "name": "python3"
  },
  "language_info": {
   "codemirror_mode": {
    "name": "ipython",
    "version": 3
   },
   "file_extension": ".py",
   "mimetype": "text/x-python",
   "name": "python",
   "nbconvert_exporter": "python",
   "pygments_lexer": "ipython3",
   "version": "3.11.4"
  }
 },
 "nbformat": 4,
 "nbformat_minor": 5
}
