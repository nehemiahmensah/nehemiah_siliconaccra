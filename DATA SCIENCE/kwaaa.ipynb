{
 "cells": [
  {
   "cell_type": "code",
   "execution_count": 62,
   "id": "63e0d4d5-8b78-4eea-a3c1-6a03662f4762",
   "metadata": {
    "tags": []
   },
   "outputs": [
    {
     "name": "stdout",
     "output_type": "stream",
     "text": [
      "Not applicable\n",
      "Not applicable\n"
     ]
    }
   ],
   "source": [
    "def mags(**kwargs):\n",
    "    \n",
    "    for key, value in kwargs.items():\n",
    "        if kwargs.items() == 'hm':\n",
    "            result = 1\n",
    "            for i in data:\n",
    "                result *= i \n",
    "            return result\n",
    "        else:\n",
    "                print('Not applicable')\n",
    "        \n",
    "        \n",
    "mags(data = [4,4], method = 'hm')"
   ]
  },
  {
   "cell_type": "code",
   "execution_count": 39,
   "id": "0b40383f-2ae3-49cd-bee7-de3bdf5ed2bf",
   "metadata": {
    "tags": []
   },
   "outputs": [
    {
     "data": {
      "text/plain": [
       "36"
      ]
     },
     "execution_count": 39,
     "metadata": {},
     "output_type": "execute_result"
    }
   ],
   "source": [
    "def mult(*args):\n",
    "    ans = 1\n",
    "    for i in args:\n",
    "        ans *=  i\n",
    "    return ans\n",
    "    \n",
    "mult(2,2,3,3)"
   ]
  },
  {
   "cell_type": "code",
   "execution_count": 80,
   "id": "3ea72a58-6870-4c59-b79a-c89bce9f544d",
   "metadata": {
    "tags": []
   },
   "outputs": [
    {
     "data": {
      "text/plain": [
       "19"
      ]
     },
     "execution_count": 80,
     "metadata": {},
     "output_type": "execute_result"
    }
   ],
   "source": [
    "def greet(number, *people):\n",
    "    g = 1\n",
    "    for i in people:\n",
    "        g *=i\n",
    "    return g+ number\n",
    "\n",
    "\n",
    "greet(3,2,2,4)"
   ]
  },
  {
   "cell_type": "code",
   "execution_count": null,
   "id": "540764cf-9110-4405-8c2c-ba3475775ea3",
   "metadata": {},
   "outputs": [],
   "source": []
  }
 ],
 "metadata": {
  "kernelspec": {
   "display_name": "Python 3 (ipykernel)",
   "language": "python",
   "name": "python3"
  },
  "language_info": {
   "codemirror_mode": {
    "name": "ipython",
    "version": 3
   },
   "file_extension": ".py",
   "mimetype": "text/x-python",
   "name": "python",
   "nbconvert_exporter": "python",
   "pygments_lexer": "ipython3",
   "version": "3.11.4"
  }
 },
 "nbformat": 4,
 "nbformat_minor": 5
}
