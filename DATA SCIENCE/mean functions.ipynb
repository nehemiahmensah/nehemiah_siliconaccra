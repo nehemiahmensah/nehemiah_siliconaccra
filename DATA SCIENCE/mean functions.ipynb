{
 "cells": [
  {
   "cell_type": "code",
   "execution_count": 20,
   "id": "daabeef2-d3a5-4ed4-97d1-9381433883dd",
   "metadata": {
    "tags": []
   },
   "outputs": [],
   "source": [
    "def myfunc(*args): #data,type,weight\n",
    "    data = args[0]\n",
    "    n = len(args[0])\n",
    "    try:\n",
    "    # Geometric Mean\n",
    "        if args[1] == 'gm':\n",
    "            val = 1\n",
    "            for i in data:\n",
    "                val *= i\n",
    "            gm = val **(1/n)\n",
    "            return gm\n",
    "\n",
    "    # Harmonic Mean    \n",
    "        elif args[1] == 'hm':\n",
    "            val = 0\n",
    "            for i in data:\n",
    "                val += i\n",
    "            hm = n/val\n",
    "            return hm\n",
    "\n",
    "    # Weighted Mean\n",
    "        elif args[1] == 'wm':\n",
    "            prod = []\n",
    "            weight = args[2]\n",
    "            for x,y in zip(data,weight):\n",
    "                prod.append(x*y)\n",
    "            mwsum = sum(prod)\n",
    "            weight_sum = sum(weight)\n",
    "            w_mean = mwsum/weight_sum\n",
    "            return w_mean\n",
    "\n",
    "    # Root Mean Square\n",
    "        elif args[1] == 'root':\n",
    "            rt = ((sum(data)/n)**0.5)\n",
    "            return rt\n",
    "        else:\n",
    "            return 'Not here'\n",
    "    except: print('Value Error')\n"
   ]
  },
  {
   "cell_type": "code",
   "execution_count": 21,
   "id": "ef9269fb-cb4e-4ee3-831e-13d09511ceda",
   "metadata": {
    "tags": []
   },
   "outputs": [
    {
     "data": {
      "text/plain": [
       "4.357142857142857"
      ]
     },
     "execution_count": 21,
     "metadata": {},
     "output_type": "execute_result"
    }
   ],
   "source": [
    "# def me(ine,**kwargs):\n",
    "#     re = []\n",
    "#     for i in ine\n",
    "\n",
    "myfunc([8,5,2],'wm',[0.5,0.1,0.8])"
   ]
  },
  {
   "cell_type": "code",
   "execution_count": 25,
   "id": "c728cf02-4cbf-4b12-80d2-eaf0467f147d",
   "metadata": {},
   "outputs": [],
   "source": [
    "import numpy as np\n",
    "np.random.seed(5)"
   ]
  },
  {
   "cell_type": "code",
   "execution_count": 26,
   "id": "645282f7-8790-44e2-a258-4510caf99fce",
   "metadata": {
    "tags": []
   },
   "outputs": [],
   "source": [
    "data = 6 * np.random.randn(20) + 10"
   ]
  },
  {
   "cell_type": "code",
   "execution_count": 28,
   "id": "b2feda4a-010a-4090-ad70-0015431ce6ea",
   "metadata": {
    "tags": []
   },
   "outputs": [
    {
     "data": {
      "text/plain": [
       "array([1.26473649e+01, 8.01477909e+00, 2.45846271e+01, 8.48744722e+00,\n",
       "       1.06576590e+01, 1.94948867e+01, 4.54460557e+00, 6.45018005e+00,\n",
       "       1.11256194e+01, 8.02078025e+00, 2.84341233e+00, 8.77074094e+00,\n",
       "       7.84702632e+00, 1.36208296e+01, 1.12688232e-02, 5.79892577e+00,\n",
       "       1.69083461e+01, 2.11439860e+01, 9.32922654e-01, 1.38690851e+01])"
      ]
     },
     "execution_count": 28,
     "metadata": {},
     "output_type": "execute_result"
    }
   ],
   "source": [
    "data"
   ]
  },
  {
   "cell_type": "code",
   "execution_count": 30,
   "id": "4b660903-58d7-4136-afd1-25dd8403df9b",
   "metadata": {
    "tags": []
   },
   "outputs": [
    {
     "data": {
      "text/plain": [
       "6.2854417049973375"
      ]
     },
     "execution_count": 30,
     "metadata": {},
     "output_type": "execute_result"
    }
   ],
   "source": [
    "myfunc(data,'gm')"
   ]
  },
  {
   "cell_type": "code",
   "execution_count": 10,
   "id": "57f6cdec-5a98-435e-8e58-633ea24966fc",
   "metadata": {
    "tags": []
   },
   "outputs": [],
   "source": [
    "def mean(l):\n",
    "    results = sum(l)/len(l)\n",
    "    return results"
   ]
  },
  {
   "cell_type": "code",
   "execution_count": 1,
   "id": "ddc791de-6188-4dd6-9f03-e98b989f2293",
   "metadata": {},
   "outputs": [],
   "source": [
    "import numpy as np\n",
    "np.random.seed(5)"
   ]
  },
  {
   "cell_type": "code",
   "execution_count": 3,
   "id": "bb30c60e-1377-4c71-bab7-1369fba28d1f",
   "metadata": {
    "tags": []
   },
   "outputs": [],
   "source": [
    "my_data = 5 * np.random.randn(100000) + 7"
   ]
  },
  {
   "cell_type": "code",
   "execution_count": 6,
   "id": "1c652c54-f7ab-4562-b344-15b336f50e18",
   "metadata": {
    "tags": []
   },
   "outputs": [
    {
     "data": {
      "text/plain": [
       "array([ 9.20613743,  5.34564924, 19.15385594, ..., 10.58390597,\n",
       "       14.11606919,  6.64207925])"
      ]
     },
     "execution_count": 6,
     "metadata": {},
     "output_type": "execute_result"
    }
   ],
   "source": [
    "my_data[:1000]"
   ]
  },
  {
   "cell_type": "code",
   "execution_count": 12,
   "id": "aa93261f-56e4-4677-bde3-7500d940d51d",
   "metadata": {
    "tags": []
   },
   "outputs": [
    {
     "data": {
      "text/plain": [
       "3.3333333333333335"
      ]
     },
     "execution_count": 12,
     "metadata": {},
     "output_type": "execute_result"
    }
   ],
   "source": [
    "mean([1,4,5])"
   ]
  },
  {
   "cell_type": "code",
   "execution_count": null,
   "id": "a8a05f13-e545-4b2e-a1a6-19614eb76fe5",
   "metadata": {},
   "outputs": [],
   "source": [
    "answer = []\n",
    "i = 0\n",
    "for i in my_data:\n",
    "    "
   ]
  },
  {
   "cell_type": "code",
   "execution_count": 13,
   "id": "7f9bac8e-ef29-4c80-8d13-23bf2a601893",
   "metadata": {
    "tags": []
   },
   "outputs": [
    {
     "data": {
      "text/plain": [
       "7.018860940580507"
      ]
     },
     "execution_count": 13,
     "metadata": {},
     "output_type": "execute_result"
    }
   ],
   "source": [
    "my_data.mean()"
   ]
  },
  {
   "cell_type": "code",
   "execution_count": null,
   "id": "714e615c-5058-471b-89c3-d54a402c4457",
   "metadata": {},
   "outputs": [],
   "source": []
  }
 ],
 "metadata": {
  "kernelspec": {
   "display_name": "Python 3 (ipykernel)",
   "language": "python",
   "name": "python3"
  },
  "language_info": {
   "codemirror_mode": {
    "name": "ipython",
    "version": 3
   },
   "file_extension": ".py",
   "mimetype": "text/x-python",
   "name": "python",
   "nbconvert_exporter": "python",
   "pygments_lexer": "ipython3",
   "version": "3.11.4"
  }
 },
 "nbformat": 4,
 "nbformat_minor": 5
}
