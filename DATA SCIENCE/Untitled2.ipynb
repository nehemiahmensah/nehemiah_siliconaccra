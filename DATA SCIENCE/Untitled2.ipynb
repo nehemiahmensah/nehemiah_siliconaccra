{
 "cells": [
  {
   "cell_type": "code",
   "execution_count": 134,
   "id": "ceab8d25-3628-4f55-8b15-06254b4cd6e5",
   "metadata": {
    "tags": []
   },
   "outputs": [
    {
     "ename": "NameError",
     "evalue": "name 'mean' is not defined",
     "output_type": "error",
     "traceback": [
      "\u001b[0;31m---------------------------------------------------------------------------\u001b[0m",
      "\u001b[0;31mNameError\u001b[0m                                 Traceback (most recent call last)",
      "Cell \u001b[0;32mIn[134], line 17\u001b[0m\n\u001b[1;32m      8\u001b[0m s \u001b[38;5;241m=\u001b[39m \u001b[38;5;241m2\u001b[39m       \n\u001b[1;32m      9\u001b[0m \u001b[38;5;66;03m#     def __add__(self,data2):\u001b[39;00m\n\u001b[1;32m     10\u001b[0m \u001b[38;5;66;03m#         for arg in self.data\u001b[39;00m\n\u001b[1;32m     11\u001b[0m     \n\u001b[1;32m     12\u001b[0m \u001b[38;5;66;03m#     def mean(self, operation):\u001b[39;00m\n\u001b[1;32m     13\u001b[0m \u001b[38;5;66;03m#         mymean = 10 / 3\u001b[39;00m\n\u001b[1;32m     14\u001b[0m \u001b[38;5;66;03m#         return mymean\u001b[39;00m\n\u001b[0;32m---> 17\u001b[0m a \u001b[38;5;241m=\u001b[39m Dobject(([\u001b[38;5;241m2\u001b[39m,\u001b[38;5;241m3\u001b[39m],[\u001b[38;5;241m5\u001b[39m,\u001b[38;5;241m1\u001b[39m]),operator \u001b[38;5;241m=\u001b[39m \u001b[38;5;124m'\u001b[39m\u001b[38;5;124madd\u001b[39m\u001b[38;5;124m'\u001b[39m,stat \u001b[38;5;241m=\u001b[39m \u001b[38;5;124m'\u001b[39m\u001b[38;5;124mmean\u001b[39m\u001b[38;5;124m'\u001b[39m)\n\u001b[1;32m     18\u001b[0m a\u001b[38;5;241m.\u001b[39mdata1\n",
      "Cell \u001b[0;32mIn[134], line 4\u001b[0m, in \u001b[0;36mDobject.__init__\u001b[0;34m(self, *data, **kwargs)\u001b[0m\n\u001b[1;32m      2\u001b[0m \u001b[38;5;28;01mdef\u001b[39;00m \u001b[38;5;21m__init__\u001b[39m(\u001b[38;5;28mself\u001b[39m,\u001b[38;5;241m*\u001b[39mdata,\u001b[38;5;241m*\u001b[39m\u001b[38;5;241m*\u001b[39mkwargs):\n\u001b[1;32m      3\u001b[0m     \u001b[38;5;28mself\u001b[39m\u001b[38;5;241m.\u001b[39mdata1 \u001b[38;5;241m=\u001b[39m \u001b[38;5;28mself\u001b[39m\u001b[38;5;241m.\u001b[39mlist \u001b[38;5;241m=\u001b[39m data\n\u001b[0;32m----> 4\u001b[0m     \u001b[38;5;28mself\u001b[39m\u001b[38;5;241m.\u001b[39mstat \u001b[38;5;241m=\u001b[39m mean\n\u001b[1;32m      5\u001b[0m     \u001b[38;5;28mself\u001b[39m\u001b[38;5;241m.\u001b[39moperator \u001b[38;5;241m=\u001b[39m add\n",
      "\u001b[0;31mNameError\u001b[0m: name 'mean' is not defined"
     ]
    }
   ],
   "source": [
    "class Dobject:\n",
    "    def __init__(self,*data,**kwargs):\n",
    "        self.data1 = data[0]\n",
    "        self.operator = kwargs[0]\n",
    "        self.stat = kwargs[1]\n",
    "             \n",
    "    def __add__(self,data2):\n",
    "        for arg in self.data\n",
    "    \n",
    "    def mean(self, operation):\n",
    "        mymean = 10 / 3\n",
    "        return mymean\n",
    "    \n",
    "      \n",
    "a = Dobject(([2,3],[5,1]),)\n",
    "a.data1\n",
    "a.stat\n",
    "a.operator\n"
   ]
  },
  {
   "cell_type": "code",
   "execution_count": 75,
   "id": "7355f71e-aa0f-4312-935d-6208f5121a42",
   "metadata": {
    "tags": []
   },
   "outputs": [
    {
     "data": {
      "text/plain": [
       "[2, 3, 5, 2]"
      ]
     },
     "execution_count": 75,
     "metadata": {},
     "output_type": "execute_result"
    }
   ],
   "source": [
    "a = v + y\n",
    "a"
   ]
  },
  {
   "cell_type": "code",
   "execution_count": null,
   "id": "ff2f2d68-8d70-4485-9065-638f85c5d3bf",
   "metadata": {},
   "outputs": [],
   "source": []
  }
 ],
 "metadata": {
  "kernelspec": {
   "display_name": "Python 3 (ipykernel)",
   "language": "python",
   "name": "python3"
  },
  "language_info": {
   "codemirror_mode": {
    "name": "ipython",
    "version": 3
   },
   "file_extension": ".py",
   "mimetype": "text/x-python",
   "name": "python",
   "nbconvert_exporter": "python",
   "pygments_lexer": "ipython3",
   "version": "3.11.4"
  }
 },
 "nbformat": 4,
 "nbformat_minor": 5
}
