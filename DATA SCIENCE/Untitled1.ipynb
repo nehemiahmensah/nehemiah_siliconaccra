{
 "cells": [
  {
   "cell_type": "code",
   "execution_count": 7,
   "id": "ff85f3d8-cdf7-4d37-ba99-0c51bdf12a60",
   "metadata": {
    "tags": []
   },
   "outputs": [
    {
     "name": "stdout",
     "output_type": "stream",
     "text": [
      "[13, 6, 6, 6, 4, 6, 6, 6, 11, 6, 13, 13, 11, 4, 11, 6, 6, 6, 6, 6, 4, 6, 6, 13, 6, 4, 13, 11, 6, 6, 11, 4, 13, 6, 13, 6, 13, 4, 11, 13, 6, 6, 13, 6, 6, 13, 13, 11, 4, 6]\n",
      "13\n",
      "0\n"
     ]
    }
   ],
   "source": [
    "import pandas as pd\n",
    "with open = \n",
    "\n",
    "car = pd.Series([\"Toyota\",\"Range Rover\",\"Mercedes Benz\",\"Nissan\",\"Audi\"]).sample(50, replace = True).reset_index(drop = True)\n",
    "\n",
    "strlen = []\n",
    "\n",
    "for row in car:\n",
    "    strlen.append(len(row))\n",
    "\n",
    "print(strlen)\n",
    "\n",
    "maxlen = max(strlen)\n",
    "print(maxlen)\n",
    "\n",
    "index_of_max = strlen.index(maxlen)\n",
    "print(index_of_max)"
   ]
  },
  {
   "cell_type": "code",
   "execution_count": null,
   "id": "9a055c1d-a32d-41b1-b237-c17621b2892e",
   "metadata": {},
   "outputs": [],
   "source": []
  }
 ],
 "metadata": {
  "kernelspec": {
   "display_name": "Python 3 (ipykernel)",
   "language": "python",
   "name": "python3"
  },
  "language_info": {
   "codemirror_mode": {
    "name": "ipython",
    "version": 3
   },
   "file_extension": ".py",
   "mimetype": "text/x-python",
   "name": "python",
   "nbconvert_exporter": "python",
   "pygments_lexer": "ipython3",
   "version": "3.11.4"
  }
 },
 "nbformat": 4,
 "nbformat_minor": 5
}
