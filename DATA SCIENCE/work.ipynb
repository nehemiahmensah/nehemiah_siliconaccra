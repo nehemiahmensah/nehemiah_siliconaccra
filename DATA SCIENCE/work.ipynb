{
 "cells": [
  {
   "cell_type": "code",
   "execution_count": 4,
   "id": "2c078c5e-1053-45be-8558-f617966c1fec",
   "metadata": {
    "tags": []
   },
   "outputs": [],
   "source": [
    "import pandas as pd\n",
    "import numpy as np\n",
    "\n",
    "df = pd.read_pickle(\"apt_data_v1.pkl\")"
   ]
  },
  {
   "cell_type": "code",
   "execution_count": 5,
   "id": "8e5bd655-18b2-456b-932f-4794424c8005",
   "metadata": {
    "tags": []
   },
   "outputs": [
    {
     "data": {
      "text/html": [
       "<div>\n",
       "<style scoped>\n",
       "    .dataframe tbody tr th:only-of-type {\n",
       "        vertical-align: middle;\n",
       "    }\n",
       "\n",
       "    .dataframe tbody tr th {\n",
       "        vertical-align: top;\n",
       "    }\n",
       "\n",
       "    .dataframe thead th {\n",
       "        text-align: right;\n",
       "    }\n",
       "</style>\n",
       "<table border=\"1\" class=\"dataframe\">\n",
       "  <thead>\n",
       "    <tr style=\"text-align: right;\">\n",
       "      <th></th>\n",
       "      <th>Bedrooms</th>\n",
       "      <th>House Type</th>\n",
       "      <th>Location</th>\n",
       "      <th>Price</th>\n",
       "    </tr>\n",
       "  </thead>\n",
       "  <tbody>\n",
       "    <tr>\n",
       "      <th>0</th>\n",
       "      <td>1</td>\n",
       "      <td>apartment</td>\n",
       "      <td>Adjiringanor</td>\n",
       "      <td>96497</td>\n",
       "    </tr>\n",
       "    <tr>\n",
       "      <th>1</th>\n",
       "      <td>1</td>\n",
       "      <td>48 m</td>\n",
       "      <td>1 1 48 m</td>\n",
       "      <td>1 1 1 48 m</td>\n",
       "    </tr>\n",
       "    <tr>\n",
       "      <th>2</th>\n",
       "      <td>1</td>\n",
       "      <td>apartment</td>\n",
       "      <td>Airport Residential Area</td>\n",
       "      <td>1045000</td>\n",
       "    </tr>\n",
       "    <tr>\n",
       "      <th>3</th>\n",
       "      <td>1</td>\n",
       "      <td>apartment</td>\n",
       "      <td>Airport Residential Area</td>\n",
       "      <td>2322000</td>\n",
       "    </tr>\n",
       "    <tr>\n",
       "      <th>4</th>\n",
       "      <td>3</td>\n",
       "      <td>apartment</td>\n",
       "      <td>Airport Residential Area</td>\n",
       "      <td>4755000</td>\n",
       "    </tr>\n",
       "    <tr>\n",
       "      <th>...</th>\n",
       "      <td>...</td>\n",
       "      <td>...</td>\n",
       "      <td>...</td>\n",
       "      <td>...</td>\n",
       "    </tr>\n",
       "    <tr>\n",
       "      <th>1592</th>\n",
       "      <td>3</td>\n",
       "      <td>apartment</td>\n",
       "      <td>Cantonments</td>\n",
       "      <td>5108702</td>\n",
       "    </tr>\n",
       "    <tr>\n",
       "      <th>1593</th>\n",
       "      <td>4</td>\n",
       "      <td>apartment</td>\n",
       "      <td>East Legon</td>\n",
       "      <td>5108702</td>\n",
       "    </tr>\n",
       "    <tr>\n",
       "      <th>1594</th>\n",
       "      <td>4</td>\n",
       "      <td>apartment</td>\n",
       "      <td>West Legon</td>\n",
       "      <td>3973435</td>\n",
       "    </tr>\n",
       "    <tr>\n",
       "      <th>1595</th>\n",
       "      <td>4</td>\n",
       "      <td>apartment</td>\n",
       "      <td>Lakeside Estate</td>\n",
       "      <td>1400000</td>\n",
       "    </tr>\n",
       "    <tr>\n",
       "      <th>1596</th>\n",
       "      <td>1</td>\n",
       "      <td>furnished apartment</td>\n",
       "      <td>Shiashie</td>\n",
       "      <td>845000</td>\n",
       "    </tr>\n",
       "  </tbody>\n",
       "</table>\n",
       "<p>1597 rows × 4 columns</p>\n",
       "</div>"
      ],
      "text/plain": [
       "     Bedrooms             House Type                  Location       Price\n",
       "0           1             apartment               Adjiringanor       96497\n",
       "1           1                   48 m                  1 1 48 m  1 1 1 48 m\n",
       "2           1             apartment   Airport Residential Area     1045000\n",
       "3           1             apartment   Airport Residential Area     2322000\n",
       "4           3             apartment   Airport Residential Area     4755000\n",
       "...       ...                    ...                       ...         ...\n",
       "1592        3             apartment                Cantonments     5108702\n",
       "1593        4             apartment                 East Legon     5108702\n",
       "1594        4             apartment                 West Legon     3973435\n",
       "1595        4             apartment            Lakeside Estate     1400000\n",
       "1596        1   furnished apartment                   Shiashie      845000\n",
       "\n",
       "[1597 rows x 4 columns]"
      ]
     },
     "execution_count": 5,
     "metadata": {},
     "output_type": "execute_result"
    }
   ],
   "source": [
    "df"
   ]
  },
  {
   "cell_type": "code",
   "execution_count": 6,
   "id": "49585c20-304a-4b65-8daf-0965f374e1cd",
   "metadata": {
    "tags": []
   },
   "outputs": [],
   "source": [
    "#df.head(60)"
   ]
  },
  {
   "cell_type": "code",
   "execution_count": 7,
   "id": "51990993-7ca2-4985-92f6-4550a6f71880",
   "metadata": {
    "tags": []
   },
   "outputs": [],
   "source": [
    "df.Location = df.Location.str.lower()"
   ]
  },
  {
   "cell_type": "code",
   "execution_count": 8,
   "id": "26810cd6-ae1a-400d-9419-f8bae76f253e",
   "metadata": {
    "tags": []
   },
   "outputs": [],
   "source": [
    "east = df.query('Location.str.contains(\"east legon\")')"
   ]
  },
  {
   "cell_type": "code",
   "execution_count": 9,
   "id": "abd32717-2e5b-4609-ba0a-16db84338373",
   "metadata": {
    "tags": []
   },
   "outputs": [],
   "source": [
    "east = east[east.Location.str.contains(\"hills\") == False]"
   ]
  },
  {
   "cell_type": "code",
   "execution_count": 10,
   "id": "fe50afa6-b7b9-49f9-8dee-469825b12e11",
   "metadata": {
    "tags": []
   },
   "outputs": [],
   "source": [
    "adj = df.query('Location.str.contains(\"adj\")')"
   ]
  },
  {
   "cell_type": "code",
   "execution_count": 11,
   "id": "b3e2ea29-0b28-4926-8f76-b6972890414e",
   "metadata": {
    "tags": []
   },
   "outputs": [],
   "source": [
    "shi = df.query('Location.str.contains(\"shia\")')"
   ]
  },
  {
   "cell_type": "code",
   "execution_count": 12,
   "id": "d310d9ce-0ed7-4ad3-8fd2-0b0604b71c25",
   "metadata": {
    "tags": []
   },
   "outputs": [],
   "source": [
    "#df.Location.value_counts().head(50)"
   ]
  },
  {
   "cell_type": "code",
   "execution_count": 13,
   "id": "a3524f2b-b026-4afc-ab40-bb753efbeed9",
   "metadata": {
    "tags": []
   },
   "outputs": [],
   "source": [
    "#df.Location.value_counts().tail(100)"
   ]
  },
  {
   "cell_type": "code",
   "execution_count": 14,
   "id": "a45bfb86-5257-49f3-a28a-ba3e1b203282",
   "metadata": {
    "tags": []
   },
   "outputs": [],
   "source": [
    "east_leg = pd.concat([east,adj,shi],axis = 0)"
   ]
  },
  {
   "cell_type": "code",
   "execution_count": 15,
   "id": "0f0421c6-c600-414d-8bf2-34bacf5190d8",
   "metadata": {
    "tags": []
   },
   "outputs": [],
   "source": [
    "east_leg['Suburb'] = \"East Legon\""
   ]
  },
  {
   "cell_type": "code",
   "execution_count": 16,
   "id": "007c0b9f-2045-4424-9a80-b61b9ff2ec13",
   "metadata": {
    "tags": []
   },
   "outputs": [],
   "source": [
    "#east_leg"
   ]
  },
  {
   "cell_type": "code",
   "execution_count": 17,
   "id": "9e27efd2-3037-482a-9e71-d2b2a91e7e28",
   "metadata": {
    "tags": []
   },
   "outputs": [],
   "source": [
    "east_hills = df.query('Location.str.contains(\"east legon\")')"
   ]
  },
  {
   "cell_type": "code",
   "execution_count": 18,
   "id": "754b6457-0339-48bd-9921-db55641d5d4a",
   "metadata": {
    "tags": []
   },
   "outputs": [],
   "source": [
    "east_hills = east_hills.query('Location.str.contains(\"hills\")')"
   ]
  },
  {
   "cell_type": "code",
   "execution_count": 19,
   "id": "3264f85a-0058-4336-8b3e-67c7b43482e4",
   "metadata": {
    "tags": []
   },
   "outputs": [],
   "source": [
    "lk = df.query('Location.str.contains(\"lake\")')"
   ]
  },
  {
   "cell_type": "code",
   "execution_count": 20,
   "id": "28ab2a21-b0b8-424d-ae6c-62351b53fb6e",
   "metadata": {
    "tags": []
   },
   "outputs": [],
   "source": [
    "#lk"
   ]
  },
  {
   "cell_type": "code",
   "execution_count": 21,
   "id": "789cc0fa-3c9f-4b8b-a2b5-7e526239d462",
   "metadata": {
    "tags": []
   },
   "outputs": [],
   "source": [
    "east_hills = pd.concat([east_hills,lk],axis = 0)"
   ]
  },
  {
   "cell_type": "code",
   "execution_count": 22,
   "id": "266a187a-b008-426c-bb44-2ccdde9a8447",
   "metadata": {
    "tags": []
   },
   "outputs": [],
   "source": [
    "east_hills['Suburb'] = \"East Legon Hills\""
   ]
  },
  {
   "cell_type": "code",
   "execution_count": 23,
   "id": "a6812ce3-150c-47ff-84e4-a2ae9059164f",
   "metadata": {
    "tags": []
   },
   "outputs": [],
   "source": [
    "#east_hills"
   ]
  },
  {
   "cell_type": "code",
   "execution_count": 70,
   "id": "8c4b756d-5041-4768-8498-3e7868f596d5",
   "metadata": {
    "tags": []
   },
   "outputs": [],
   "source": [
    "canto = df.query('Location.str.contains(\"cant\")')"
   ]
  },
  {
   "cell_type": "code",
   "execution_count": 25,
   "id": "3e0f8560-55f3-4d52-b100-9168b90bdd2b",
   "metadata": {
    "tags": []
   },
   "outputs": [],
   "source": [
    "#canto"
   ]
  },
  {
   "cell_type": "code",
   "execution_count": 71,
   "id": "0bb4c4d6-1801-415a-8f53-14ff17f03e04",
   "metadata": {
    "tags": []
   },
   "outputs": [
    {
     "name": "stderr",
     "output_type": "stream",
     "text": [
      "/var/folders/p3/m5hh4tgj36z4r763hs22tq3h0000gp/T/ipykernel_778/437580963.py:1: SettingWithCopyWarning: \n",
      "A value is trying to be set on a copy of a slice from a DataFrame.\n",
      "Try using .loc[row_indexer,col_indexer] = value instead\n",
      "\n",
      "See the caveats in the documentation: https://pandas.pydata.org/pandas-docs/stable/user_guide/indexing.html#returning-a-view-versus-a-copy\n",
      "  canto['Suburb'] = \"Cantonments\"\n"
     ]
    }
   ],
   "source": [
    "canto['Suburb'] = \"Cantonments\""
   ]
  },
  {
   "cell_type": "code",
   "execution_count": 27,
   "id": "adbb90fb-6928-4244-843c-ade93b3d71b4",
   "metadata": {
    "tags": []
   },
   "outputs": [
    {
     "data": {
      "text/html": [
       "<div>\n",
       "<style scoped>\n",
       "    .dataframe tbody tr th:only-of-type {\n",
       "        vertical-align: middle;\n",
       "    }\n",
       "\n",
       "    .dataframe tbody tr th {\n",
       "        vertical-align: top;\n",
       "    }\n",
       "\n",
       "    .dataframe thead th {\n",
       "        text-align: right;\n",
       "    }\n",
       "</style>\n",
       "<table border=\"1\" class=\"dataframe\">\n",
       "  <thead>\n",
       "    <tr style=\"text-align: right;\">\n",
       "      <th></th>\n",
       "      <th>Bedrooms</th>\n",
       "      <th>House Type</th>\n",
       "      <th>Location</th>\n",
       "      <th>Price</th>\n",
       "      <th>Suburb</th>\n",
       "    </tr>\n",
       "  </thead>\n",
       "  <tbody>\n",
       "    <tr>\n",
       "      <th>13</th>\n",
       "      <td>1</td>\n",
       "      <td>apartment</td>\n",
       "      <td>cantonments</td>\n",
       "      <td>1889000</td>\n",
       "      <td>Cantonments</td>\n",
       "    </tr>\n",
       "    <tr>\n",
       "      <th>14</th>\n",
       "      <td>2</td>\n",
       "      <td>apartment</td>\n",
       "      <td>cantonments</td>\n",
       "      <td>2870000</td>\n",
       "      <td>Cantonments</td>\n",
       "    </tr>\n",
       "    <tr>\n",
       "      <th>22</th>\n",
       "      <td>3</td>\n",
       "      <td>apartment</td>\n",
       "      <td>cantonments</td>\n",
       "      <td>4541068</td>\n",
       "      <td>Cantonments</td>\n",
       "    </tr>\n",
       "    <tr>\n",
       "      <th>36</th>\n",
       "      <td>1</td>\n",
       "      <td>apartment</td>\n",
       "      <td>cantonments</td>\n",
       "      <td>1759664</td>\n",
       "      <td>Cantonments</td>\n",
       "    </tr>\n",
       "    <tr>\n",
       "      <th>37</th>\n",
       "      <td>1</td>\n",
       "      <td>apartment</td>\n",
       "      <td>cantonments</td>\n",
       "      <td>2043481</td>\n",
       "      <td>Cantonments</td>\n",
       "    </tr>\n",
       "    <tr>\n",
       "      <th>...</th>\n",
       "      <td>...</td>\n",
       "      <td>...</td>\n",
       "      <td>...</td>\n",
       "      <td>...</td>\n",
       "      <td>...</td>\n",
       "    </tr>\n",
       "    <tr>\n",
       "      <th>1531</th>\n",
       "      <td>2</td>\n",
       "      <td>apartment</td>\n",
       "      <td>cantonments</td>\n",
       "      <td>4200000</td>\n",
       "      <td>Cantonments</td>\n",
       "    </tr>\n",
       "    <tr>\n",
       "      <th>1556</th>\n",
       "      <td>5</td>\n",
       "      <td>apartment</td>\n",
       "      <td>cantonment</td>\n",
       "      <td>6960700</td>\n",
       "      <td>Cantonments</td>\n",
       "    </tr>\n",
       "    <tr>\n",
       "      <th>1566</th>\n",
       "      <td>2</td>\n",
       "      <td>furnished apartment</td>\n",
       "      <td>cantonments</td>\n",
       "      <td>1512500</td>\n",
       "      <td>Cantonments</td>\n",
       "    </tr>\n",
       "    <tr>\n",
       "      <th>1583</th>\n",
       "      <td>3</td>\n",
       "      <td>furnished apartment</td>\n",
       "      <td>cantonment</td>\n",
       "      <td>2964000</td>\n",
       "      <td>Cantonments</td>\n",
       "    </tr>\n",
       "    <tr>\n",
       "      <th>1592</th>\n",
       "      <td>3</td>\n",
       "      <td>apartment</td>\n",
       "      <td>cantonments</td>\n",
       "      <td>5108702</td>\n",
       "      <td>Cantonments</td>\n",
       "    </tr>\n",
       "  </tbody>\n",
       "</table>\n",
       "<p>255 rows × 5 columns</p>\n",
       "</div>"
      ],
      "text/plain": [
       "     Bedrooms             House Type     Location    Price       Suburb\n",
       "13          1             apartment   cantonments  1889000  Cantonments\n",
       "14          2             apartment   cantonments  2870000  Cantonments\n",
       "22          3             apartment   cantonments  4541068  Cantonments\n",
       "36          1             apartment   cantonments  1759664  Cantonments\n",
       "37          1             apartment   cantonments  2043481  Cantonments\n",
       "...       ...                    ...          ...      ...          ...\n",
       "1531        2             apartment   cantonments  4200000  Cantonments\n",
       "1556        5             apartment    cantonment  6960700  Cantonments\n",
       "1566        2   furnished apartment   cantonments  1512500  Cantonments\n",
       "1583        3   furnished apartment    cantonment  2964000  Cantonments\n",
       "1592        3             apartment   cantonments  5108702  Cantonments\n",
       "\n",
       "[255 rows x 5 columns]"
      ]
     },
     "execution_count": 27,
     "metadata": {},
     "output_type": "execute_result"
    }
   ],
   "source": [
    "canto"
   ]
  },
  {
   "cell_type": "code",
   "execution_count": 28,
   "id": "55cecc63-8e81-472b-b59e-12b4b132286d",
   "metadata": {
    "tags": []
   },
   "outputs": [],
   "source": [
    "airport = df.query('Location.str.contains(\"airp\")')"
   ]
  },
  {
   "cell_type": "code",
   "execution_count": 29,
   "id": "15ecbd66-60b5-4290-8809-4a4d3a0a429c",
   "metadata": {
    "tags": []
   },
   "outputs": [
    {
     "name": "stderr",
     "output_type": "stream",
     "text": [
      "/var/folders/p3/m5hh4tgj36z4r763hs22tq3h0000gp/T/ipykernel_778/2467929262.py:1: SettingWithCopyWarning: \n",
      "A value is trying to be set on a copy of a slice from a DataFrame.\n",
      "Try using .loc[row_indexer,col_indexer] = value instead\n",
      "\n",
      "See the caveats in the documentation: https://pandas.pydata.org/pandas-docs/stable/user_guide/indexing.html#returning-a-view-versus-a-copy\n",
      "  airport['Suburb'] = \"Airport\"\n"
     ]
    }
   ],
   "source": [
    "airport['Suburb'] = \"Airport\""
   ]
  },
  {
   "cell_type": "code",
   "execution_count": 30,
   "id": "ddaf2ddb-a9d9-4e5a-aa58-f3e44e2294dc",
   "metadata": {
    "tags": []
   },
   "outputs": [
    {
     "data": {
      "text/html": [
       "<div>\n",
       "<style scoped>\n",
       "    .dataframe tbody tr th:only-of-type {\n",
       "        vertical-align: middle;\n",
       "    }\n",
       "\n",
       "    .dataframe tbody tr th {\n",
       "        vertical-align: top;\n",
       "    }\n",
       "\n",
       "    .dataframe thead th {\n",
       "        text-align: right;\n",
       "    }\n",
       "</style>\n",
       "<table border=\"1\" class=\"dataframe\">\n",
       "  <thead>\n",
       "    <tr style=\"text-align: right;\">\n",
       "      <th></th>\n",
       "      <th>Bedrooms</th>\n",
       "      <th>House Type</th>\n",
       "      <th>Location</th>\n",
       "      <th>Price</th>\n",
       "      <th>Suburb</th>\n",
       "    </tr>\n",
       "  </thead>\n",
       "  <tbody>\n",
       "    <tr>\n",
       "      <th>2</th>\n",
       "      <td>1</td>\n",
       "      <td>apartment</td>\n",
       "      <td>airport residential area</td>\n",
       "      <td>1045000</td>\n",
       "      <td>Airport</td>\n",
       "    </tr>\n",
       "    <tr>\n",
       "      <th>3</th>\n",
       "      <td>1</td>\n",
       "      <td>apartment</td>\n",
       "      <td>airport residential area</td>\n",
       "      <td>2322000</td>\n",
       "      <td>Airport</td>\n",
       "    </tr>\n",
       "    <tr>\n",
       "      <th>4</th>\n",
       "      <td>3</td>\n",
       "      <td>apartment</td>\n",
       "      <td>airport residential area</td>\n",
       "      <td>4755000</td>\n",
       "      <td>Airport</td>\n",
       "    </tr>\n",
       "    <tr>\n",
       "      <th>5</th>\n",
       "      <td>1</td>\n",
       "      <td>apartment</td>\n",
       "      <td>airport residential area</td>\n",
       "      <td>2015000</td>\n",
       "      <td>Airport</td>\n",
       "    </tr>\n",
       "    <tr>\n",
       "      <th>6</th>\n",
       "      <td>1</td>\n",
       "      <td>apartment</td>\n",
       "      <td>airport residential area</td>\n",
       "      <td>960000</td>\n",
       "      <td>Airport</td>\n",
       "    </tr>\n",
       "    <tr>\n",
       "      <th>...</th>\n",
       "      <td>...</td>\n",
       "      <td>...</td>\n",
       "      <td>...</td>\n",
       "      <td>...</td>\n",
       "      <td>...</td>\n",
       "    </tr>\n",
       "    <tr>\n",
       "      <th>1560</th>\n",
       "      <td>F</td>\n",
       "      <td>hed apartment</td>\n",
       "      <td>airport city -tsopoli</td>\n",
       "      <td>14000</td>\n",
       "      <td>Airport</td>\n",
       "    </tr>\n",
       "    <tr>\n",
       "      <th>1561</th>\n",
       "      <td>F</td>\n",
       "      <td>hed apartment</td>\n",
       "      <td>airport city -tsopoli</td>\n",
       "      <td>14000</td>\n",
       "      <td>Airport</td>\n",
       "    </tr>\n",
       "    <tr>\n",
       "      <th>1568</th>\n",
       "      <td>3</td>\n",
       "      <td>apartment</td>\n",
       "      <td>airport road</td>\n",
       "      <td>3746381</td>\n",
       "      <td>Airport</td>\n",
       "    </tr>\n",
       "    <tr>\n",
       "      <th>1576</th>\n",
       "      <td>2</td>\n",
       "      <td>furnished apartment</td>\n",
       "      <td>east airport</td>\n",
       "      <td>1702901</td>\n",
       "      <td>Airport</td>\n",
       "    </tr>\n",
       "    <tr>\n",
       "      <th>1591</th>\n",
       "      <td>4</td>\n",
       "      <td>apartment</td>\n",
       "      <td>airport hills</td>\n",
       "      <td>7946869</td>\n",
       "      <td>Airport</td>\n",
       "    </tr>\n",
       "  </tbody>\n",
       "</table>\n",
       "<p>323 rows × 5 columns</p>\n",
       "</div>"
      ],
      "text/plain": [
       "     Bedrooms             House Type                  Location    Price  \\\n",
       "2           1             apartment   airport residential area  1045000   \n",
       "3           1             apartment   airport residential area  2322000   \n",
       "4           3             apartment   airport residential area  4755000   \n",
       "5           1             apartment   airport residential area  2015000   \n",
       "6           1             apartment   airport residential area   960000   \n",
       "...       ...                    ...                       ...      ...   \n",
       "1560        F         hed apartment      airport city -tsopoli    14000   \n",
       "1561        F         hed apartment      airport city -tsopoli    14000   \n",
       "1568        3             apartment               airport road  3746381   \n",
       "1576        2   furnished apartment               east airport  1702901   \n",
       "1591        4             apartment              airport hills  7946869   \n",
       "\n",
       "       Suburb  \n",
       "2     Airport  \n",
       "3     Airport  \n",
       "4     Airport  \n",
       "5     Airport  \n",
       "6     Airport  \n",
       "...       ...  \n",
       "1560  Airport  \n",
       "1561  Airport  \n",
       "1568  Airport  \n",
       "1576  Airport  \n",
       "1591  Airport  \n",
       "\n",
       "[323 rows x 5 columns]"
      ]
     },
     "execution_count": 30,
     "metadata": {},
     "output_type": "execute_result"
    }
   ],
   "source": [
    "airport"
   ]
  },
  {
   "cell_type": "code",
   "execution_count": 106,
   "id": "cee08934-ddb7-4faa-82c0-dfe4fa8d907a",
   "metadata": {
    "tags": []
   },
   "outputs": [],
   "source": [
    "labone = df.query('Location.str.contains(\"lab\")')"
   ]
  },
  {
   "cell_type": "code",
   "execution_count": 107,
   "id": "a92f1772-d05f-4dd3-b1b2-3e770a682fe1",
   "metadata": {
    "tags": []
   },
   "outputs": [
    {
     "name": "stderr",
     "output_type": "stream",
     "text": [
      "/var/folders/p3/m5hh4tgj36z4r763hs22tq3h0000gp/T/ipykernel_778/3062944594.py:1: SettingWithCopyWarning: \n",
      "A value is trying to be set on a copy of a slice from a DataFrame.\n",
      "Try using .loc[row_indexer,col_indexer] = value instead\n",
      "\n",
      "See the caveats in the documentation: https://pandas.pydata.org/pandas-docs/stable/user_guide/indexing.html#returning-a-view-versus-a-copy\n",
      "  labone['Suburb'] = \"Labone\"\n"
     ]
    }
   ],
   "source": [
    "labone['Suburb'] = \"Labone\""
   ]
  },
  {
   "cell_type": "code",
   "execution_count": 33,
   "id": "d3ffdd9a-b31a-4424-a928-fb4eeb81210c",
   "metadata": {
    "tags": []
   },
   "outputs": [
    {
     "data": {
      "text/plain": [
       "labone                                       65\n",
       "labone coffee shop                            1\n",
       "cantonments labone                            1\n",
       "labadi                                        1\n",
       "tsopoli -beautiful estate plots available     1\n",
       "labone estates                                1\n",
       "Name: Location, dtype: int64"
      ]
     },
     "execution_count": 33,
     "metadata": {},
     "output_type": "execute_result"
    }
   ],
   "source": [
    "labone.Location.value_counts()"
   ]
  },
  {
   "cell_type": "code",
   "execution_count": 34,
   "id": "d9bfce2a-642b-4f76-9fb3-49f23c94bc42",
   "metadata": {
    "tags": []
   },
   "outputs": [],
   "source": [
    "new = pd.concat([east_leg,east_hills,canto,labone,airport],axis = 0)"
   ]
  },
  {
   "cell_type": "code",
   "execution_count": 35,
   "id": "044df5cd-f7c9-4a83-87c5-03c8aa9bd252",
   "metadata": {
    "tags": []
   },
   "outputs": [],
   "source": [
    "#new"
   ]
  },
  {
   "cell_type": "markdown",
   "id": "20fb67e8-f31b-4b93-9af2-400a2399b484",
   "metadata": {
    "tags": []
   },
   "source": [
    "### East Legon MIN,MAX,MEDIAN,OUTLIERS"
   ]
  },
  {
   "cell_type": "code",
   "execution_count": 36,
   "id": "13b3222c-36ce-492a-8842-4e995d89fc24",
   "metadata": {
    "tags": []
   },
   "outputs": [],
   "source": [
    "east_leg = east_leg[east_leg.Price.str.contains(\"Price\") == False]"
   ]
  },
  {
   "cell_type": "code",
   "execution_count": 37,
   "id": "65e9af56-8647-45a2-934d-deef2e643c77",
   "metadata": {
    "tags": []
   },
   "outputs": [],
   "source": [
    "east_leg = east_leg.astype({\"Price\":\"int\"})"
   ]
  },
  {
   "cell_type": "code",
   "execution_count": 38,
   "id": "d2f99675-dc86-44e8-83e6-662a813bb4f7",
   "metadata": {
    "tags": []
   },
   "outputs": [
    {
     "data": {
      "text/plain": [
       "1950"
      ]
     },
     "execution_count": 38,
     "metadata": {},
     "output_type": "execute_result"
    }
   ],
   "source": [
    "east_leg.Price.min()"
   ]
  },
  {
   "cell_type": "code",
   "execution_count": 39,
   "id": "0c2399f0-36b2-4eb1-b6ab-e19da53d8dab",
   "metadata": {
    "tags": []
   },
   "outputs": [
    {
     "data": {
      "text/plain": [
       "215700730"
      ]
     },
     "execution_count": 39,
     "metadata": {},
     "output_type": "execute_result"
    }
   ],
   "source": [
    "east_leg.Price.max()"
   ]
  },
  {
   "cell_type": "code",
   "execution_count": 40,
   "id": "4dee2277-9dbd-475e-862a-dbd852528979",
   "metadata": {
    "tags": []
   },
   "outputs": [
    {
     "data": {
      "text/plain": [
       "2105122.0"
      ]
     },
     "execution_count": 40,
     "metadata": {},
     "output_type": "execute_result"
    }
   ],
   "source": [
    "east_leg.Price.median()"
   ]
  },
  {
   "cell_type": "code",
   "execution_count": 474,
   "id": "836b479f-eaf0-4fc0-92dc-4e85238c80da",
   "metadata": {
    "tags": []
   },
   "outputs": [
    {
     "data": {
      "text/plain": [
       "1891598.75"
      ]
     },
     "execution_count": 474,
     "metadata": {},
     "output_type": "execute_result"
    }
   ],
   "source": [
    "IQR_east_leg = east_leg.Price.quantile(0.75) - east_leg.Price.quantile(0.25)\n",
    "IQR_east_leg"
   ]
  },
  {
   "cell_type": "code",
   "execution_count": 475,
   "id": "149240ab-d2ca-47d6-bb5f-19e5689496f1",
   "metadata": {
    "tags": []
   },
   "outputs": [
    {
     "data": {
      "text/plain": [
       "-1486369.125"
      ]
     },
     "execution_count": 475,
     "metadata": {},
     "output_type": "execute_result"
    }
   ],
   "source": [
    "low = east_leg.Price.quantile(0.25) - 1.5 * IQR_east_leg\n",
    "low"
   ]
  },
  {
   "cell_type": "code",
   "execution_count": 476,
   "id": "a1ee8a2f-adab-47a4-a32c-38ebc049495a",
   "metadata": {
    "tags": []
   },
   "outputs": [
    {
     "data": {
      "text/plain": [
       "6080025.875"
      ]
     },
     "execution_count": 476,
     "metadata": {},
     "output_type": "execute_result"
    }
   ],
   "source": [
    "high = east_leg.Price.quantile(0.75) + 1.5 * IQR_east_leg\n",
    "high"
   ]
  },
  {
   "cell_type": "code",
   "execution_count": 477,
   "id": "6d9e3856-b530-4815-90f2-20bacdd395fc",
   "metadata": {
    "tags": []
   },
   "outputs": [
    {
     "data": {
      "text/plain": [
       "True"
      ]
     },
     "execution_count": 477,
     "metadata": {},
     "output_type": "execute_result"
    }
   ],
   "source": [
    "east_leg.Price.max() > high"
   ]
  },
  {
   "cell_type": "code",
   "execution_count": null,
   "id": "9b768d25-f1b5-41a0-b606-e27120a5d168",
   "metadata": {},
   "outputs": [],
   "source": [
    "# There are high outliers"
   ]
  },
  {
   "cell_type": "markdown",
   "id": "65534c92-6f2f-4803-ab9f-2c1a05309017",
   "metadata": {
    "jp-MarkdownHeadingCollapsed": true,
    "tags": []
   },
   "source": [
    "### Cantoments MIN,MAX,MEDIAN,OUTLIERS"
   ]
  },
  {
   "cell_type": "code",
   "execution_count": 72,
   "id": "33b84175-5d17-4603-9a09-b1892f6fc3e1",
   "metadata": {
    "tags": []
   },
   "outputs": [],
   "source": [
    "canto = canto[canto.Price.str.contains(\"Price\") == False]"
   ]
  },
  {
   "cell_type": "code",
   "execution_count": 73,
   "id": "80ea36f4-2f97-4ff0-85f3-c7f78b8cbc93",
   "metadata": {
    "tags": []
   },
   "outputs": [],
   "source": [
    "canto = canto.astype({\"Price\":\"int\"})"
   ]
  },
  {
   "cell_type": "code",
   "execution_count": 74,
   "id": "ea5de1f1-851d-489f-9901-60004a66ec74",
   "metadata": {
    "tags": []
   },
   "outputs": [
    {
     "data": {
      "text/plain": [
       "35806"
      ]
     },
     "execution_count": 74,
     "metadata": {},
     "output_type": "execute_result"
    }
   ],
   "source": [
    "canto.Price.min()"
   ]
  },
  {
   "cell_type": "code",
   "execution_count": 75,
   "id": "59f63543-caea-4294-b175-c8e12a97c273",
   "metadata": {
    "tags": []
   },
   "outputs": [
    {
     "data": {
      "text/plain": [
       "999980000"
      ]
     },
     "execution_count": 75,
     "metadata": {},
     "output_type": "execute_result"
    }
   ],
   "source": [
    "canto.Price.max()"
   ]
  },
  {
   "cell_type": "code",
   "execution_count": 76,
   "id": "d46b56bc-5b90-42e8-99e4-a2871ce9aebb",
   "metadata": {
    "tags": []
   },
   "outputs": [
    {
     "data": {
      "text/plain": [
       "3008174.0"
      ]
     },
     "execution_count": 76,
     "metadata": {},
     "output_type": "execute_result"
    }
   ],
   "source": [
    "canto.Price.median()"
   ]
  },
  {
   "cell_type": "code",
   "execution_count": 77,
   "id": "dd6f18b3-182d-4fd0-b679-0efad183b0b0",
   "metadata": {
    "tags": []
   },
   "outputs": [
    {
     "data": {
      "text/plain": [
       "2259021.5"
      ]
     },
     "execution_count": 77,
     "metadata": {},
     "output_type": "execute_result"
    }
   ],
   "source": [
    "IQR_canto = canto.Price.quantile(0.75) - canto.Price.quantile(0.25)\n",
    "IQR_canto"
   ]
  },
  {
   "cell_type": "code",
   "execution_count": 78,
   "id": "2645ad4a-7aca-48f0-916a-bd725fb35f88",
   "metadata": {
    "tags": []
   },
   "outputs": [
    {
     "data": {
      "text/plain": [
       "-1267952.25"
      ]
     },
     "execution_count": 78,
     "metadata": {},
     "output_type": "execute_result"
    }
   ],
   "source": [
    "low_canto = canto.Price.quantile(0.25) - 1.5 * IQR_canto\n",
    "low_canto"
   ]
  },
  {
   "cell_type": "code",
   "execution_count": 79,
   "id": "f0870da0-2bc3-467f-b1da-9d1174b8c6c4",
   "metadata": {
    "tags": []
   },
   "outputs": [
    {
     "data": {
      "text/plain": [
       "7768133.75"
      ]
     },
     "execution_count": 79,
     "metadata": {},
     "output_type": "execute_result"
    }
   ],
   "source": [
    "high_canto = canto.Price.quantile(0.75) + 1.5 * IQR_canto\n",
    "high_canto"
   ]
  },
  {
   "cell_type": "code",
   "execution_count": 80,
   "id": "9827331c-df79-4529-859d-232986781b4a",
   "metadata": {
    "tags": []
   },
   "outputs": [
    {
     "data": {
      "text/plain": [
       "True"
      ]
     },
     "execution_count": 80,
     "metadata": {},
     "output_type": "execute_result"
    }
   ],
   "source": [
    "canto.Price.max() > high_canto"
   ]
  },
  {
   "cell_type": "code",
   "execution_count": null,
   "id": "3286ef11-eb16-44e4-92ac-7de8c023303b",
   "metadata": {},
   "outputs": [],
   "source": [
    "## There are high outliers in this dataset"
   ]
  },
  {
   "cell_type": "markdown",
   "id": "4f22b3ca-2d04-4f4d-9a49-cf3488007b54",
   "metadata": {
    "jp-MarkdownHeadingCollapsed": true,
    "tags": []
   },
   "source": [
    "#### East Legon Hills MIN,MAX,MEDIAN,OUTLIERS"
   ]
  },
  {
   "cell_type": "code",
   "execution_count": 149,
   "id": "a97d60ef-5104-4387-b053-09314e38c9bf",
   "metadata": {
    "tags": []
   },
   "outputs": [],
   "source": [
    "east_hills = east_hills[east_hills.Price.str.contains(\"Price\") == False]"
   ]
  },
  {
   "cell_type": "code",
   "execution_count": 151,
   "id": "b063d04f-d2b3-4373-a2be-fd4897d1e81c",
   "metadata": {
    "tags": []
   },
   "outputs": [],
   "source": [
    "east_hills = east_hills.astype({\"Price\":\"int\"})"
   ]
  },
  {
   "cell_type": "code",
   "execution_count": 152,
   "id": "ee50bdfc-3a73-4119-a0b6-ed27ada00d88",
   "metadata": {
    "tags": []
   },
   "outputs": [
    {
     "data": {
      "text/plain": [
       "570000"
      ]
     },
     "execution_count": 152,
     "metadata": {},
     "output_type": "execute_result"
    }
   ],
   "source": [
    "east_hills.Price.min()"
   ]
  },
  {
   "cell_type": "code",
   "execution_count": 153,
   "id": "33edbecb-84ea-4872-8b64-4dfac62e1b87",
   "metadata": {
    "tags": []
   },
   "outputs": [
    {
     "data": {
      "text/plain": [
       "9082136"
      ]
     },
     "execution_count": 153,
     "metadata": {},
     "output_type": "execute_result"
    }
   ],
   "source": [
    "east_hills.Price.max()"
   ]
  },
  {
   "cell_type": "code",
   "execution_count": 172,
   "id": "de39d6d9-fe2b-497d-bf2f-9eb77c128959",
   "metadata": {
    "tags": []
   },
   "outputs": [
    {
     "data": {
      "text/plain": [
       "1475847.0"
      ]
     },
     "execution_count": 172,
     "metadata": {},
     "output_type": "execute_result"
    }
   ],
   "source": [
    "east_hills.Price.median()"
   ]
  },
  {
   "cell_type": "code",
   "execution_count": 173,
   "id": "e153c559-68a7-440b-8b75-5dd008fdc108",
   "metadata": {
    "tags": []
   },
   "outputs": [
    {
     "data": {
      "text/plain": [
       "1165093.25"
      ]
     },
     "execution_count": 173,
     "metadata": {},
     "output_type": "execute_result"
    }
   ],
   "source": [
    "IQR_hills = east_hills.Price.quantile(0.75) - east_hills.Price.quantile(0.25)\n",
    "IQR_hills"
   ]
  },
  {
   "cell_type": "code",
   "execution_count": 174,
   "id": "f27418a7-3d11-4962-b247-f38f04e1bf3c",
   "metadata": {
    "tags": []
   },
   "outputs": [
    {
     "data": {
      "text/plain": [
       "-656389.875"
      ]
     },
     "execution_count": 174,
     "metadata": {},
     "output_type": "execute_result"
    }
   ],
   "source": [
    "low_hills = east_hills.Price.quantile(0.25) - 1.5 * IQR_hills\n",
    "low_hills"
   ]
  },
  {
   "cell_type": "code",
   "execution_count": 175,
   "id": "e53bc99c-948c-468a-b99c-25d75309c610",
   "metadata": {
    "tags": []
   },
   "outputs": [
    {
     "data": {
      "text/plain": [
       "4003983.125"
      ]
     },
     "execution_count": 175,
     "metadata": {},
     "output_type": "execute_result"
    }
   ],
   "source": [
    "high_hills = east_hills.Price.quantile(0.75) + 1.5 * IQR_hills\n",
    "high_hills"
   ]
  },
  {
   "cell_type": "code",
   "execution_count": 176,
   "id": "705ddea9-f964-46c9-ac6b-cfbd65bb672f",
   "metadata": {
    "tags": []
   },
   "outputs": [
    {
     "data": {
      "text/plain": [
       "True"
      ]
     },
     "execution_count": 176,
     "metadata": {},
     "output_type": "execute_result"
    }
   ],
   "source": [
    "east_hills.Price.max() >high_hills"
   ]
  },
  {
   "cell_type": "code",
   "execution_count": 164,
   "id": "521a3cf2-b960-4c3f-857f-e06f92577411",
   "metadata": {
    "tags": []
   },
   "outputs": [],
   "source": [
    "#There are high outliers"
   ]
  },
  {
   "cell_type": "markdown",
   "id": "30e85b26-3b91-4bcc-a3cd-621355bce495",
   "metadata": {
    "jp-MarkdownHeadingCollapsed": true,
    "tags": []
   },
   "source": [
    "### Labone MIN,MAX,MEDIAN,OUTLIER"
   ]
  },
  {
   "cell_type": "code",
   "execution_count": 112,
   "id": "8cd0b69b-84c1-4c85-b0a9-ccfecf3a534e",
   "metadata": {
    "tags": []
   },
   "outputs": [],
   "source": [
    "labone = labone[labone.Price.str.contains(\"Price\") == False]"
   ]
  },
  {
   "cell_type": "code",
   "execution_count": 113,
   "id": "ef9e5e02-9360-42b4-b113-bf0edc8cadb1",
   "metadata": {
    "tags": []
   },
   "outputs": [],
   "source": [
    "labone = labone.astype({\"Price\":\"int\"})"
   ]
  },
  {
   "cell_type": "code",
   "execution_count": 114,
   "id": "17d43b5d-0590-435e-8e47-2db15206c44a",
   "metadata": {
    "tags": []
   },
   "outputs": [
    {
     "data": {
      "text/plain": [
       "750000"
      ]
     },
     "execution_count": 114,
     "metadata": {},
     "output_type": "execute_result"
    }
   ],
   "source": [
    "labone.Price.min()"
   ]
  },
  {
   "cell_type": "code",
   "execution_count": 115,
   "id": "ed65febe-a5b1-4298-8778-402eb8f5f769",
   "metadata": {
    "tags": []
   },
   "outputs": [
    {
     "data": {
      "text/plain": [
       "80149850"
      ]
     },
     "execution_count": 115,
     "metadata": {},
     "output_type": "execute_result"
    }
   ],
   "source": [
    "labone.Price.max()"
   ]
  },
  {
   "cell_type": "code",
   "execution_count": 116,
   "id": "4a33e025-a81b-4269-8f6d-906d267701a9",
   "metadata": {
    "tags": []
   },
   "outputs": [
    {
     "data": {
      "text/plain": [
       "2781404.0"
      ]
     },
     "execution_count": 116,
     "metadata": {},
     "output_type": "execute_result"
    }
   ],
   "source": [
    "labone.Price.median()"
   ]
  },
  {
   "cell_type": "code",
   "execution_count": 117,
   "id": "9b619ce5-f1a5-4ea2-b3f8-274415f22564",
   "metadata": {
    "tags": []
   },
   "outputs": [
    {
     "data": {
      "text/plain": [
       "2258022.75"
      ]
     },
     "execution_count": 117,
     "metadata": {},
     "output_type": "execute_result"
    }
   ],
   "source": [
    "IQR_lab = labone.Price.quantile(0.75) - labone.Price.quantile(0.25)\n",
    "IQR_lab"
   ]
  },
  {
   "cell_type": "code",
   "execution_count": 118,
   "id": "b764d236-2ada-4954-b5f4-68eb87d31dbf",
   "metadata": {
    "tags": []
   },
   "outputs": [
    {
     "data": {
      "text/plain": [
       "-1688651.375"
      ]
     },
     "execution_count": 118,
     "metadata": {},
     "output_type": "execute_result"
    }
   ],
   "source": [
    "low_lab = labone.Price.quantile(0.25) - 1.5 * IQR_lab\n",
    "low_lab"
   ]
  },
  {
   "cell_type": "code",
   "execution_count": 119,
   "id": "2dd31a8d-91aa-45fb-9878-292d1b0ca019",
   "metadata": {
    "tags": []
   },
   "outputs": [
    {
     "data": {
      "text/plain": [
       "7343439.625"
      ]
     },
     "execution_count": 119,
     "metadata": {},
     "output_type": "execute_result"
    }
   ],
   "source": [
    "high_lab = labone.Price.quantile(0.75) + 1.5 * IQR_lab\n",
    "high_lab"
   ]
  },
  {
   "cell_type": "code",
   "execution_count": 120,
   "id": "f8e0b18c-8a5a-4e6c-b6ba-b47e82a5e6b5",
   "metadata": {
    "tags": []
   },
   "outputs": [
    {
     "data": {
      "text/plain": [
       "True"
      ]
     },
     "execution_count": 120,
     "metadata": {},
     "output_type": "execute_result"
    }
   ],
   "source": [
    "labone.Price.max() > high_lab"
   ]
  },
  {
   "cell_type": "code",
   "execution_count": 198,
   "id": "d0eb0d17-9d34-4c6a-80f6-5200f2e148b6",
   "metadata": {
    "tags": []
   },
   "outputs": [],
   "source": [
    "# There are outliers in the pricing of houses in Labone"
   ]
  },
  {
   "cell_type": "markdown",
   "id": "e37a6d41-11af-417e-b632-c969a96137dc",
   "metadata": {
    "jp-MarkdownHeadingCollapsed": true,
    "tags": []
   },
   "source": [
    "### AIRPORT MIN,MAX,MEDIAN,OUTLIERS"
   ]
  },
  {
   "cell_type": "code",
   "execution_count": 121,
   "id": "ea2e05fc-152b-4e49-b520-61fe52b55be3",
   "metadata": {
    "tags": []
   },
   "outputs": [],
   "source": [
    "airport = airport[airport.Price.str.contains(\"Price\") == False]"
   ]
  },
  {
   "cell_type": "code",
   "execution_count": 122,
   "id": "cc8a0da2-8a57-41c9-804c-1d44c8a8dd31",
   "metadata": {
    "tags": []
   },
   "outputs": [],
   "source": [
    "airport = airport.astype({\"Price\":\"int\"})"
   ]
  },
  {
   "cell_type": "code",
   "execution_count": 123,
   "id": "13801a21-561b-49d2-9e35-2f6c85d48294",
   "metadata": {
    "tags": []
   },
   "outputs": [
    {
     "data": {
      "text/plain": [
       "1800"
      ]
     },
     "execution_count": 123,
     "metadata": {},
     "output_type": "execute_result"
    }
   ],
   "source": [
    "airport.Price.min()"
   ]
  },
  {
   "cell_type": "code",
   "execution_count": 124,
   "id": "ff42f519-efcb-4fdc-95d8-4fbdcedf86d0",
   "metadata": {
    "tags": []
   },
   "outputs": [
    {
     "data": {
      "text/plain": [
       "113526700"
      ]
     },
     "execution_count": 124,
     "metadata": {},
     "output_type": "execute_result"
    }
   ],
   "source": [
    "airport.Price.max()"
   ]
  },
  {
   "cell_type": "code",
   "execution_count": 125,
   "id": "73caa5bf-ad9f-48ce-9a77-727e82716a36",
   "metadata": {
    "tags": []
   },
   "outputs": [
    {
     "data": {
      "text/plain": [
       "3124440.0"
      ]
     },
     "execution_count": 125,
     "metadata": {},
     "output_type": "execute_result"
    }
   ],
   "source": [
    "airport.Price.median()"
   ]
  },
  {
   "cell_type": "code",
   "execution_count": 126,
   "id": "8d1ca5f1-1a0a-4d52-8ca0-300a33a7d2aa",
   "metadata": {
    "tags": []
   },
   "outputs": [
    {
     "data": {
      "text/plain": [
       "3275688.0"
      ]
     },
     "execution_count": 126,
     "metadata": {},
     "output_type": "execute_result"
    }
   ],
   "source": [
    "IQR_air = airport.Price.quantile(0.75) - airport.Price.quantile(0.25)\n",
    "IQR_air"
   ]
  },
  {
   "cell_type": "code",
   "execution_count": 127,
   "id": "9771bfe4-1f83-45fd-bc86-7d2fe4cac718",
   "metadata": {
    "tags": []
   },
   "outputs": [
    {
     "data": {
      "text/plain": [
       "-3080518.0"
      ]
     },
     "execution_count": 127,
     "metadata": {},
     "output_type": "execute_result"
    }
   ],
   "source": [
    "low_air = airport.Price.quantile(0.25) - 1.5 * IQR_air\n",
    "low_air"
   ]
  },
  {
   "cell_type": "code",
   "execution_count": 128,
   "id": "b5879dba-107c-4092-b651-9147b0c25876",
   "metadata": {
    "tags": []
   },
   "outputs": [
    {
     "data": {
      "text/plain": [
       "10022234.0"
      ]
     },
     "execution_count": 128,
     "metadata": {},
     "output_type": "execute_result"
    }
   ],
   "source": [
    "high_air = airport.Price.quantile(0.75) + 1.5 * IQR_air\n",
    "high_air"
   ]
  },
  {
   "cell_type": "code",
   "execution_count": 129,
   "id": "ef2e3d6f-9be4-4086-aff5-f271504571c0",
   "metadata": {
    "tags": []
   },
   "outputs": [
    {
     "data": {
      "text/plain": [
       "True"
      ]
     },
     "execution_count": 129,
     "metadata": {},
     "output_type": "execute_result"
    }
   ],
   "source": [
    "airport.Price.max() > high_air"
   ]
  },
  {
   "cell_type": "code",
   "execution_count": 197,
   "id": "cc4fe07b-e8d5-4bef-b3b8-d2c73609f75d",
   "metadata": {
    "tags": []
   },
   "outputs": [],
   "source": [
    "## There are outliers in the pricing of apartments Airport"
   ]
  },
  {
   "cell_type": "markdown",
   "id": "fe1df505-e3b1-454c-b880-ed5f51c61ee9",
   "metadata": {
    "tags": []
   },
   "source": [
    "### East Legon Hills MIN,MAX,MEDIAN, OUTLIERS"
   ]
  },
  {
   "cell_type": "code",
   "execution_count": 130,
   "id": "f9de70f7-1ee5-47d3-bbc8-da6127c9cfa9",
   "metadata": {
    "tags": []
   },
   "outputs": [],
   "source": [
    "east_hills = east_hills.astype({\"Price\":\"int\"})"
   ]
  },
  {
   "cell_type": "code",
   "execution_count": 131,
   "id": "919cf10c-20d5-4272-bc2d-6b14b7e626c3",
   "metadata": {
    "tags": []
   },
   "outputs": [
    {
     "data": {
      "text/plain": [
       "570000"
      ]
     },
     "execution_count": 131,
     "metadata": {},
     "output_type": "execute_result"
    }
   ],
   "source": [
    "east_hills.Price.min()"
   ]
  },
  {
   "cell_type": "code",
   "execution_count": 132,
   "id": "538fd7c3-498f-433d-bb2c-7f5be11982bf",
   "metadata": {
    "tags": []
   },
   "outputs": [
    {
     "data": {
      "text/plain": [
       "9082136"
      ]
     },
     "execution_count": 132,
     "metadata": {},
     "output_type": "execute_result"
    }
   ],
   "source": [
    "east_hills.Price.max()"
   ]
  },
  {
   "cell_type": "code",
   "execution_count": 133,
   "id": "ff27f530-2ecd-4be5-b216-8e8a838248ba",
   "metadata": {
    "tags": []
   },
   "outputs": [
    {
     "data": {
      "text/plain": [
       "1475847.0"
      ]
     },
     "execution_count": 133,
     "metadata": {},
     "output_type": "execute_result"
    }
   ],
   "source": [
    "east_hills.Price.median()"
   ]
  },
  {
   "cell_type": "code",
   "execution_count": 134,
   "id": "190cde08-f5aa-49fb-b6de-15819c6c2fa1",
   "metadata": {
    "tags": []
   },
   "outputs": [
    {
     "data": {
      "text/plain": [
       "1165093.25"
      ]
     },
     "execution_count": 134,
     "metadata": {},
     "output_type": "execute_result"
    }
   ],
   "source": [
    "IQR_hills = east_hills.Price.quantile(0.75) - east_hills.Price.quantile(0.25)\n",
    "IQR_hills"
   ]
  },
  {
   "cell_type": "code",
   "execution_count": 136,
   "id": "af6a67ad-ff07-475d-bc4f-7feb793accba",
   "metadata": {
    "tags": []
   },
   "outputs": [
    {
     "data": {
      "text/plain": [
       "1165093.25"
      ]
     },
     "execution_count": 136,
     "metadata": {},
     "output_type": "execute_result"
    }
   ],
   "source": [
    "low_hills = east_hills.Price.quantile(0.25) - 1.5 * IQR_hills\n",
    "IQR_hills"
   ]
  },
  {
   "cell_type": "code",
   "execution_count": 137,
   "id": "e8b09262-f89b-442e-b714-32412b04fd79",
   "metadata": {
    "tags": []
   },
   "outputs": [
    {
     "data": {
      "text/plain": [
       "4003983.125"
      ]
     },
     "execution_count": 137,
     "metadata": {},
     "output_type": "execute_result"
    }
   ],
   "source": [
    "high_hills = east_hills.Price.quantile(0.75) + 1.5 * IQR_hills\n",
    "high_hills"
   ]
  },
  {
   "cell_type": "code",
   "execution_count": 138,
   "id": "ec32d150-56ae-4b62-bbeb-34375ea26c8b",
   "metadata": {
    "tags": []
   },
   "outputs": [
    {
     "data": {
      "text/plain": [
       "True"
      ]
     },
     "execution_count": 138,
     "metadata": {},
     "output_type": "execute_result"
    }
   ],
   "source": [
    "east_hills.Price.max() > high_hills"
   ]
  },
  {
   "cell_type": "code",
   "execution_count": 219,
   "id": "3eb412e9-158d-4d47-b199-8e7f0337987b",
   "metadata": {
    "tags": []
   },
   "outputs": [],
   "source": [
    "# There aere outliers in the pricing of apartments in East Legon Hills"
   ]
  },
  {
   "cell_type": "markdown",
   "id": "36c83fe7-a78f-4c45-a439-bd77415d1690",
   "metadata": {},
   "source": [
    "### - - - - - - "
   ]
  },
  {
   "cell_type": "code",
   "execution_count": 521,
   "id": "89b35256-329e-4002-832e-7daaee5cf2b1",
   "metadata": {
    "tags": []
   },
   "outputs": [
    {
     "data": {
      "text/plain": [
       "30"
      ]
     },
     "execution_count": 521,
     "metadata": {},
     "output_type": "execute_result"
    }
   ],
   "source": [
    "east_leg.Location.nunique()"
   ]
  },
  {
   "cell_type": "code",
   "execution_count": 139,
   "id": "2010bed4-396f-49da-8b0c-fabebbd7b0fb",
   "metadata": {
    "tags": []
   },
   "outputs": [
    {
     "data": {
      "text/plain": [
       "294912.98846960167"
      ]
     },
     "execution_count": 139,
     "metadata": {},
     "output_type": "execute_result"
    }
   ],
   "source": [
    "east_leg.Price.mean() / 12"
   ]
  },
  {
   "cell_type": "code",
   "execution_count": 140,
   "id": "79c0757d-a6db-4b3b-ab6c-5e32128d7018",
   "metadata": {
    "tags": []
   },
   "outputs": [
    {
     "data": {
      "text/plain": [
       "318"
      ]
     },
     "execution_count": 140,
     "metadata": {},
     "output_type": "execute_result"
    }
   ],
   "source": [
    "east_leg.Location.count()"
   ]
  },
  {
   "cell_type": "code",
   "execution_count": 141,
   "id": "c6b11d75-7c13-40ef-84b7-236fb1cfcd0b",
   "metadata": {
    "tags": []
   },
   "outputs": [
    {
     "data": {
      "text/plain": [
       "174651.58823529413"
      ]
     },
     "execution_count": 141,
     "metadata": {},
     "output_type": "execute_result"
    }
   ],
   "source": [
    "east_hills.Price.mean() / 12"
   ]
  },
  {
   "cell_type": "code",
   "execution_count": 142,
   "id": "0bfa1ff7-9a51-4efc-8f18-aa5ee0374c45",
   "metadata": {
    "tags": []
   },
   "outputs": [
    {
     "data": {
      "text/plain": [
       "34"
      ]
     },
     "execution_count": 142,
     "metadata": {},
     "output_type": "execute_result"
    }
   ],
   "source": [
    "east_hills.Location.count()"
   ]
  },
  {
   "cell_type": "code",
   "execution_count": 143,
   "id": "e58fce52-cecc-4ac8-92f0-1a53f1c243df",
   "metadata": {
    "tags": []
   },
   "outputs": [
    {
     "data": {
      "text/plain": [
       "645949.9906666667"
      ]
     },
     "execution_count": 143,
     "metadata": {},
     "output_type": "execute_result"
    }
   ],
   "source": [
    "canto.Price.mean() / 12"
   ]
  },
  {
   "cell_type": "code",
   "execution_count": 144,
   "id": "eb0d909b-735e-4fd6-83c5-13e76e103f6b",
   "metadata": {
    "tags": []
   },
   "outputs": [
    {
     "data": {
      "text/plain": [
       "250"
      ]
     },
     "execution_count": 144,
     "metadata": {},
     "output_type": "execute_result"
    }
   ],
   "source": [
    "canto.Location.count()"
   ]
  },
  {
   "cell_type": "code",
   "execution_count": 145,
   "id": "8192d55b-d20e-44cd-ac0c-000ef62a4e21",
   "metadata": {
    "tags": []
   },
   "outputs": [
    {
     "data": {
      "text/plain": [
       "365908.6960784314"
      ]
     },
     "execution_count": 145,
     "metadata": {},
     "output_type": "execute_result"
    }
   ],
   "source": [
    "labone.Price.mean() / 12 "
   ]
  },
  {
   "cell_type": "code",
   "execution_count": 529,
   "id": "6ff42a47-1405-42cd-8e86-d2b587e89172",
   "metadata": {
    "tags": []
   },
   "outputs": [
    {
     "data": {
      "text/plain": [
       "68"
      ]
     },
     "execution_count": 529,
     "metadata": {},
     "output_type": "execute_result"
    }
   ],
   "source": [
    "labone.Location.count()"
   ]
  },
  {
   "cell_type": "code",
   "execution_count": 146,
   "id": "2ebca9a2-963c-4179-9a06-469c830eae45",
   "metadata": {
    "tags": []
   },
   "outputs": [
    {
     "data": {
      "text/plain": [
       "431333.1032901834"
      ]
     },
     "execution_count": 146,
     "metadata": {},
     "output_type": "execute_result"
    }
   ],
   "source": [
    "airport.Price.mean() / 12"
   ]
  },
  {
   "cell_type": "code",
   "execution_count": 147,
   "id": "b7056e1a-30bd-42fd-844e-74a7ea8c04c7",
   "metadata": {
    "tags": []
   },
   "outputs": [
    {
     "data": {
      "text/plain": [
       "309"
      ]
     },
     "execution_count": 147,
     "metadata": {},
     "output_type": "execute_result"
    }
   ],
   "source": [
    "airport.Location.count()"
   ]
  },
  {
   "cell_type": "code",
   "execution_count": 41,
   "id": "0c0cf0d4-b93b-4808-8bec-01d34430e8d4",
   "metadata": {
    "tags": []
   },
   "outputs": [],
   "source": [
    "canto = canto[canto.Bedrooms.str.contains(\"A\") == False]"
   ]
  },
  {
   "cell_type": "code",
   "execution_count": 42,
   "id": "e516fe9c-1008-4433-a81b-b515ec5652d0",
   "metadata": {
    "tags": []
   },
   "outputs": [],
   "source": [
    "canto = canto.astype({\"Bedrooms\":\"int\"})"
   ]
  },
  {
   "cell_type": "code",
   "execution_count": 43,
   "id": "b0152304-5502-4a68-bf6d-4e54fd5f6c5e",
   "metadata": {
    "tags": []
   },
   "outputs": [
    {
     "data": {
      "text/plain": [
       "2.177165354330709"
      ]
     },
     "execution_count": 43,
     "metadata": {},
     "output_type": "execute_result"
    }
   ],
   "source": [
    "canto.Bedrooms.mean()"
   ]
  },
  {
   "cell_type": "code",
   "execution_count": 108,
   "id": "b07f9cfc-8913-4923-a3de-31adf4d6a8bf",
   "metadata": {
    "tags": []
   },
   "outputs": [],
   "source": [
    "labone = labone[labone.Bedrooms.str.contains(\"F\") == False]"
   ]
  },
  {
   "cell_type": "code",
   "execution_count": 109,
   "id": "d2c5a68f-e8e7-4b69-b2e5-c81997257956",
   "metadata": {
    "tags": []
   },
   "outputs": [],
   "source": [
    "labone = labone[labone.Bedrooms.str.contains(\"A\") == False]"
   ]
  },
  {
   "cell_type": "code",
   "execution_count": 110,
   "id": "fd2ebc70-bd85-411b-b911-d97aec6b6a7e",
   "metadata": {
    "tags": []
   },
   "outputs": [],
   "source": [
    "labone = labone.astype({\"Bedrooms\":\"int\"})"
   ]
  },
  {
   "cell_type": "code",
   "execution_count": 111,
   "id": "a80c0dcd-8624-4c28-9f92-b1d4fe277581",
   "metadata": {
    "tags": []
   },
   "outputs": [
    {
     "data": {
      "text/plain": [
       "2.0441176470588234"
      ]
     },
     "execution_count": 111,
     "metadata": {},
     "output_type": "execute_result"
    }
   ],
   "source": [
    "labone.Bedrooms.mean()"
   ]
  },
  {
   "cell_type": "code",
   "execution_count": 49,
   "id": "0a988a3f-7b2d-44b5-aa31-83f57bf886ed",
   "metadata": {
    "tags": []
   },
   "outputs": [],
   "source": [
    "airport = airport[airport.Bedrooms.str.contains(\"A\") == False]\n",
    "airport = airport[airport.Bedrooms.str.contains(\"F\") == False]"
   ]
  },
  {
   "cell_type": "code",
   "execution_count": 50,
   "id": "c38285e1-65de-4da8-ab69-cc2d170a60f9",
   "metadata": {
    "tags": []
   },
   "outputs": [],
   "source": [
    "airport = airport.astype({\"Bedrooms\":\"int\"})"
   ]
  },
  {
   "cell_type": "code",
   "execution_count": 51,
   "id": "c8df26fc-af85-4ef2-a5e5-e237e71db95f",
   "metadata": {
    "tags": []
   },
   "outputs": [
    {
     "data": {
      "text/plain": [
       "2.3108974358974357"
      ]
     },
     "execution_count": 51,
     "metadata": {},
     "output_type": "execute_result"
    }
   ],
   "source": [
    "airport.Bedrooms.mean()"
   ]
  },
  {
   "cell_type": "code",
   "execution_count": 52,
   "id": "cc811a98-fa7b-4f86-86af-c163e486c33a",
   "metadata": {
    "tags": []
   },
   "outputs": [],
   "source": [
    "east_leg = east_leg[east_leg.Bedrooms.str.contains(\"A\") == False]\n",
    "east_leg = east_leg[east_leg.Bedrooms.str.contains(\"F\") == False]"
   ]
  },
  {
   "cell_type": "code",
   "execution_count": 53,
   "id": "21ff0194-dcda-41da-a890-3edf6e35dabc",
   "metadata": {
    "tags": []
   },
   "outputs": [],
   "source": [
    "east_leg = east_leg.astype({\"Bedrooms\":\"int\"})"
   ]
  },
  {
   "cell_type": "code",
   "execution_count": 54,
   "id": "41ce2954-db4c-4925-9b34-d0de89c3bf64",
   "metadata": {
    "tags": []
   },
   "outputs": [
    {
     "data": {
      "text/plain": [
       "2.2955974842767297"
      ]
     },
     "execution_count": 54,
     "metadata": {},
     "output_type": "execute_result"
    }
   ],
   "source": [
    "east_leg.Bedrooms.mean()"
   ]
  },
  {
   "cell_type": "code",
   "execution_count": 55,
   "id": "5ac5efb0-60f2-4872-b145-b0671494f54c",
   "metadata": {
    "tags": []
   },
   "outputs": [],
   "source": [
    "east_hills = east_hills.astype({\"Bedrooms\":\"int\"})"
   ]
  },
  {
   "cell_type": "code",
   "execution_count": 56,
   "id": "5544cc44-d76f-495b-a217-694d1da9ad92",
   "metadata": {
    "tags": []
   },
   "outputs": [
    {
     "data": {
      "text/plain": [
       "3.1176470588235294"
      ]
     },
     "execution_count": 56,
     "metadata": {},
     "output_type": "execute_result"
    }
   ],
   "source": [
    "east_hills.Bedrooms.mean()"
   ]
  },
  {
   "cell_type": "markdown",
   "id": "90009d2f-582f-4ce4-aecd-d9fc8375f73d",
   "metadata": {
    "tags": []
   },
   "source": [
    "### PRICING ANALYSIS (EAST LEGON)"
   ]
  },
  {
   "cell_type": "code",
   "execution_count": 152,
   "id": "6c21b1a5-bf57-45d1-8904-35d3f413c672",
   "metadata": {},
   "outputs": [
    {
     "data": {
      "text/plain": [
       "12270667.72539943"
      ]
     },
     "execution_count": 152,
     "metadata": {},
     "output_type": "execute_result"
    }
   ],
   "source": [
    "east_std = east_leg.Price.std()\n",
    "east_std"
   ]
  },
  {
   "cell_type": "code",
   "execution_count": 153,
   "id": "46fa086f-d02c-4827-aac9-69642f104354",
   "metadata": {
    "tags": []
   },
   "outputs": [
    {
     "data": {
      "text/plain": [
       "3538955.8616352202"
      ]
     },
     "execution_count": 153,
     "metadata": {},
     "output_type": "execute_result"
    }
   ],
   "source": [
    "east_mean = east_leg.Price.mean()\n",
    "east_mean"
   ]
  },
  {
   "cell_type": "code",
   "execution_count": 156,
   "id": "b00d115a-111b-4da8-bd51-71d778fd7059",
   "metadata": {
    "tags": []
   },
   "outputs": [
    {
     "name": "stdout",
     "output_type": "stream",
     "text": [
      " 68% of the houses in East Legon fall between  (-8731711.863764212, 15809623.58703465) \n"
     ]
    }
   ],
   "source": [
    "print(f\" 68% of the houses in East Legon fall between  {(east_mean - east_std,east_mean + east_std)} \")"
   ]
  },
  {
   "cell_type": "code",
   "execution_count": 168,
   "id": "02cd17d9-54c3-4a9b-8c05-a3147f55933c",
   "metadata": {
    "tags": []
   },
   "outputs": [
    {
     "data": {
      "text/plain": [
       "(-55333734.78447701, 70836534.56047702)"
      ]
     },
     "execution_count": 168,
     "metadata": {},
     "output_type": "execute_result"
    }
   ],
   "source": [
    "((canto.Price.mean() - canto.Price.std()),(canto.Price.mean() + canto.Price.std()))"
   ]
  },
  {
   "cell_type": "code",
   "execution_count": null,
   "id": "45dbecd4-1d07-401c-8cbe-493dd71612d2",
   "metadata": {},
   "outputs": [],
   "source": [
    "((canto.Price.mean() - canto.Price.std()),(canto.Price.mean() + canto.Price.std()))"
   ]
  },
  {
   "cell_type": "code",
   "execution_count": null,
   "id": "165c012d-02cd-47d5-972f-0e94c67e9820",
   "metadata": {},
   "outputs": [],
   "source": [
    "location price bedroom bath"
   ]
  }
 ],
 "metadata": {
  "kernelspec": {
   "display_name": "Python 3 (ipykernel)",
   "language": "python",
   "name": "python3"
  },
  "language_info": {
   "codemirror_mode": {
    "name": "ipython",
    "version": 3
   },
   "file_extension": ".py",
   "mimetype": "text/x-python",
   "name": "python",
   "nbconvert_exporter": "python",
   "pygments_lexer": "ipython3",
   "version": "3.11.4"
  }
 },
 "nbformat": 4,
 "nbformat_minor": 5
}
