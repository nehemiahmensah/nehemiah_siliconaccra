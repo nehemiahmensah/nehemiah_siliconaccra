{
 "cells": [
  {
   "cell_type": "markdown",
   "id": "b9addcbc-a6fb-4767-ae4c-2bb860d35cee",
   "metadata": {},
   "source": [
    "### Using the food hub data, find the low outliers and high outliers for each of the quantitative columns"
   ]
  },
  {
   "cell_type": "markdown",
   "id": "da5079ed-372f-4205-8a77-23ca651bb1ec",
   "metadata": {},
   "source": [
    "#### SETUP"
   ]
  },
  {
   "cell_type": "code",
   "execution_count": 129,
   "id": "c1f00342-e483-474a-9898-5c610fba4980",
   "metadata": {
    "tags": []
   },
   "outputs": [],
   "source": [
    "import pandas as pd\n",
    "import numpy as np"
   ]
  },
  {
   "cell_type": "code",
   "execution_count": 130,
   "id": "efcf199e-f006-4efc-8c3e-d3b7effdcfdb",
   "metadata": {
    "tags": []
   },
   "outputs": [],
   "source": [
    "df = pd.read_csv(\"foodhub_order.csv\")"
   ]
  },
  {
   "cell_type": "code",
   "execution_count": 131,
   "id": "6e416a4a-8828-4dd6-b0fa-b67ff3001d78",
   "metadata": {
    "tags": []
   },
   "outputs": [
    {
     "data": {
      "text/html": [
       "<div>\n",
       "<style scoped>\n",
       "    .dataframe tbody tr th:only-of-type {\n",
       "        vertical-align: middle;\n",
       "    }\n",
       "\n",
       "    .dataframe tbody tr th {\n",
       "        vertical-align: top;\n",
       "    }\n",
       "\n",
       "    .dataframe thead th {\n",
       "        text-align: right;\n",
       "    }\n",
       "</style>\n",
       "<table border=\"1\" class=\"dataframe\">\n",
       "  <thead>\n",
       "    <tr style=\"text-align: right;\">\n",
       "      <th></th>\n",
       "      <th>order_id</th>\n",
       "      <th>customer_id</th>\n",
       "      <th>restaurant_name</th>\n",
       "      <th>cuisine_type</th>\n",
       "      <th>cost_of_the_order</th>\n",
       "      <th>day_of_the_week</th>\n",
       "      <th>rating</th>\n",
       "      <th>food_preparation_time</th>\n",
       "      <th>delivery_time</th>\n",
       "    </tr>\n",
       "  </thead>\n",
       "  <tbody>\n",
       "    <tr>\n",
       "      <th>0</th>\n",
       "      <td>1477147</td>\n",
       "      <td>337525</td>\n",
       "      <td>Hangawi</td>\n",
       "      <td>Korean</td>\n",
       "      <td>30.75</td>\n",
       "      <td>Weekend</td>\n",
       "      <td>Not given</td>\n",
       "      <td>25</td>\n",
       "      <td>20</td>\n",
       "    </tr>\n",
       "    <tr>\n",
       "      <th>1</th>\n",
       "      <td>1477685</td>\n",
       "      <td>358141</td>\n",
       "      <td>Blue Ribbon Sushi Izakaya</td>\n",
       "      <td>Japanese</td>\n",
       "      <td>12.08</td>\n",
       "      <td>Weekend</td>\n",
       "      <td>Not given</td>\n",
       "      <td>25</td>\n",
       "      <td>23</td>\n",
       "    </tr>\n",
       "    <tr>\n",
       "      <th>2</th>\n",
       "      <td>1477070</td>\n",
       "      <td>66393</td>\n",
       "      <td>Cafe Habana</td>\n",
       "      <td>Mexican</td>\n",
       "      <td>12.23</td>\n",
       "      <td>Weekday</td>\n",
       "      <td>5</td>\n",
       "      <td>23</td>\n",
       "      <td>28</td>\n",
       "    </tr>\n",
       "    <tr>\n",
       "      <th>3</th>\n",
       "      <td>1477334</td>\n",
       "      <td>106968</td>\n",
       "      <td>Blue Ribbon Fried Chicken</td>\n",
       "      <td>American</td>\n",
       "      <td>29.20</td>\n",
       "      <td>Weekend</td>\n",
       "      <td>3</td>\n",
       "      <td>25</td>\n",
       "      <td>15</td>\n",
       "    </tr>\n",
       "    <tr>\n",
       "      <th>4</th>\n",
       "      <td>1478249</td>\n",
       "      <td>76942</td>\n",
       "      <td>Dirty Bird to Go</td>\n",
       "      <td>American</td>\n",
       "      <td>11.59</td>\n",
       "      <td>Weekday</td>\n",
       "      <td>4</td>\n",
       "      <td>25</td>\n",
       "      <td>24</td>\n",
       "    </tr>\n",
       "    <tr>\n",
       "      <th>...</th>\n",
       "      <td>...</td>\n",
       "      <td>...</td>\n",
       "      <td>...</td>\n",
       "      <td>...</td>\n",
       "      <td>...</td>\n",
       "      <td>...</td>\n",
       "      <td>...</td>\n",
       "      <td>...</td>\n",
       "      <td>...</td>\n",
       "    </tr>\n",
       "    <tr>\n",
       "      <th>1893</th>\n",
       "      <td>1476701</td>\n",
       "      <td>292602</td>\n",
       "      <td>Chipotle Mexican Grill $1.99 Delivery</td>\n",
       "      <td>Mexican</td>\n",
       "      <td>22.31</td>\n",
       "      <td>Weekend</td>\n",
       "      <td>5</td>\n",
       "      <td>31</td>\n",
       "      <td>17</td>\n",
       "    </tr>\n",
       "    <tr>\n",
       "      <th>1894</th>\n",
       "      <td>1477421</td>\n",
       "      <td>397537</td>\n",
       "      <td>The Smile</td>\n",
       "      <td>American</td>\n",
       "      <td>12.18</td>\n",
       "      <td>Weekend</td>\n",
       "      <td>5</td>\n",
       "      <td>31</td>\n",
       "      <td>19</td>\n",
       "    </tr>\n",
       "    <tr>\n",
       "      <th>1895</th>\n",
       "      <td>1477819</td>\n",
       "      <td>35309</td>\n",
       "      <td>Blue Ribbon Sushi</td>\n",
       "      <td>Japanese</td>\n",
       "      <td>25.22</td>\n",
       "      <td>Weekday</td>\n",
       "      <td>Not given</td>\n",
       "      <td>31</td>\n",
       "      <td>24</td>\n",
       "    </tr>\n",
       "    <tr>\n",
       "      <th>1896</th>\n",
       "      <td>1477513</td>\n",
       "      <td>64151</td>\n",
       "      <td>Jack's Wife Freda</td>\n",
       "      <td>Mediterranean</td>\n",
       "      <td>12.18</td>\n",
       "      <td>Weekday</td>\n",
       "      <td>5</td>\n",
       "      <td>23</td>\n",
       "      <td>31</td>\n",
       "    </tr>\n",
       "    <tr>\n",
       "      <th>1897</th>\n",
       "      <td>1478056</td>\n",
       "      <td>120353</td>\n",
       "      <td>Blue Ribbon Sushi</td>\n",
       "      <td>Japanese</td>\n",
       "      <td>19.45</td>\n",
       "      <td>Weekend</td>\n",
       "      <td>Not given</td>\n",
       "      <td>28</td>\n",
       "      <td>24</td>\n",
       "    </tr>\n",
       "  </tbody>\n",
       "</table>\n",
       "<p>1898 rows × 9 columns</p>\n",
       "</div>"
      ],
      "text/plain": [
       "      order_id  customer_id                        restaurant_name  \\\n",
       "0      1477147       337525                                Hangawi   \n",
       "1      1477685       358141              Blue Ribbon Sushi Izakaya   \n",
       "2      1477070        66393                            Cafe Habana   \n",
       "3      1477334       106968              Blue Ribbon Fried Chicken   \n",
       "4      1478249        76942                       Dirty Bird to Go   \n",
       "...        ...          ...                                    ...   \n",
       "1893   1476701       292602  Chipotle Mexican Grill $1.99 Delivery   \n",
       "1894   1477421       397537                              The Smile   \n",
       "1895   1477819        35309                      Blue Ribbon Sushi   \n",
       "1896   1477513        64151                      Jack's Wife Freda   \n",
       "1897   1478056       120353                      Blue Ribbon Sushi   \n",
       "\n",
       "       cuisine_type  cost_of_the_order day_of_the_week     rating  \\\n",
       "0            Korean              30.75         Weekend  Not given   \n",
       "1          Japanese              12.08         Weekend  Not given   \n",
       "2           Mexican              12.23         Weekday          5   \n",
       "3          American              29.20         Weekend          3   \n",
       "4          American              11.59         Weekday          4   \n",
       "...             ...                ...             ...        ...   \n",
       "1893        Mexican              22.31         Weekend          5   \n",
       "1894       American              12.18         Weekend          5   \n",
       "1895       Japanese              25.22         Weekday  Not given   \n",
       "1896  Mediterranean              12.18         Weekday          5   \n",
       "1897       Japanese              19.45         Weekend  Not given   \n",
       "\n",
       "      food_preparation_time  delivery_time  \n",
       "0                        25             20  \n",
       "1                        25             23  \n",
       "2                        23             28  \n",
       "3                        25             15  \n",
       "4                        25             24  \n",
       "...                     ...            ...  \n",
       "1893                     31             17  \n",
       "1894                     31             19  \n",
       "1895                     31             24  \n",
       "1896                     23             31  \n",
       "1897                     28             24  \n",
       "\n",
       "[1898 rows x 9 columns]"
      ]
     },
     "execution_count": 131,
     "metadata": {},
     "output_type": "execute_result"
    }
   ],
   "source": [
    "df"
   ]
  },
  {
   "cell_type": "markdown",
   "id": "ec7700aa-28df-434e-b016-a47ffa7c48e2",
   "metadata": {},
   "source": [
    "##### FINDING OUTLIERS FOR delivery_time"
   ]
  },
  {
   "cell_type": "code",
   "execution_count": 132,
   "id": "81d4759e-8833-491c-8077-c5f4c370f12b",
   "metadata": {
    "tags": []
   },
   "outputs": [
    {
     "data": {
      "text/plain": [
       "8.0"
      ]
     },
     "execution_count": 132,
     "metadata": {},
     "output_type": "execute_result"
    }
   ],
   "source": [
    "# first find for interquartile range\n",
    "IQR_delivery = df.delivery_time.quantile(0.75) - df.delivery_time.quantile(0.25)\n",
    "IQR_delivery"
   ]
  },
  {
   "cell_type": "code",
   "execution_count": 133,
   "id": "49bf048d-f6c6-416d-aa23-437fdda96b7d",
   "metadata": {},
   "outputs": [
    {
     "data": {
      "text/plain": [
       "8.0"
      ]
     },
     "execution_count": 133,
     "metadata": {},
     "output_type": "execute_result"
    }
   ],
   "source": [
    "#finding low interquartile\n",
    "low = df.delivery_time.quantile(0.25) - 1.5*IQR_delivery\n",
    "low"
   ]
  },
  {
   "cell_type": "code",
   "execution_count": 134,
   "id": "73ccf32b-ace0-4bb2-b4a0-770522dea8c2",
   "metadata": {
    "tags": []
   },
   "outputs": [
    {
     "data": {
      "text/plain": [
       "40.0"
      ]
     },
     "execution_count": 134,
     "metadata": {},
     "output_type": "execute_result"
    }
   ],
   "source": [
    "#finding high high interquartile\n",
    "high = df.delivery_time.quantile(0.75) + 1.5*IQR_delivery\n",
    "high"
   ]
  },
  {
   "cell_type": "code",
   "execution_count": 135,
   "id": "42f08a56-0727-494f-9927-dbda366ba64a",
   "metadata": {
    "tags": []
   },
   "outputs": [
    {
     "data": {
      "text/plain": [
       "15"
      ]
     },
     "execution_count": 135,
     "metadata": {},
     "output_type": "execute_result"
    }
   ],
   "source": [
    "df.delivery_time.min()"
   ]
  },
  {
   "cell_type": "code",
   "execution_count": 136,
   "id": "0d50b849-460c-4ff2-bd43-41b595d840af",
   "metadata": {
    "tags": []
   },
   "outputs": [
    {
     "data": {
      "text/plain": [
       "33"
      ]
     },
     "execution_count": 136,
     "metadata": {},
     "output_type": "execute_result"
    }
   ],
   "source": [
    "df.delivery_time.max()"
   ]
  },
  {
   "cell_type": "code",
   "execution_count": 137,
   "id": "e040e49e-b739-4c04-9dcc-550a439ea94b",
   "metadata": {
    "jupyter": {
     "source_hidden": true
    },
    "tags": []
   },
   "outputs": [
    {
     "name": "stdout",
     "output_type": "stream",
     "text": [
      " The minimum time for delivery is 15 which is above the low interquartile : 8.0\n",
      " The maximum time for delivery is 33 which is lesser than the high interquartile : 40.0 \n",
      "\n",
      " We can confidently say there are no outliers in the time of delivery from the foodhub dataset\n"
     ]
    }
   ],
   "source": [
    "print(f\"\"\" The minimum time for delivery is {df.delivery_time.min()} which is above the low interquartile : {low}\n",
    " The maximum time for delivery is {df.delivery_time.max()} which is lesser than the high interquartile : {high} \n",
    "\n",
    " We can confidently say there are no outliers in the time of delivery from the foodhub dataset\"\"\")"
   ]
  },
  {
   "cell_type": "markdown",
   "id": "2f3821e8-f83e-4ec5-959e-397f42e510c4",
   "metadata": {},
   "source": [
    "#### Finding outliers for food_preparation_time"
   ]
  },
  {
   "cell_type": "code",
   "execution_count": 138,
   "id": "caf2e176-a06b-4fe1-8db1-f4e1e89d3a8e",
   "metadata": {
    "tags": []
   },
   "outputs": [
    {
     "data": {
      "text/plain": [
       "8.0"
      ]
     },
     "execution_count": 138,
     "metadata": {},
     "output_type": "execute_result"
    }
   ],
   "source": [
    "# first find for interquartile range\n",
    "IQR_food = df.food_preparation_time.quantile(0.75) - df.food_preparation_time.quantile(0.25)\n",
    "IQR_food"
   ]
  },
  {
   "cell_type": "code",
   "execution_count": 139,
   "id": "8888dd9d-4b57-43bd-9f7f-c568ce86f663",
   "metadata": {
    "tags": []
   },
   "outputs": [
    {
     "data": {
      "text/plain": [
       "11.0"
      ]
     },
     "execution_count": 139,
     "metadata": {},
     "output_type": "execute_result"
    }
   ],
   "source": [
    "# finding low interquartile\n",
    "low_food = df.food_preparation_time.quantile(0.25) - 1.5*IQR_food\n",
    "low_food"
   ]
  },
  {
   "cell_type": "code",
   "execution_count": 46,
   "id": "978fd653-2fed-4e64-9a43-c8480846e7ea",
   "metadata": {
    "tags": []
   },
   "outputs": [],
   "source": [
    "# finding high interquartile"
   ]
  },
  {
   "cell_type": "code",
   "execution_count": 140,
   "id": "677c8cf6-59d1-47b3-b935-46a515471c3e",
   "metadata": {
    "tags": []
   },
   "outputs": [
    {
     "data": {
      "text/plain": [
       "43.0"
      ]
     },
     "execution_count": 140,
     "metadata": {},
     "output_type": "execute_result"
    }
   ],
   "source": [
    "high_food = df.food_preparation_time.quantile(0.75) + 1.5*IQR_food\n",
    "high_food"
   ]
  },
  {
   "cell_type": "code",
   "execution_count": 141,
   "id": "6bbb069e-8731-4128-b914-4ec6db46b42a",
   "metadata": {
    "tags": []
   },
   "outputs": [
    {
     "data": {
      "text/plain": [
       "20"
      ]
     },
     "execution_count": 141,
     "metadata": {},
     "output_type": "execute_result"
    }
   ],
   "source": [
    "df.food_preparation_time.min()"
   ]
  },
  {
   "cell_type": "code",
   "execution_count": 142,
   "id": "90b08fec-a624-41e7-a404-70e3a8aea57a",
   "metadata": {
    "tags": []
   },
   "outputs": [
    {
     "data": {
      "text/plain": [
       "35"
      ]
     },
     "execution_count": 142,
     "metadata": {},
     "output_type": "execute_result"
    }
   ],
   "source": [
    "df.food_preparation_time.max()"
   ]
  },
  {
   "cell_type": "code",
   "execution_count": 143,
   "id": "0d62554c-454c-46a8-b276-9a693424ab7b",
   "metadata": {
    "jupyter": {
     "source_hidden": true
    },
    "tags": []
   },
   "outputs": [
    {
     "name": "stdout",
     "output_type": "stream",
     "text": [
      " The minimum time for food preparation is 20 which is above the low interquartile : 11.0\n",
      " The maximum time for delivery is 35 which is lesser than the high interquartile : 43.0 \n",
      "\n",
      " We can confidently say there are no outliers in the time of food preparation from the foodhub dataset\n"
     ]
    }
   ],
   "source": [
    "print(f\"\"\" The minimum time for food preparation is {df.food_preparation_time.min()} which is above the low interquartile : {low_food}\n",
    " The maximum time for delivery is {df.food_preparation_time.max()} which is lesser than the high interquartile : {high_food} \n",
    "\n",
    " We can confidently say there are no outliers in the time of food preparation from the foodhub dataset\"\"\")"
   ]
  },
  {
   "cell_type": "markdown",
   "id": "ccb91d32-a7bf-4562-95f8-90e9620c8980",
   "metadata": {},
   "source": [
    "#### Finding outliers for the cost of orders"
   ]
  },
  {
   "cell_type": "code",
   "execution_count": 144,
   "id": "21b53a78-2cc7-4858-bbd6-76e90930c32f",
   "metadata": {
    "tags": []
   },
   "outputs": [
    {
     "data": {
      "text/plain": [
       "10.2175"
      ]
     },
     "execution_count": 144,
     "metadata": {},
     "output_type": "execute_result"
    }
   ],
   "source": [
    "# first find for the interquartile range for cost of the orders\n",
    "IQR_cost = df.cost_of_the_order.quantile(0.75) - df.cost_of_the_order.quantile(0.25)\n",
    "IQR_cost"
   ]
  },
  {
   "cell_type": "code",
   "execution_count": 145,
   "id": "b93d7406-3bdd-486c-9724-314da0283f34",
   "metadata": {
    "tags": []
   },
   "outputs": [
    {
     "data": {
      "text/plain": [
       "-3.246249999999998"
      ]
     },
     "execution_count": 145,
     "metadata": {},
     "output_type": "execute_result"
    }
   ],
   "source": [
    "#find low interquartile\n",
    "low_cost = df.cost_of_the_order.quantile(0.25) - 1.5*IQR_cost\n",
    "low_cost"
   ]
  },
  {
   "cell_type": "code",
   "execution_count": 146,
   "id": "b0831f16-0e60-4874-b313-0347df566211",
   "metadata": {
    "tags": []
   },
   "outputs": [
    {
     "data": {
      "text/plain": [
       "37.62375"
      ]
     },
     "execution_count": 146,
     "metadata": {},
     "output_type": "execute_result"
    }
   ],
   "source": [
    "#find high interquartile\n",
    "high_cost = df.cost_of_the_order.quantile(0.75) + 1.5*IQR_cost\n",
    "high_cost"
   ]
  },
  {
   "cell_type": "code",
   "execution_count": 148,
   "id": "b9d264d2-7018-4ef5-add7-cfa0448627f1",
   "metadata": {
    "tags": []
   },
   "outputs": [
    {
     "data": {
      "text/plain": [
       "4.47"
      ]
     },
     "execution_count": 148,
     "metadata": {},
     "output_type": "execute_result"
    }
   ],
   "source": [
    "df.cost_of_the_order.min()"
   ]
  },
  {
   "cell_type": "code",
   "execution_count": 149,
   "id": "f30b8043-9dc3-471e-9744-790e12c5e585",
   "metadata": {
    "tags": []
   },
   "outputs": [
    {
     "data": {
      "text/plain": [
       "35.41"
      ]
     },
     "execution_count": 149,
     "metadata": {},
     "output_type": "execute_result"
    }
   ],
   "source": [
    "df.cost_of_the_order.max()"
   ]
  },
  {
   "cell_type": "code",
   "execution_count": 150,
   "id": "be346f70-2dcd-4677-ab9f-3dfe7b63e60e",
   "metadata": {
    "jupyter": {
     "source_hidden": true
    },
    "tags": []
   },
   "outputs": [
    {
     "name": "stdout",
     "output_type": "stream",
     "text": [
      " The minimum amount for the cost of order is 4.47 which is above the low interquartile : -3.246249999999998\n",
      " The maximum amount for the cost of the order is 35.41 which is lesser than the high interquartile : 37.62375 \n",
      "\n",
      " We can confidently say there are no outliers in the cost of orders from the foodhub dataset\n"
     ]
    }
   ],
   "source": [
    "print(f\"\"\" The minimum amount for the cost of order is {df.cost_of_the_order.min()} which is above the low interquartile : {low_cost}\n",
    " The maximum amount for the cost of the order is {df.cost_of_the_order.max()} which is lesser than the high interquartile : {high_cost} \n",
    "\n",
    " We can confidently say there are no outliers in the cost of orders from the foodhub dataset\"\"\")"
   ]
  },
  {
   "cell_type": "markdown",
   "id": "7fc0914f-a899-48f6-982d-12605553b0f9",
   "metadata": {},
   "source": [
    "#### Finding outliers for rating"
   ]
  },
  {
   "cell_type": "code",
   "execution_count": 151,
   "id": "1e131da7-b4f2-4cbb-b85e-462318e27bb1",
   "metadata": {
    "tags": []
   },
   "outputs": [],
   "source": [
    "#first change Not given to Nan"
   ]
  },
  {
   "cell_type": "code",
   "execution_count": 152,
   "id": "3a44c5e7-be06-4ba8-951d-f31d41818b60",
   "metadata": {
    "tags": []
   },
   "outputs": [],
   "source": [
    "df.rating = df.rating.replace('Not given',np.nan)"
   ]
  },
  {
   "cell_type": "code",
   "execution_count": 153,
   "id": "904d00da-cb64-4cd3-9209-24e40ce74ea9",
   "metadata": {
    "tags": []
   },
   "outputs": [],
   "source": [
    "#convert rating column to float\n",
    "df = df.astype({'rating':'float'})"
   ]
  },
  {
   "cell_type": "code",
   "execution_count": 154,
   "id": "c5967524-d5c7-4cef-a51e-f9a96e6594a9",
   "metadata": {
    "tags": []
   },
   "outputs": [
    {
     "data": {
      "text/plain": [
       "1.0"
      ]
     },
     "execution_count": 154,
     "metadata": {},
     "output_type": "execute_result"
    }
   ],
   "source": [
    "#find interquartile range \n",
    "IQR_rating = df.rating.quantile(0.75) - df.rating.quantile(0.25)\n",
    "IQR_rating"
   ]
  },
  {
   "cell_type": "code",
   "execution_count": 155,
   "id": "5cbbf7f2-c691-41ee-815f-a889b27ae018",
   "metadata": {
    "tags": []
   },
   "outputs": [
    {
     "data": {
      "text/plain": [
       "2.5"
      ]
     },
     "execution_count": 155,
     "metadata": {},
     "output_type": "execute_result"
    }
   ],
   "source": [
    "# finding low quartile\n",
    "low_rating = df.rating.quantile(0.25) - 1.5*IQR_rating\n",
    "low_rating"
   ]
  },
  {
   "cell_type": "code",
   "execution_count": 123,
   "id": "bf1e3046-5754-4259-874a-c4b64d16f857",
   "metadata": {
    "tags": []
   },
   "outputs": [],
   "source": [
    "#finding high quartile"
   ]
  },
  {
   "cell_type": "code",
   "execution_count": 156,
   "id": "b4ac3bb9-b111-46ed-adcf-f7af73f00b11",
   "metadata": {
    "tags": []
   },
   "outputs": [
    {
     "data": {
      "text/plain": [
       "6.5"
      ]
     },
     "execution_count": 156,
     "metadata": {},
     "output_type": "execute_result"
    }
   ],
   "source": [
    "high_rating = df.rating.quantile(0.75) + 1.5*IQR_rating\n",
    "high_rating"
   ]
  },
  {
   "cell_type": "code",
   "execution_count": 157,
   "id": "a859241d-604c-473f-b7f3-0b091407c802",
   "metadata": {
    "tags": []
   },
   "outputs": [
    {
     "data": {
      "text/plain": [
       "3.0"
      ]
     },
     "execution_count": 157,
     "metadata": {},
     "output_type": "execute_result"
    }
   ],
   "source": [
    "df.rating.min()"
   ]
  },
  {
   "cell_type": "code",
   "execution_count": 158,
   "id": "e8ea06d4-0336-4671-a7b1-501f7540d58c",
   "metadata": {
    "tags": []
   },
   "outputs": [
    {
     "data": {
      "text/plain": [
       "5.0"
      ]
     },
     "execution_count": 158,
     "metadata": {},
     "output_type": "execute_result"
    }
   ],
   "source": [
    "df.rating.max()"
   ]
  },
  {
   "cell_type": "code",
   "execution_count": 159,
   "id": "024fb19a-e332-422f-97b3-70a0ad296f8f",
   "metadata": {
    "jupyter": {
     "source_hidden": true
    },
    "tags": []
   },
   "outputs": [
    {
     "name": "stdout",
     "output_type": "stream",
     "text": [
      " The minimum rating is 3.0 which is above the low interquartile : 2.5\n",
      " The maximum rating is 5.0 which is lesser than the high interquartile : 6.5 \n",
      "\n",
      " We can confidently say there are no outliers in the ratings from the foodhub dataset\n"
     ]
    }
   ],
   "source": [
    "print(f\"\"\" The minimum rating is {df.rating.min()} which is above the low interquartile : {low_rating}\n",
    " The maximum rating is {df.rating.max()} which is lesser than the high interquartile : {high_rating} \n",
    "\n",
    " We can confidently say there are no outliers in the ratings from the foodhub dataset\"\"\")"
   ]
  },
  {
   "cell_type": "code",
   "execution_count": null,
   "id": "2285d02b-cc51-47cf-8786-e13f9a25b9da",
   "metadata": {},
   "outputs": [],
   "source": []
  }
 ],
 "metadata": {
  "kernelspec": {
   "display_name": "Python 3 (ipykernel)",
   "language": "python",
   "name": "python3"
  },
  "language_info": {
   "codemirror_mode": {
    "name": "ipython",
    "version": 3
   },
   "file_extension": ".py",
   "mimetype": "text/x-python",
   "name": "python",
   "nbconvert_exporter": "python",
   "pygments_lexer": "ipython3",
   "version": "3.11.4"
  }
 },
 "nbformat": 4,
 "nbformat_minor": 5
}
