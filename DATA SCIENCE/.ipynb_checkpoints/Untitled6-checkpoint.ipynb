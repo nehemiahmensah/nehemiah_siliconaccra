{
 "cells": [
  {
   "cell_type": "code",
   "execution_count": 13,
   "id": "64d7ac76-14a2-4850-9c1e-16b16a68f560",
   "metadata": {
    "tags": []
   },
   "outputs": [],
   "source": [
    "import pandas as pd\n",
    "import requests"
   ]
  },
  {
   "cell_type": "code",
   "execution_count": 15,
   "id": "2091a567-a0bc-49b9-9af8-fa5fa21e34bf",
   "metadata": {
    "tags": []
   },
   "outputs": [],
   "source": [
    "url = requests.get(\"https://www.airlinequality.com/airline-reviews/british-airways/page/2/\")"
   ]
  },
  {
   "cell_type": "code",
   "execution_count": 17,
   "id": "b84b3834-27d4-4899-978b-d9ccadd82871",
   "metadata": {
    "tags": []
   },
   "outputs": [],
   "source": [
    "df = pd.read_html(url.text)"
   ]
  },
  {
   "cell_type": "code",
   "execution_count": 20,
   "id": "00126c25-fbcb-4a6b-99bc-c698de0e71a3",
   "metadata": {
    "tags": []
   },
   "outputs": [
    {
     "data": {
      "text/html": [
       "<div>\n",
       "<style scoped>\n",
       "    .dataframe tbody tr th:only-of-type {\n",
       "        vertical-align: middle;\n",
       "    }\n",
       "\n",
       "    .dataframe tbody tr th {\n",
       "        vertical-align: top;\n",
       "    }\n",
       "\n",
       "    .dataframe thead th {\n",
       "        text-align: right;\n",
       "    }\n",
       "</style>\n",
       "<table border=\"1\" class=\"dataframe\">\n",
       "  <thead>\n",
       "    <tr style=\"text-align: right;\">\n",
       "      <th></th>\n",
       "      <th>0</th>\n",
       "      <th>1</th>\n",
       "    </tr>\n",
       "  </thead>\n",
       "  <tbody>\n",
       "    <tr>\n",
       "      <th>0</th>\n",
       "      <td>Type Of Traveller</td>\n",
       "      <td>Couple Leisure</td>\n",
       "    </tr>\n",
       "    <tr>\n",
       "      <th>1</th>\n",
       "      <td>Seat Type</td>\n",
       "      <td>Economy Class</td>\n",
       "    </tr>\n",
       "    <tr>\n",
       "      <th>2</th>\n",
       "      <td>Route</td>\n",
       "      <td>Seattle to Porto via Heathrow</td>\n",
       "    </tr>\n",
       "    <tr>\n",
       "      <th>3</th>\n",
       "      <td>Date Flown</td>\n",
       "      <td>October 2023</td>\n",
       "    </tr>\n",
       "    <tr>\n",
       "      <th>4</th>\n",
       "      <td>Seat Comfort</td>\n",
       "      <td>12345</td>\n",
       "    </tr>\n",
       "    <tr>\n",
       "      <th>5</th>\n",
       "      <td>Cabin Staff Service</td>\n",
       "      <td>12345</td>\n",
       "    </tr>\n",
       "    <tr>\n",
       "      <th>6</th>\n",
       "      <td>Food &amp; Beverages</td>\n",
       "      <td>12345</td>\n",
       "    </tr>\n",
       "    <tr>\n",
       "      <th>7</th>\n",
       "      <td>Inflight Entertainment</td>\n",
       "      <td>12345</td>\n",
       "    </tr>\n",
       "    <tr>\n",
       "      <th>8</th>\n",
       "      <td>Ground Service</td>\n",
       "      <td>12345</td>\n",
       "    </tr>\n",
       "    <tr>\n",
       "      <th>9</th>\n",
       "      <td>Wifi &amp; Connectivity</td>\n",
       "      <td>12345</td>\n",
       "    </tr>\n",
       "    <tr>\n",
       "      <th>10</th>\n",
       "      <td>Value For Money</td>\n",
       "      <td>12345</td>\n",
       "    </tr>\n",
       "    <tr>\n",
       "      <th>11</th>\n",
       "      <td>Recommended</td>\n",
       "      <td>no</td>\n",
       "    </tr>\n",
       "  </tbody>\n",
       "</table>\n",
       "</div>"
      ],
      "text/plain": [
       "                         0                              1\n",
       "0        Type Of Traveller                 Couple Leisure\n",
       "1                Seat Type                  Economy Class\n",
       "2                    Route  Seattle to Porto via Heathrow\n",
       "3               Date Flown                   October 2023\n",
       "4             Seat Comfort                          12345\n",
       "5      Cabin Staff Service                          12345\n",
       "6         Food & Beverages                          12345\n",
       "7   Inflight Entertainment                          12345\n",
       "8           Ground Service                          12345\n",
       "9      Wifi & Connectivity                          12345\n",
       "10         Value For Money                          12345\n",
       "11             Recommended                             no"
      ]
     },
     "execution_count": 20,
     "metadata": {},
     "output_type": "execute_result"
    }
   ],
   "source": [
    "df[1]"
   ]
  },
  {
   "cell_type": "code",
   "execution_count": null,
   "id": "7cab0ab0-ae5f-4646-b610-71ff60fc7d09",
   "metadata": {},
   "outputs": [],
   "source": []
  }
 ],
 "metadata": {
  "kernelspec": {
   "display_name": "Python 3 (ipykernel)",
   "language": "python",
   "name": "python3"
  },
  "language_info": {
   "codemirror_mode": {
    "name": "ipython",
    "version": 3
   },
   "file_extension": ".py",
   "mimetype": "text/x-python",
   "name": "python",
   "nbconvert_exporter": "python",
   "pygments_lexer": "ipython3",
   "version": "3.11.4"
  }
 },
 "nbformat": 4,
 "nbformat_minor": 5
}
