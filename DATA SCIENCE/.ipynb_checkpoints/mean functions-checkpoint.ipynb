{
 "cells": [
  {
   "cell_type": "code",
   "execution_count": 147,
   "id": "daabeef2-d3a5-4ed4-97d1-9381433883dd",
   "metadata": {
    "tags": []
   },
   "outputs": [],
   "source": [
    "def myfunc(*args): #data,type,weight\n",
    "    means = args[0]\n",
    "    n = len(args[0])\n",
    "    try:\n",
    "    # Geometric Mean\n",
    "        if args[1] == 'gm':\n",
    "            val = 1\n",
    "            for i in means:\n",
    "                val *= i\n",
    "            gm = val **(1/n)\n",
    "            return gm\n",
    "\n",
    "    # Harmonic Mean    \n",
    "        elif args[1] == 'hm':\n",
    "            val = 0\n",
    "            for i in means:\n",
    "                val += i\n",
    "            hm = n/val\n",
    "            return hm\n",
    "\n",
    "    # Weighted Mean\n",
    "        elif args[1] == 'wm':\n",
    "            prod = []\n",
    "            weight = args[2]\n",
    "            for x,y in zip(means,weight):\n",
    "                prod.append(x*y)\n",
    "            mwsum = sum(prod)\n",
    "            weight_sum = sum(weight)\n",
    "            w_mean = mwsum/weight_sum\n",
    "            return w_mean\n",
    "\n",
    "    # Root Mean Square\n",
    "        elif args[1] == 'root':\n",
    "            rt = ((sum(means)/n)**0.5)\n",
    "            return rt\n",
    "        else:\n",
    "            return 'Not here'\n",
    "    except: print('Value Error')\n"
   ]
  },
  {
   "cell_type": "code",
   "execution_count": 152,
   "id": "ef9269fb-cb4e-4ee3-831e-13d09511ceda",
   "metadata": {
    "tags": []
   },
   "outputs": [
    {
     "data": {
      "text/plain": [
       "4.357142857142857"
      ]
     },
     "execution_count": 152,
     "metadata": {},
     "output_type": "execute_result"
    }
   ],
   "source": [
    "# def me(ine,**kwargs):\n",
    "#     re = []\n",
    "#     for i in ine\n",
    "\n",
    "myfunc([8,5,2],'wm',[0.5,0.1,0.8])"
   ]
  },
  {
   "cell_type": "code",
   "execution_count": null,
   "id": "c728cf02-4cbf-4b12-80d2-eaf0467f147d",
   "metadata": {},
   "outputs": [],
   "source": []
  }
 ],
 "metadata": {
  "kernelspec": {
   "display_name": "Python 3 (ipykernel)",
   "language": "python",
   "name": "python3"
  },
  "language_info": {
   "codemirror_mode": {
    "name": "ipython",
    "version": 3
   },
   "file_extension": ".py",
   "mimetype": "text/x-python",
   "name": "python",
   "nbconvert_exporter": "python",
   "pygments_lexer": "ipython3",
   "version": "3.11.4"
  }
 },
 "nbformat": 4,
 "nbformat_minor": 5
}
