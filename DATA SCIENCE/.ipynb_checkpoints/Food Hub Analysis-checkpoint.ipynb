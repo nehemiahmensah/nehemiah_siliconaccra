{
 "cells": [
  {
   "cell_type": "markdown",
   "id": "88b3f27f-c3f5-4a04-bcfb-817d3e480871",
   "metadata": {},
   "source": [
    "### how many rows and colums are in the data\n",
    "what are the datatypes of the \n",
    "\n",
    "are there any missing values in the data? If yes, treat them using an appropriate method \n"
   ]
  },
  {
   "cell_type": "markdown",
   "id": "9e619812-11ea-4216-8610-c22328cba047",
   "metadata": {},
   "source": [
    "### SETUP"
   ]
  },
  {
   "cell_type": "code",
   "execution_count": 206,
   "id": "df620135-0e29-483f-9164-ec1db0311287",
   "metadata": {
    "tags": []
   },
   "outputs": [],
   "source": [
    "import pandas as pd\n",
    "import numpy as np"
   ]
  },
  {
   "cell_type": "markdown",
   "id": "56612464-07e4-49ca-b82f-980e88e29199",
   "metadata": {},
   "source": [
    "### IMPORT DATASET"
   ]
  },
  {
   "cell_type": "code",
   "execution_count": 207,
   "id": "ddbd73fa-a23d-474c-b171-9e4d9db14fb9",
   "metadata": {
    "tags": []
   },
   "outputs": [],
   "source": [
    "df = pd.read_csv(\"foodhub_order.csv\")"
   ]
  },
  {
   "cell_type": "markdown",
   "id": "d0b21b57-8f90-4b81-8ecf-8e281669d053",
   "metadata": {},
   "source": [
    "#### QUESTION 1: HOW MANY ROWS AND COLUMNS ARE PRESENT IN THE DATA?"
   ]
  },
  {
   "cell_type": "code",
   "execution_count": 208,
   "id": "ed1a310c-7be7-4760-82c3-476078dd9345",
   "metadata": {
    "tags": []
   },
   "outputs": [
    {
     "name": "stdout",
     "output_type": "stream",
     "text": [
      "There are 1898 rows and 9 columns present in the data\n"
     ]
    }
   ],
   "source": [
    "print(f\"There are {df.shape[0]} rows and {df.shape[1]} columns present in the data\")"
   ]
  },
  {
   "cell_type": "markdown",
   "id": "3d874e9b-7ebb-4e3b-9bde-6f1a6a154e86",
   "metadata": {},
   "source": [
    "#### QUESTION 2: WHAT ARE THE DATATYPES OF THE DIFFERENT COLUMNS IN THE DATASET?(THE INFO() FUNCTION CAN BE USED)"
   ]
  },
  {
   "cell_type": "code",
   "execution_count": 209,
   "id": "4e37186c-4e2f-4f3b-8806-1e5dfb316c5a",
   "metadata": {
    "tags": []
   },
   "outputs": [
    {
     "name": "stdout",
     "output_type": "stream",
     "text": [
      "<class 'pandas.core.frame.DataFrame'>\n",
      "RangeIndex: 1898 entries, 0 to 1897\n",
      "Data columns (total 9 columns):\n",
      " #   Column                 Dtype  \n",
      "---  ------                 -----  \n",
      " 0   order_id               int64  \n",
      " 1   customer_id            int64  \n",
      " 2   restaurant_name        object \n",
      " 3   cuisine_type           object \n",
      " 4   cost_of_the_order      float64\n",
      " 5   day_of_the_week        object \n",
      " 6   rating                 object \n",
      " 7   food_preparation_time  int64  \n",
      " 8   delivery_time          int64  \n",
      "dtypes: float64(1), int64(4), object(4)\n",
      "memory usage: 133.6+ KB\n"
     ]
    }
   ],
   "source": [
    "df.info(show_counts = False)"
   ]
  },
  {
   "cell_type": "markdown",
   "id": "cc8751f0-bb0a-421b-b38e-3676b0136740",
   "metadata": {},
   "source": [
    "#### QUESTION 3: ARE THERE ANY MISSING VALUES IN THE DATA? IF YES, TREAT THEM USING AN APPROPRIATE METHOD"
   ]
  },
  {
   "cell_type": "code",
   "execution_count": 42,
   "id": "f26caa71-aabf-4d7d-aefd-c51b1a0d9788",
   "metadata": {
    "tags": []
   },
   "outputs": [],
   "source": [
    "### cleaning data for rating column"
   ]
  },
  {
   "cell_type": "code",
   "execution_count": 198,
   "id": "5968178d-2237-4aa8-bfd5-397b73629c5f",
   "metadata": {
    "tags": []
   },
   "outputs": [],
   "source": [
    "df.rating = df.rating.replace(\"Not given\", np.nan)"
   ]
  },
  {
   "cell_type": "code",
   "execution_count": 91,
   "id": "52083e44-939a-41a7-8d43-25927aa5cdd1",
   "metadata": {
    "tags": []
   },
   "outputs": [],
   "source": [
    "### convert rating column from object to int"
   ]
  },
  {
   "cell_type": "code",
   "execution_count": 205,
   "id": "f3e4e20b-e6a0-4624-a2ee-09ec7e894303",
   "metadata": {
    "tags": []
   },
   "outputs": [],
   "source": [
    "#df = df.astype({'rating':'int'})"
   ]
  },
  {
   "cell_type": "markdown",
   "id": "79526917-6ea5-4c72-8d53-1bb0f6ff09bd",
   "metadata": {},
   "source": [
    "#### QUESTION 4: CHECK THE STATISTICAL SUMMARY OF THE DATA. WHAT IS THE MINIMUM,AVERAGE, AND MAXIMUM TIME IT TAKES FOR FOOD TO BE PREPARED ONCE AN ORDER IS PLACED?"
   ]
  },
  {
   "cell_type": "code",
   "execution_count": 210,
   "id": "5e774803-0628-4556-96b3-f5fe0984b80f",
   "metadata": {
    "tags": []
   },
   "outputs": [
    {
     "name": "stdout",
     "output_type": "stream",
     "text": [
      " The minimum time it takes for food to be prepared once order is placed is 20 minutes\n"
     ]
    }
   ],
   "source": [
    "print(f\" The minimum time it takes for food to be prepared once order is placed is {df.food_preparation_time.min()} minutes\")"
   ]
  },
  {
   "cell_type": "code",
   "execution_count": 211,
   "id": "46dfb9a4-f439-4fb9-b203-29eafea6c982",
   "metadata": {
    "tags": []
   },
   "outputs": [
    {
     "name": "stdout",
     "output_type": "stream",
     "text": [
      " The average time it takes for food to be prepared once order is placed is 27.371970495258168 minutes\n"
     ]
    }
   ],
   "source": [
    "print(f\" The average time it takes for food to be prepared once order is placed is {df.food_preparation_time.sum()/len(df.food_preparation_time)} minutes\")"
   ]
  },
  {
   "cell_type": "code",
   "execution_count": 212,
   "id": "80a80794-d58d-47c2-9502-f5d129337237",
   "metadata": {
    "tags": []
   },
   "outputs": [
    {
     "name": "stdout",
     "output_type": "stream",
     "text": [
      " The maximum time it takes for food to be prepared once order is placed is 35 minutes\n"
     ]
    }
   ],
   "source": [
    "print(f\" The maximum time it takes for food to be prepared once order is placed is {df.food_preparation_time.max()} minutes\")"
   ]
  },
  {
   "cell_type": "code",
   "execution_count": 245,
   "id": "4296ef00-bdc8-4097-a598-66c52b68ad9f",
   "metadata": {
    "tags": []
   },
   "outputs": [
    {
     "data": {
      "text/plain": [
       "count    1898.000000\n",
       "mean       27.371970\n",
       "std         4.632481\n",
       "min        20.000000\n",
       "25%        23.000000\n",
       "50%        27.000000\n",
       "75%        31.000000\n",
       "max        35.000000\n",
       "Name: food_preparation_time, dtype: float64"
      ]
     },
     "execution_count": 245,
     "metadata": {},
     "output_type": "execute_result"
    }
   ],
   "source": [
    "df.describe().food_preparation_time"
   ]
  },
  {
   "cell_type": "markdown",
   "id": "a9c15c7a-a9a9-40d8-b446-4aebb4465f6a",
   "metadata": {},
   "source": [
    "#### QUESTION 5: HOW MANY ORDERS ARE NOT RATED"
   ]
  },
  {
   "cell_type": "code",
   "execution_count": 213,
   "id": "a0a40b32-3640-4966-a76f-62d45200d1ac",
   "metadata": {
    "tags": []
   },
   "outputs": [
    {
     "name": "stdout",
     "output_type": "stream",
     "text": [
      "Then number of orders that are not rated are 736 orders\n"
     ]
    }
   ],
   "source": [
    "print(f\"Then number of orders that are not rated are {len(df[df.rating == 'Not given'])} orders\")"
   ]
  },
  {
   "cell_type": "markdown",
   "id": "b72d1b6b-eb61-4b5b-a9fa-8e5084b64a71",
   "metadata": {},
   "source": [
    "#### QUESTION 6: WHICH ARE THE TOP 5 RESTAURANTS IN TERMS OF THE NUMBER OF ORDERS RECEIVED?"
   ]
  },
  {
   "cell_type": "code",
   "execution_count": 214,
   "id": "ac3c07c1-372e-48ae-b688-99f80610d9e9",
   "metadata": {
    "tags": []
   },
   "outputs": [
    {
     "data": {
      "text/plain": [
       "Index(['order_id', 'customer_id', 'restaurant_name', 'cuisine_type',\n",
       "       'cost_of_the_order', 'day_of_the_week', 'rating',\n",
       "       'food_preparation_time', 'delivery_time'],\n",
       "      dtype='object')"
      ]
     },
     "execution_count": 214,
     "metadata": {},
     "output_type": "execute_result"
    }
   ],
   "source": [
    "df.columns"
   ]
  },
  {
   "cell_type": "code",
   "execution_count": 215,
   "id": "1db0d223-14ad-49ba-9c15-24db68c1ba56",
   "metadata": {
    "tags": []
   },
   "outputs": [
    {
     "data": {
      "text/plain": [
       "Shake Shack                  219\n",
       "The Meatball Shop            132\n",
       "Blue Ribbon Sushi            119\n",
       "Blue Ribbon Fried Chicken     96\n",
       "Parm                          68\n",
       "                            ... \n",
       "Sushi Choshi                   1\n",
       "Dos Caminos Soho               1\n",
       "La Follia                      1\n",
       "Philippe Chow                  1\n",
       "'wichcraft                     1\n",
       "Name: restaurant_name, Length: 178, dtype: int64"
      ]
     },
     "execution_count": 215,
     "metadata": {},
     "output_type": "execute_result"
    }
   ],
   "source": [
    "df.restaurant_name.value_counts()"
   ]
  },
  {
   "cell_type": "markdown",
   "id": "29533ba7-e75a-4bce-8e7b-f9a0e4dc26f3",
   "metadata": {},
   "source": [
    "#### QUESTION 7: WHICH IS THE MOST POPULAR CUISINE ON WEEKENDS"
   ]
  },
  {
   "cell_type": "code",
   "execution_count": 243,
   "id": "e2196344-4840-4908-b274-1b9dd0b472b6",
   "metadata": {
    "tags": []
   },
   "outputs": [],
   "source": [
    "week = df[df.day_of_the_week == 'Weekend']"
   ]
  },
  {
   "cell_type": "code",
   "execution_count": 264,
   "id": "73825456-c91e-4283-aa32-4d9dea67d19e",
   "metadata": {
    "tags": []
   },
   "outputs": [
    {
     "data": {
      "text/plain": [
       "Shake Shack    145\n",
       "Name: restaurant_name, dtype: int64"
      ]
     },
     "execution_count": 264,
     "metadata": {},
     "output_type": "execute_result"
    }
   ],
   "source": [
    "week.restaurant_name.value_counts().head(1)"
   ]
  },
  {
   "cell_type": "markdown",
   "id": "a562273b-0616-4bbc-8f45-c1d70bd8eb78",
   "metadata": {},
   "source": [
    "#### QUESTION 8: WHAT PERCENTAGE OF ORDERS COST MORE THAN 20 DOLLARS?"
   ]
  },
  {
   "cell_type": "code",
   "execution_count": 230,
   "id": "4aff7c6f-b46d-4ed7-b555-99e7574bffba",
   "metadata": {
    "tags": []
   },
   "outputs": [],
   "source": [
    "orders_20 = df[df.cost_of_the_order > 20] #normlize = True"
   ]
  },
  {
   "cell_type": "code",
   "execution_count": 163,
   "id": "4b34980a-552e-48b5-b0ed-ffbed004c846",
   "metadata": {
    "tags": []
   },
   "outputs": [],
   "source": [
    "percent = int((len(orders_20)/len(df)) * 100)"
   ]
  },
  {
   "cell_type": "code",
   "execution_count": 184,
   "id": "a7598f23-42ba-410e-b897-5f1813d1029a",
   "metadata": {
    "tags": []
   },
   "outputs": [
    {
     "name": "stdout",
     "output_type": "stream",
     "text": [
      " The percentage of orders which cost more than 20 Dollars is 29% \n"
     ]
    }
   ],
   "source": [
    "print(f\" The percentage of orders which cost more than 20 Dollars is {percent}% \")"
   ]
  },
  {
   "cell_type": "markdown",
   "id": "7338397c-a36a-4166-a2e6-c7a1ba461ef5",
   "metadata": {},
   "source": [
    "#### QUESTION 9: WHAT IS THE MEAN ORER DELIVERY TIME"
   ]
  },
  {
   "cell_type": "code",
   "execution_count": 249,
   "id": "7e531a13-307e-4e8d-bf67-7e3884b7f662",
   "metadata": {
    "tags": []
   },
   "outputs": [
    {
     "name": "stdout",
     "output_type": "stream",
     "text": [
      "The mean for order delivery time is 24.161749209694417\n"
     ]
    }
   ],
   "source": [
    "print(f\"The mean for order delivery time is {df.delivery_time.sum()/len(df.delivery_time)}\")"
   ]
  },
  {
   "cell_type": "markdown",
   "id": "44813a96-4be9-4ab5-a0ab-0858fcd31beb",
   "metadata": {},
   "source": [
    "#### QUESTION 10: THE COMPANY HAS DECIDED TO GIVE 20% DISCOUNT VOUCHERS TO THE 3 MOST FREQUENT CUSTOMERS. FIND THE IDs OF THESE CUSTOMERS AND THE NUMBER OF ORDERS THEY PLACED"
   ]
  },
  {
   "cell_type": "code",
   "execution_count": 177,
   "id": "5ed40844-7855-42d1-8a71-941a15caca91",
   "metadata": {
    "tags": []
   },
   "outputs": [
    {
     "data": {
      "text/plain": [
       "104548"
      ]
     },
     "execution_count": 177,
     "metadata": {},
     "output_type": "execute_result"
    }
   ],
   "source": [
    "df.customer_id[df.customer_id.value_counts().max()]"
   ]
  },
  {
   "cell_type": "code",
   "execution_count": 187,
   "id": "25b50fe7-8049-47c2-9dcf-e64feafb0222",
   "metadata": {
    "tags": []
   },
   "outputs": [
    {
     "data": {
      "text/plain": [
       "52832     13\n",
       "47440     10\n",
       "83287      9\n",
       "250494     8\n",
       "259341     7\n",
       "          ..\n",
       "385426     1\n",
       "254913     1\n",
       "289597     1\n",
       "74412      1\n",
       "397537     1\n",
       "Name: customer_id, Length: 1200, dtype: int64"
      ]
     },
     "execution_count": 187,
     "metadata": {},
     "output_type": "execute_result"
    }
   ],
   "source": [
    "df.customer_id.value_counts()"
   ]
  },
  {
   "cell_type": "markdown",
   "id": "05f55c02-c0a2-4aa6-ba33-9abd6c5b8029",
   "metadata": {},
   "source": [
    "#### QUESTION 11: THE COMPANY WANTS TO PROVIDE A PROMOITIONAL OfFER IN THE ADVERTISEMENT OF THE RESTAURANTS. THE CONDITION TO GET THE OFFER IS THAT THE RESTUARANTS MUST HAVE A RATING COUNT OF MORE THAN 50 AND THE AVERAGE RATING SHOULD BE GREATER THAN 4. FIND THE RESTAURANTS FULFILLING THE CRITERIA TO GET THE PROMOTIONAL OFFER."
   ]
  },
  {
   "cell_type": "code",
   "execution_count": 218,
   "id": "5e4b9903-9815-4df5-b023-5d000ccd11e0",
   "metadata": {
    "tags": []
   },
   "outputs": [
    {
     "data": {
      "text/html": [
       "<div>\n",
       "<style scoped>\n",
       "    .dataframe tbody tr th:only-of-type {\n",
       "        vertical-align: middle;\n",
       "    }\n",
       "\n",
       "    .dataframe tbody tr th {\n",
       "        vertical-align: top;\n",
       "    }\n",
       "\n",
       "    .dataframe thead th {\n",
       "        text-align: right;\n",
       "    }\n",
       "</style>\n",
       "<table border=\"1\" class=\"dataframe\">\n",
       "  <thead>\n",
       "    <tr style=\"text-align: right;\">\n",
       "      <th></th>\n",
       "      <th>order_id</th>\n",
       "      <th>customer_id</th>\n",
       "      <th>restaurant_name</th>\n",
       "      <th>cuisine_type</th>\n",
       "      <th>cost_of_the_order</th>\n",
       "      <th>day_of_the_week</th>\n",
       "      <th>rating</th>\n",
       "      <th>food_preparation_time</th>\n",
       "      <th>delivery_time</th>\n",
       "    </tr>\n",
       "  </thead>\n",
       "  <tbody>\n",
       "    <tr>\n",
       "      <th>1877</th>\n",
       "      <td>1478304</td>\n",
       "      <td>321492</td>\n",
       "      <td>'wichcraft</td>\n",
       "      <td>American</td>\n",
       "      <td>8.10</td>\n",
       "      <td>Weekday</td>\n",
       "      <td>5</td>\n",
       "      <td>28</td>\n",
       "      <td>28</td>\n",
       "    </tr>\n",
       "    <tr>\n",
       "      <th>1583</th>\n",
       "      <td>1476757</td>\n",
       "      <td>115610</td>\n",
       "      <td>12 Chairs</td>\n",
       "      <td>Middle Eastern</td>\n",
       "      <td>14.12</td>\n",
       "      <td>Weekend</td>\n",
       "      <td>Not given</td>\n",
       "      <td>31</td>\n",
       "      <td>27</td>\n",
       "    </tr>\n",
       "    <tr>\n",
       "      <th>1457</th>\n",
       "      <td>1477848</td>\n",
       "      <td>276192</td>\n",
       "      <td>12 Chairs</td>\n",
       "      <td>Middle Eastern</td>\n",
       "      <td>29.05</td>\n",
       "      <td>Weekday</td>\n",
       "      <td>5</td>\n",
       "      <td>28</td>\n",
       "      <td>32</td>\n",
       "    </tr>\n",
       "    <tr>\n",
       "      <th>910</th>\n",
       "      <td>1477681</td>\n",
       "      <td>225912</td>\n",
       "      <td>12 Chairs</td>\n",
       "      <td>Middle Eastern</td>\n",
       "      <td>16.30</td>\n",
       "      <td>Weekday</td>\n",
       "      <td>4</td>\n",
       "      <td>27</td>\n",
       "      <td>26</td>\n",
       "    </tr>\n",
       "    <tr>\n",
       "      <th>925</th>\n",
       "      <td>1477960</td>\n",
       "      <td>375098</td>\n",
       "      <td>12 Chairs</td>\n",
       "      <td>Middle Eastern</td>\n",
       "      <td>29.10</td>\n",
       "      <td>Weekend</td>\n",
       "      <td>Not given</td>\n",
       "      <td>22</td>\n",
       "      <td>26</td>\n",
       "    </tr>\n",
       "    <tr>\n",
       "      <th>...</th>\n",
       "      <td>...</td>\n",
       "      <td>...</td>\n",
       "      <td>...</td>\n",
       "      <td>...</td>\n",
       "      <td>...</td>\n",
       "      <td>...</td>\n",
       "      <td>...</td>\n",
       "      <td>...</td>\n",
       "      <td>...</td>\n",
       "    </tr>\n",
       "    <tr>\n",
       "      <th>363</th>\n",
       "      <td>1477490</td>\n",
       "      <td>232035</td>\n",
       "      <td>ilili Restaurant</td>\n",
       "      <td>Middle Eastern</td>\n",
       "      <td>9.17</td>\n",
       "      <td>Weekend</td>\n",
       "      <td>Not given</td>\n",
       "      <td>26</td>\n",
       "      <td>19</td>\n",
       "    </tr>\n",
       "    <tr>\n",
       "      <th>182</th>\n",
       "      <td>1476875</td>\n",
       "      <td>373353</td>\n",
       "      <td>indikitch</td>\n",
       "      <td>Indian</td>\n",
       "      <td>22.26</td>\n",
       "      <td>Weekend</td>\n",
       "      <td>Not given</td>\n",
       "      <td>35</td>\n",
       "      <td>16</td>\n",
       "    </tr>\n",
       "    <tr>\n",
       "      <th>460</th>\n",
       "      <td>1477901</td>\n",
       "      <td>353676</td>\n",
       "      <td>indikitch</td>\n",
       "      <td>Indian</td>\n",
       "      <td>9.26</td>\n",
       "      <td>Weekend</td>\n",
       "      <td>5</td>\n",
       "      <td>33</td>\n",
       "      <td>26</td>\n",
       "    </tr>\n",
       "    <tr>\n",
       "      <th>601</th>\n",
       "      <td>1478055</td>\n",
       "      <td>7567</td>\n",
       "      <td>indikitch</td>\n",
       "      <td>Indian</td>\n",
       "      <td>5.58</td>\n",
       "      <td>Weekend</td>\n",
       "      <td>Not given</td>\n",
       "      <td>35</td>\n",
       "      <td>30</td>\n",
       "    </tr>\n",
       "    <tr>\n",
       "      <th>1069</th>\n",
       "      <td>1477984</td>\n",
       "      <td>353676</td>\n",
       "      <td>indikitch</td>\n",
       "      <td>Indian</td>\n",
       "      <td>14.07</td>\n",
       "      <td>Weekend</td>\n",
       "      <td>4</td>\n",
       "      <td>20</td>\n",
       "      <td>30</td>\n",
       "    </tr>\n",
       "  </tbody>\n",
       "</table>\n",
       "<p>1898 rows × 9 columns</p>\n",
       "</div>"
      ],
      "text/plain": [
       "      order_id  customer_id   restaurant_name    cuisine_type  \\\n",
       "1877   1478304       321492        'wichcraft        American   \n",
       "1583   1476757       115610         12 Chairs  Middle Eastern   \n",
       "1457   1477848       276192         12 Chairs  Middle Eastern   \n",
       "910    1477681       225912         12 Chairs  Middle Eastern   \n",
       "925    1477960       375098         12 Chairs  Middle Eastern   \n",
       "...        ...          ...               ...             ...   \n",
       "363    1477490       232035  ilili Restaurant  Middle Eastern   \n",
       "182    1476875       373353         indikitch          Indian   \n",
       "460    1477901       353676         indikitch          Indian   \n",
       "601    1478055         7567         indikitch          Indian   \n",
       "1069   1477984       353676         indikitch          Indian   \n",
       "\n",
       "      cost_of_the_order day_of_the_week     rating  food_preparation_time  \\\n",
       "1877               8.10         Weekday          5                     28   \n",
       "1583              14.12         Weekend  Not given                     31   \n",
       "1457              29.05         Weekday          5                     28   \n",
       "910               16.30         Weekday          4                     27   \n",
       "925               29.10         Weekend  Not given                     22   \n",
       "...                 ...             ...        ...                    ...   \n",
       "363                9.17         Weekend  Not given                     26   \n",
       "182               22.26         Weekend  Not given                     35   \n",
       "460                9.26         Weekend          5                     33   \n",
       "601                5.58         Weekend  Not given                     35   \n",
       "1069              14.07         Weekend          4                     20   \n",
       "\n",
       "      delivery_time  \n",
       "1877             28  \n",
       "1583             27  \n",
       "1457             32  \n",
       "910              26  \n",
       "925              26  \n",
       "...             ...  \n",
       "363              19  \n",
       "182              16  \n",
       "460              26  \n",
       "601              30  \n",
       "1069             30  \n",
       "\n",
       "[1898 rows x 9 columns]"
      ]
     },
     "execution_count": 218,
     "metadata": {},
     "output_type": "execute_result"
    }
   ],
   "source": [
    "df.sort_values(by = \"restaurant_name\")"
   ]
  },
  {
   "cell_type": "code",
   "execution_count": 229,
   "id": "f881d12b-51af-42bd-b9c5-ab65a24fa206",
   "metadata": {
    "tags": []
   },
   "outputs": [
    {
     "data": {
      "text/html": [
       "<div>\n",
       "<style scoped>\n",
       "    .dataframe tbody tr th:only-of-type {\n",
       "        vertical-align: middle;\n",
       "    }\n",
       "\n",
       "    .dataframe tbody tr th {\n",
       "        vertical-align: top;\n",
       "    }\n",
       "\n",
       "    .dataframe thead th {\n",
       "        text-align: right;\n",
       "    }\n",
       "</style>\n",
       "<table border=\"1\" class=\"dataframe\">\n",
       "  <thead>\n",
       "    <tr style=\"text-align: right;\">\n",
       "      <th></th>\n",
       "      <th>restaurant_name</th>\n",
       "      <th>rating</th>\n",
       "    </tr>\n",
       "  </thead>\n",
       "  <tbody>\n",
       "    <tr>\n",
       "      <th>0</th>\n",
       "      <td>Hangawi</td>\n",
       "      <td>Not given</td>\n",
       "    </tr>\n",
       "    <tr>\n",
       "      <th>1</th>\n",
       "      <td>Blue Ribbon Sushi Izakaya</td>\n",
       "      <td>Not given</td>\n",
       "    </tr>\n",
       "    <tr>\n",
       "      <th>2</th>\n",
       "      <td>Cafe Habana</td>\n",
       "      <td>5</td>\n",
       "    </tr>\n",
       "    <tr>\n",
       "      <th>3</th>\n",
       "      <td>Blue Ribbon Fried Chicken</td>\n",
       "      <td>3</td>\n",
       "    </tr>\n",
       "    <tr>\n",
       "      <th>4</th>\n",
       "      <td>Dirty Bird to Go</td>\n",
       "      <td>4</td>\n",
       "    </tr>\n",
       "    <tr>\n",
       "      <th>...</th>\n",
       "      <td>...</td>\n",
       "      <td>...</td>\n",
       "    </tr>\n",
       "    <tr>\n",
       "      <th>1893</th>\n",
       "      <td>Chipotle Mexican Grill $1.99 Delivery</td>\n",
       "      <td>5</td>\n",
       "    </tr>\n",
       "    <tr>\n",
       "      <th>1894</th>\n",
       "      <td>The Smile</td>\n",
       "      <td>5</td>\n",
       "    </tr>\n",
       "    <tr>\n",
       "      <th>1895</th>\n",
       "      <td>Blue Ribbon Sushi</td>\n",
       "      <td>Not given</td>\n",
       "    </tr>\n",
       "    <tr>\n",
       "      <th>1896</th>\n",
       "      <td>Jack's Wife Freda</td>\n",
       "      <td>5</td>\n",
       "    </tr>\n",
       "    <tr>\n",
       "      <th>1897</th>\n",
       "      <td>Blue Ribbon Sushi</td>\n",
       "      <td>Not given</td>\n",
       "    </tr>\n",
       "  </tbody>\n",
       "</table>\n",
       "<p>1898 rows × 2 columns</p>\n",
       "</div>"
      ],
      "text/plain": [
       "                            restaurant_name     rating\n",
       "0                                   Hangawi  Not given\n",
       "1                 Blue Ribbon Sushi Izakaya  Not given\n",
       "2                               Cafe Habana          5\n",
       "3                 Blue Ribbon Fried Chicken          3\n",
       "4                          Dirty Bird to Go          4\n",
       "...                                     ...        ...\n",
       "1893  Chipotle Mexican Grill $1.99 Delivery          5\n",
       "1894                              The Smile          5\n",
       "1895                      Blue Ribbon Sushi  Not given\n",
       "1896                      Jack's Wife Freda          5\n",
       "1897                      Blue Ribbon Sushi  Not given\n",
       "\n",
       "[1898 rows x 2 columns]"
      ]
     },
     "execution_count": 229,
     "metadata": {},
     "output_type": "execute_result"
    }
   ],
   "source": [
    "df.iloc[:,[2,6]]"
   ]
  },
  {
   "cell_type": "code",
   "execution_count": 263,
   "id": "5a7d1d5b-1ed6-4eb2-aa26-fb18a36865ee",
   "metadata": {
    "tags": []
   },
   "outputs": [
    {
     "data": {
      "text/plain": [
       "American          584\n",
       "Japanese          470\n",
       "Italian           298\n",
       "Chinese           215\n",
       "Mexican            77\n",
       "Indian             73\n",
       "Middle Eastern     49\n",
       "Mediterranean      46\n",
       "Thai               19\n",
       "French             18\n",
       "Southern           17\n",
       "Korean             13\n",
       "Spanish            12\n",
       "Vietnamese          7\n",
       "Name: cuisine_type, dtype: int64"
      ]
     },
     "execution_count": 263,
     "metadata": {},
     "output_type": "execute_result"
    }
   ],
   "source": [
    "df.cuisine_type.value_counts()"
   ]
  },
  {
   "cell_type": "code",
   "execution_count": null,
   "id": "ec4760b6-0cf2-4aed-b37b-1e725d0e41e1",
   "metadata": {},
   "outputs": [],
   "source": []
  }
 ],
 "metadata": {
  "kernelspec": {
   "display_name": "Python 3 (ipykernel)",
   "language": "python",
   "name": "python3"
  },
  "language_info": {
   "codemirror_mode": {
    "name": "ipython",
    "version": 3
   },
   "file_extension": ".py",
   "mimetype": "text/x-python",
   "name": "python",
   "nbconvert_exporter": "python",
   "pygments_lexer": "ipython3",
   "version": "3.11.4"
  }
 },
 "nbformat": 4,
 "nbformat_minor": 5
}
