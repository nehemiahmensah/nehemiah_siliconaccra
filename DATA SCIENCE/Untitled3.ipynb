{
 "cells": [
  {
   "cell_type": "code",
   "execution_count": 8,
   "id": "f0af04dd-7058-4fea-a4cc-734d3b6e5178",
   "metadata": {},
   "outputs": [],
   "source": [
    "class DataObj():\n",
    "    def init(self, *args, **kwargs):\n",
    "        self.data = list(args[0]) if args else []\n",
    "        self.add = list(kwargs.get('additional_list', []))\n",
    "        self.mean = kwargs.get('calculate_mean', False)\n",
    "    \n",
    "    def add(self, other):\n",
    "        if isinstance(other, CustomListOperations):\n",
    "            return CustomListOperations(self.data + other.data,\n",
    "                                        additional_list=self.add + other.add,\n",
    "                                        calculate_mean=self.mean or other.mean)\n",
    "        else:\n",
    "            raise ValueError(\"Unsupported\")\n",
    "    \n",
    "    def calculate_mean(self):\n",
    "        if self.calculate_mean:\n",
    "            return sum(self.data) / len(self.data)\n",
    "        else:\n",
    "            raise ValueError(\"Unsupported\")\n"
   ]
  },
  {
   "cell_type": "code",
   "execution_count": 9,
   "id": "c32506eb-d37b-4707-a3c2-e4e51fb07e6e",
   "metadata": {
    "tags": []
   },
   "outputs": [
    {
     "ename": "TypeError",
     "evalue": "CustomListOperations() takes no arguments",
     "output_type": "error",
     "traceback": [
      "\u001b[0;31m---------------------------------------------------------------------------\u001b[0m",
      "\u001b[0;31mTypeError\u001b[0m                                 Traceback (most recent call last)",
      "Cell \u001b[0;32mIn[9], line 5\u001b[0m\n\u001b[1;32m      2\u001b[0m list1 \u001b[38;5;241m=\u001b[39m [\u001b[38;5;241m1\u001b[39m, \u001b[38;5;241m2\u001b[39m, \u001b[38;5;241m3\u001b[39m]\n\u001b[1;32m      3\u001b[0m list2 \u001b[38;5;241m=\u001b[39m [\u001b[38;5;241m4\u001b[39m, \u001b[38;5;241m5\u001b[39m, \u001b[38;5;241m6\u001b[39m]\n\u001b[0;32m----> 5\u001b[0m custom \u001b[38;5;241m=\u001b[39m CustomListOperations(([\u001b[38;5;241m1\u001b[39m, \u001b[38;5;241m2\u001b[39m, \u001b[38;5;241m3\u001b[39m],[\u001b[38;5;241m4\u001b[39m, \u001b[38;5;241m5\u001b[39m, \u001b[38;5;241m6\u001b[39m]))\n\u001b[1;32m      6\u001b[0m custom\u001b[38;5;241m.\u001b[39minput_list\n",
      "\u001b[0;31mTypeError\u001b[0m: CustomListOperations() takes no arguments"
     ]
    }
   ],
   "source": [
    "# Example usage:\n",
    "list1 = [1, 2, 3]\n",
    "list2 = [4, 5, 6]\n",
    "\n",
    "custom = (([1, 2, 3],[4, 5, 6]))\n",
    "custom.input_list\n",
    "\n",
    "# custom_list1 = CustomListOperations(list1, additional_list=list2, calculate_mean=True)\n",
    "# print(custom_list1.calculate_mean())  # Output: 3.5\n",
    "\n",
    "# custom_list2 = CustomListOperations([7, 8, 9], calculate_mean=True)\n",
    "# print(custom_list2.calculate_mean())  # Output: 8.0\n",
    "\n",
    "# result_list = custom_list1 + custom_list2\n",
    "# print(result_list.calculate_mean())  # Output: 5.25\n"
   ]
  },
  {
   "cell_type": "code",
   "execution_count": null,
   "id": "5899c9dd-e9be-4060-b6c6-06faec846c5d",
   "metadata": {},
   "outputs": [],
   "source": []
  },
  {
   "cell_type": "code",
   "execution_count": null,
   "id": "aa252ec5-3261-4f7c-9063-fd5f0af9e767",
   "metadata": {},
   "outputs": [],
   "source": []
  }
 ],
 "metadata": {
  "kernelspec": {
   "display_name": "Python 3 (ipykernel)",
   "language": "python",
   "name": "python3"
  },
  "language_info": {
   "codemirror_mode": {
    "name": "ipython",
    "version": 3
   },
   "file_extension": ".py",
   "mimetype": "text/x-python",
   "name": "python",
   "nbconvert_exporter": "python",
   "pygments_lexer": "ipython3",
   "version": "3.11.4"
  }
 },
 "nbformat": 4,
 "nbformat_minor": 5
}
